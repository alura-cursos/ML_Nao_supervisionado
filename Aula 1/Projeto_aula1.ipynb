{
  "nbformat": 4,
  "nbformat_minor": 0,
  "metadata": {
    "colab": {
      "name": "Projeto_aula1.ipynb",
      "provenance": [],
      "collapsed_sections": []
    },
    "kernelspec": {
      "name": "python3",
      "display_name": "Python 3"
    },
    "language_info": {
      "name": "python"
    }
  },
  "cells": [
    {
      "cell_type": "markdown",
      "source": [
        "# Machine Learning Não Supervisionado: primeiras técnicas e métodos"
      ],
      "metadata": {
        "id": "awLIHqvjnAoC"
      }
    },
    {
      "cell_type": "markdown",
      "source": [
        "## Aula 1 - Machine Learning Não Supervisionado\n",
        "\n",
        "### Vídeo 1.1 - Apresentação\n",
        " "
      ],
      "metadata": {
        "id": "sAD9v5u2owIC"
      }
    },
    {
      "cell_type": "markdown",
      "source": [
        "### Vídeo 1.2 - O que é aprendizado não supervisionado?\n"
      ],
      "metadata": {
        "id": "12WH4LtQtX9G"
      }
    },
    {
      "cell_type": "markdown",
      "source": [
        "* Técnicas que temos:\n",
        "  * Clustering\n",
        "  * Redução de Dimensionalidade\n",
        "  * Análise de Correspondência Simples e Múltipla\n",
        "  * Detecção de anomalias/outliers\n",
        "  * Regras de Associação\n",
        "* Aplicações no mercado (finanças, saúde, agricultura).\n",
        "\n",
        "* Problema: Alura Data, empresa de consultoria em dados, recebeu uma padaria que deseja analisar as informações das compras realizadas por seus clientes para poder entender melhor o comportamento de suas compras para que possam criar vendas direcionadas e mais eficazes."
      ],
      "metadata": {
        "id": "4p62jIXbo1Nu"
      }
    },
    {
      "cell_type": "code",
      "execution_count": null,
      "metadata": {
        "id": "CoUgIzhJkqGk"
      },
      "outputs": [],
      "source": [
        "import pandas as pd"
      ]
    },
    {
      "cell_type": "code",
      "source": [
        "dados = pd.read_csv('/content/sample_data/Bakery.csv') "
      ],
      "metadata": {
        "id": "E-dV_psaMT3v"
      },
      "execution_count": null,
      "outputs": []
    },
    {
      "cell_type": "code",
      "source": [
        "dados.info()"
      ],
      "metadata": {
        "colab": {
          "base_uri": "https://localhost:8080/"
        },
        "id": "CkPz1jL2Mcsr",
        "outputId": "0d313e3a-f951-4a7e-be7d-9d71908f7ac0"
      },
      "execution_count": null,
      "outputs": [
        {
          "output_type": "stream",
          "name": "stdout",
          "text": [
            "<class 'pandas.core.frame.DataFrame'>\n",
            "RangeIndex: 20507 entries, 0 to 20506\n",
            "Data columns (total 5 columns):\n",
            " #   Column         Non-Null Count  Dtype \n",
            "---  ------         --------------  ----- \n",
            " 0   TransactionNo  20507 non-null  int64 \n",
            " 1   Items          20507 non-null  object\n",
            " 2   DateTime       20507 non-null  object\n",
            " 3   Daypart        20507 non-null  object\n",
            " 4   DayType        20507 non-null  object\n",
            "dtypes: int64(1), object(4)\n",
            "memory usage: 801.2+ KB\n"
          ]
        }
      ]
    },
    {
      "cell_type": "code",
      "source": [
        "dados.head()"
      ],
      "metadata": {
        "colab": {
          "base_uri": "https://localhost:8080/",
          "height": 206
        },
        "id": "YB7quuO2Mdg_",
        "outputId": "680fabb1-2e84-4b4c-feef-b98c9482b24e"
      },
      "execution_count": null,
      "outputs": [
        {
          "output_type": "execute_result",
          "data": {
            "text/plain": [
              "   TransactionNo          Items             DateTime  Daypart  DayType\n",
              "0              1          Bread  2016-10-30 09:58:11  Morning  Weekend\n",
              "1              2   Scandinavian  2016-10-30 10:05:34  Morning  Weekend\n",
              "2              2   Scandinavian  2016-10-30 10:05:34  Morning  Weekend\n",
              "3              3  Hot chocolate  2016-10-30 10:07:57  Morning  Weekend\n",
              "4              3            Jam  2016-10-30 10:07:57  Morning  Weekend"
            ],
            "text/html": [
              "\n",
              "  <div id=\"df-34d65ddb-c59b-484e-8fc4-3e776b4db4f6\">\n",
              "    <div class=\"colab-df-container\">\n",
              "      <div>\n",
              "<style scoped>\n",
              "    .dataframe tbody tr th:only-of-type {\n",
              "        vertical-align: middle;\n",
              "    }\n",
              "\n",
              "    .dataframe tbody tr th {\n",
              "        vertical-align: top;\n",
              "    }\n",
              "\n",
              "    .dataframe thead th {\n",
              "        text-align: right;\n",
              "    }\n",
              "</style>\n",
              "<table border=\"1\" class=\"dataframe\">\n",
              "  <thead>\n",
              "    <tr style=\"text-align: right;\">\n",
              "      <th></th>\n",
              "      <th>TransactionNo</th>\n",
              "      <th>Items</th>\n",
              "      <th>DateTime</th>\n",
              "      <th>Daypart</th>\n",
              "      <th>DayType</th>\n",
              "    </tr>\n",
              "  </thead>\n",
              "  <tbody>\n",
              "    <tr>\n",
              "      <th>0</th>\n",
              "      <td>1</td>\n",
              "      <td>Bread</td>\n",
              "      <td>2016-10-30 09:58:11</td>\n",
              "      <td>Morning</td>\n",
              "      <td>Weekend</td>\n",
              "    </tr>\n",
              "    <tr>\n",
              "      <th>1</th>\n",
              "      <td>2</td>\n",
              "      <td>Scandinavian</td>\n",
              "      <td>2016-10-30 10:05:34</td>\n",
              "      <td>Morning</td>\n",
              "      <td>Weekend</td>\n",
              "    </tr>\n",
              "    <tr>\n",
              "      <th>2</th>\n",
              "      <td>2</td>\n",
              "      <td>Scandinavian</td>\n",
              "      <td>2016-10-30 10:05:34</td>\n",
              "      <td>Morning</td>\n",
              "      <td>Weekend</td>\n",
              "    </tr>\n",
              "    <tr>\n",
              "      <th>3</th>\n",
              "      <td>3</td>\n",
              "      <td>Hot chocolate</td>\n",
              "      <td>2016-10-30 10:07:57</td>\n",
              "      <td>Morning</td>\n",
              "      <td>Weekend</td>\n",
              "    </tr>\n",
              "    <tr>\n",
              "      <th>4</th>\n",
              "      <td>3</td>\n",
              "      <td>Jam</td>\n",
              "      <td>2016-10-30 10:07:57</td>\n",
              "      <td>Morning</td>\n",
              "      <td>Weekend</td>\n",
              "    </tr>\n",
              "  </tbody>\n",
              "</table>\n",
              "</div>\n",
              "      <button class=\"colab-df-convert\" onclick=\"convertToInteractive('df-34d65ddb-c59b-484e-8fc4-3e776b4db4f6')\"\n",
              "              title=\"Convert this dataframe to an interactive table.\"\n",
              "              style=\"display:none;\">\n",
              "        \n",
              "  <svg xmlns=\"http://www.w3.org/2000/svg\" height=\"24px\"viewBox=\"0 0 24 24\"\n",
              "       width=\"24px\">\n",
              "    <path d=\"M0 0h24v24H0V0z\" fill=\"none\"/>\n",
              "    <path d=\"M18.56 5.44l.94 2.06.94-2.06 2.06-.94-2.06-.94-.94-2.06-.94 2.06-2.06.94zm-11 1L8.5 8.5l.94-2.06 2.06-.94-2.06-.94L8.5 2.5l-.94 2.06-2.06.94zm10 10l.94 2.06.94-2.06 2.06-.94-2.06-.94-.94-2.06-.94 2.06-2.06.94z\"/><path d=\"M17.41 7.96l-1.37-1.37c-.4-.4-.92-.59-1.43-.59-.52 0-1.04.2-1.43.59L10.3 9.45l-7.72 7.72c-.78.78-.78 2.05 0 2.83L4 21.41c.39.39.9.59 1.41.59.51 0 1.02-.2 1.41-.59l7.78-7.78 2.81-2.81c.8-.78.8-2.07 0-2.86zM5.41 20L4 18.59l7.72-7.72 1.47 1.35L5.41 20z\"/>\n",
              "  </svg>\n",
              "      </button>\n",
              "      \n",
              "  <style>\n",
              "    .colab-df-container {\n",
              "      display:flex;\n",
              "      flex-wrap:wrap;\n",
              "      gap: 12px;\n",
              "    }\n",
              "\n",
              "    .colab-df-convert {\n",
              "      background-color: #E8F0FE;\n",
              "      border: none;\n",
              "      border-radius: 50%;\n",
              "      cursor: pointer;\n",
              "      display: none;\n",
              "      fill: #1967D2;\n",
              "      height: 32px;\n",
              "      padding: 0 0 0 0;\n",
              "      width: 32px;\n",
              "    }\n",
              "\n",
              "    .colab-df-convert:hover {\n",
              "      background-color: #E2EBFA;\n",
              "      box-shadow: 0px 1px 2px rgba(60, 64, 67, 0.3), 0px 1px 3px 1px rgba(60, 64, 67, 0.15);\n",
              "      fill: #174EA6;\n",
              "    }\n",
              "\n",
              "    [theme=dark] .colab-df-convert {\n",
              "      background-color: #3B4455;\n",
              "      fill: #D2E3FC;\n",
              "    }\n",
              "\n",
              "    [theme=dark] .colab-df-convert:hover {\n",
              "      background-color: #434B5C;\n",
              "      box-shadow: 0px 1px 3px 1px rgba(0, 0, 0, 0.15);\n",
              "      filter: drop-shadow(0px 1px 2px rgba(0, 0, 0, 0.3));\n",
              "      fill: #FFFFFF;\n",
              "    }\n",
              "  </style>\n",
              "\n",
              "      <script>\n",
              "        const buttonEl =\n",
              "          document.querySelector('#df-34d65ddb-c59b-484e-8fc4-3e776b4db4f6 button.colab-df-convert');\n",
              "        buttonEl.style.display =\n",
              "          google.colab.kernel.accessAllowed ? 'block' : 'none';\n",
              "\n",
              "        async function convertToInteractive(key) {\n",
              "          const element = document.querySelector('#df-34d65ddb-c59b-484e-8fc4-3e776b4db4f6');\n",
              "          const dataTable =\n",
              "            await google.colab.kernel.invokeFunction('convertToInteractive',\n",
              "                                                     [key], {});\n",
              "          if (!dataTable) return;\n",
              "\n",
              "          const docLinkHtml = 'Like what you see? Visit the ' +\n",
              "            '<a target=\"_blank\" href=https://colab.research.google.com/notebooks/data_table.ipynb>data table notebook</a>'\n",
              "            + ' to learn more about interactive tables.';\n",
              "          element.innerHTML = '';\n",
              "          dataTable['output_type'] = 'display_data';\n",
              "          await google.colab.output.renderOutput(dataTable, element);\n",
              "          const docLink = document.createElement('div');\n",
              "          docLink.innerHTML = docLinkHtml;\n",
              "          element.appendChild(docLink);\n",
              "        }\n",
              "      </script>\n",
              "    </div>\n",
              "  </div>\n",
              "  "
            ]
          },
          "metadata": {},
          "execution_count": 4
        }
      ]
    },
    {
      "cell_type": "code",
      "source": [
        "#Tratamento dos dados\n",
        "#lista de transações\n",
        "\n",
        "transacao = []\n",
        "\n",
        "for item in dados['TransactionNo'].unique():\n",
        "  lista = list(set(dados[dados['TransactionNo']==item]['Items']))\n",
        "  transacao.append(lista)"
      ],
      "metadata": {
        "id": "Tf6Y5qB3fHOM"
      },
      "execution_count": null,
      "outputs": []
    },
    {
      "cell_type": "code",
      "source": [
        "transacao[0:5]"
      ],
      "metadata": {
        "colab": {
          "base_uri": "https://localhost:8080/"
        },
        "id": "FTv0FG0NfsAU",
        "outputId": "1033a40a-2d11-4db7-ddf6-74913ac9e705"
      },
      "execution_count": null,
      "outputs": [
        {
          "output_type": "execute_result",
          "data": {
            "text/plain": [
              "[['Bread'],\n",
              " ['Scandinavian'],\n",
              " ['Jam', 'Cookies', 'Hot chocolate'],\n",
              " ['Muffin'],\n",
              " ['Coffee', 'Bread', 'Pastry']]"
            ]
          },
          "metadata": {},
          "execution_count": 6
        }
      ]
    },
    {
      "cell_type": "markdown",
      "source": [
        "### Vídeo 1.3 - O que é a Regra de Associação?\n",
        "\n",
        "[slides]"
      ],
      "metadata": {
        "id": "Q4stdnmytMpN"
      }
    },
    {
      "cell_type": "markdown",
      "source": [
        "### Vídeo 1.4 - Algoritmo Apriori \n",
        "\n",
        "[slides]"
      ],
      "metadata": {
        "id": "mzaO1R1l2yIG"
      }
    },
    {
      "cell_type": "markdown",
      "source": [
        "### Vídeo 1.5 - Aplicando a Regra de Associação"
      ],
      "metadata": {
        "id": "iRSN69vp3AdN"
      }
    },
    {
      "cell_type": "markdown",
      "source": [
        "#### Regra de Associação\n",
        "\n",
        "\n"
      ],
      "metadata": {
        "id": "TbUY-i84pbkZ"
      }
    },
    {
      "cell_type": "markdown",
      "source": [
        "* O que é Regra de Associação?\n",
        "\n",
        "É um método conhecido como análise de associação, que busca identificar relacionamentos desconhecidos em grandes conjuntos de dados.\n",
        "\n",
        "* Dica de leitura: [Wikipedia - Regras de Associação](https://en.wikipedia.org/wiki/Association_rule_learning), [Capítulo 4 - Introduction to Data Mining](https://www.amazon.com.br/Introduction-Data-Mining-Global-Pang-Ning/dp/0273769227/ref=sr_1_3?__mk_pt_BR=%C3%85M%C3%85%C5%BD%C3%95%C3%91&crid=NB5N4VIW2CSX&keywords=introduction+to+data+mining&qid=1659974700&sprefix=introduction+to+data+mining%2Caps%2C209&sr=8-3&ufe=app_do%3Aamzn1.fos.25548f35-0de7-44b3-b28e-0f56f3f96147) \n",
        "\n",
        "* Biblioteca que iremos utilizar chama-se [mlxtend](http://rasbt.github.io/mlxtend/), caso queira conhecer mais confira o link!"
      ],
      "metadata": {
        "id": "PIyJe2DLpEjF"
      }
    },
    {
      "cell_type": "code",
      "source": [
        "#!pip install mlxtend"
      ],
      "metadata": {
        "id": "EBheo7vjZrfj"
      },
      "execution_count": null,
      "outputs": []
    },
    {
      "cell_type": "code",
      "source": [
        "!pip install mlxtend --upgrade"
      ],
      "metadata": {
        "id": "_-Hx6Ng7UBXu",
        "colab": {
          "base_uri": "https://localhost:8080/"
        },
        "outputId": "0334d2d5-d460-4507-9c9d-3dd6ea6bff8a"
      },
      "execution_count": null,
      "outputs": [
        {
          "output_type": "stream",
          "name": "stdout",
          "text": [
            "Looking in indexes: https://pypi.org/simple, https://us-python.pkg.dev/colab-wheels/public/simple/\n",
            "Requirement already satisfied: mlxtend in /usr/local/lib/python3.7/dist-packages (0.14.0)\n",
            "Collecting mlxtend\n",
            "  Downloading mlxtend-0.20.0-py2.py3-none-any.whl (1.3 MB)\n",
            "\u001b[K     |████████████████████████████████| 1.3 MB 5.2 MB/s \n",
            "\u001b[?25hRequirement already satisfied: scikit-learn>=1.0.2 in /usr/local/lib/python3.7/dist-packages (from mlxtend) (1.0.2)\n",
            "Requirement already satisfied: setuptools in /usr/local/lib/python3.7/dist-packages (from mlxtend) (57.4.0)\n",
            "Requirement already satisfied: scipy>=1.2.1 in /usr/local/lib/python3.7/dist-packages (from mlxtend) (1.7.3)\n",
            "Requirement already satisfied: joblib>=0.13.2 in /usr/local/lib/python3.7/dist-packages (from mlxtend) (1.1.0)\n",
            "Requirement already satisfied: pandas>=0.24.2 in /usr/local/lib/python3.7/dist-packages (from mlxtend) (1.3.5)\n",
            "Requirement already satisfied: numpy>=1.16.2 in /usr/local/lib/python3.7/dist-packages (from mlxtend) (1.21.6)\n",
            "Requirement already satisfied: matplotlib>=3.0.0 in /usr/local/lib/python3.7/dist-packages (from mlxtend) (3.2.2)\n",
            "Requirement already satisfied: cycler>=0.10 in /usr/local/lib/python3.7/dist-packages (from matplotlib>=3.0.0->mlxtend) (0.11.0)\n",
            "Requirement already satisfied: python-dateutil>=2.1 in /usr/local/lib/python3.7/dist-packages (from matplotlib>=3.0.0->mlxtend) (2.8.2)\n",
            "Requirement already satisfied: kiwisolver>=1.0.1 in /usr/local/lib/python3.7/dist-packages (from matplotlib>=3.0.0->mlxtend) (1.4.4)\n",
            "Requirement already satisfied: pyparsing!=2.0.4,!=2.1.2,!=2.1.6,>=2.0.1 in /usr/local/lib/python3.7/dist-packages (from matplotlib>=3.0.0->mlxtend) (3.0.9)\n",
            "Requirement already satisfied: typing-extensions in /usr/local/lib/python3.7/dist-packages (from kiwisolver>=1.0.1->matplotlib>=3.0.0->mlxtend) (4.1.1)\n",
            "Requirement already satisfied: pytz>=2017.3 in /usr/local/lib/python3.7/dist-packages (from pandas>=0.24.2->mlxtend) (2022.2)\n",
            "Requirement already satisfied: six>=1.5 in /usr/local/lib/python3.7/dist-packages (from python-dateutil>=2.1->matplotlib>=3.0.0->mlxtend) (1.15.0)\n",
            "Requirement already satisfied: threadpoolctl>=2.0.0 in /usr/local/lib/python3.7/dist-packages (from scikit-learn>=1.0.2->mlxtend) (3.1.0)\n",
            "Installing collected packages: mlxtend\n",
            "  Attempting uninstall: mlxtend\n",
            "    Found existing installation: mlxtend 0.14.0\n",
            "    Uninstalling mlxtend-0.14.0:\n",
            "      Successfully uninstalled mlxtend-0.14.0\n",
            "Successfully installed mlxtend-0.20.0\n"
          ]
        }
      ]
    },
    {
      "cell_type": "markdown",
      "source": [
        "* É necessário converter as listas de itens em um dataframe com as transações que o modelo de machine learning possa processar.\n",
        "\n",
        "* [`TransactionEncoder()`](http://rasbt.github.io/mlxtend/user_guide/preprocessing/TransactionEncoder/) - utiliza do one-hot encoding para transformar os dados categóricos em valores booleanos."
      ],
      "metadata": {
        "id": "vd_oBUBQgNGL"
      }
    },
    {
      "cell_type": "code",
      "source": [
        "from mlxtend.preprocessing import TransactionEncoder"
      ],
      "metadata": {
        "id": "HxeNOTqycgxH"
      },
      "execution_count": null,
      "outputs": []
    },
    {
      "cell_type": "code",
      "source": [
        "te = TransactionEncoder()"
      ],
      "metadata": {
        "id": "bTROOro8dAes"
      },
      "execution_count": null,
      "outputs": []
    },
    {
      "cell_type": "code",
      "source": [
        "transacao_te = te.fit(transacao).transform(transacao)"
      ],
      "metadata": {
        "id": "GwZuNGedhiOK"
      },
      "execution_count": null,
      "outputs": []
    },
    {
      "cell_type": "code",
      "source": [
        "transacao_te"
      ],
      "metadata": {
        "colab": {
          "base_uri": "https://localhost:8080/"
        },
        "id": "wJdCmZAGhiL8",
        "outputId": "8aa55a83-e8b6-424d-dbb3-8612a5bd0c96"
      },
      "execution_count": null,
      "outputs": [
        {
          "output_type": "execute_result",
          "data": {
            "text/plain": [
              "array([[False, False, False, ..., False, False, False],\n",
              "       [False, False, False, ..., False, False, False],\n",
              "       [False, False, False, ..., False, False, False],\n",
              "       ...,\n",
              "       [False, False, False, ..., False, False, False],\n",
              "       [False, False, False, ..., False, False, False],\n",
              "       [False, False, False, ..., False, False, False]])"
            ]
          },
          "metadata": {},
          "execution_count": 12
        }
      ]
    },
    {
      "cell_type": "code",
      "source": [
        "transacao_transformado = pd.DataFrame(transacao_te, columns=te.columns_)\n",
        "transacao_transformado"
      ],
      "metadata": {
        "colab": {
          "base_uri": "https://localhost:8080/",
          "height": 522
        },
        "id": "Htj0czeghiHL",
        "outputId": "db0780f0-463f-419c-cec7-85929a1430bc"
      },
      "execution_count": null,
      "outputs": [
        {
          "output_type": "execute_result",
          "data": {
            "text/plain": [
              "      Adjustment  Afternoon with the baker  Alfajores  Argentina Night  \\\n",
              "0          False                     False      False            False   \n",
              "1          False                     False      False            False   \n",
              "2          False                     False      False            False   \n",
              "3          False                     False      False            False   \n",
              "4          False                     False      False            False   \n",
              "...          ...                       ...        ...              ...   \n",
              "9460       False                     False      False            False   \n",
              "9461       False                     False      False            False   \n",
              "9462       False                     False      False            False   \n",
              "9463       False                     False      False            False   \n",
              "9464       False                     False      False            False   \n",
              "\n",
              "      Art Tray  Bacon  Baguette  Bakewell  Bare Popcorn  Basket  ...  \\\n",
              "0        False  False     False     False         False   False  ...   \n",
              "1        False  False     False     False         False   False  ...   \n",
              "2        False  False     False     False         False   False  ...   \n",
              "3        False  False     False     False         False   False  ...   \n",
              "4        False  False     False     False         False   False  ...   \n",
              "...        ...    ...       ...       ...           ...     ...  ...   \n",
              "9460     False  False     False     False         False   False  ...   \n",
              "9461     False  False     False     False         False   False  ...   \n",
              "9462     False  False     False     False         False   False  ...   \n",
              "9463     False  False     False     False         False   False  ...   \n",
              "9464     False  False     False     False         False   False  ...   \n",
              "\n",
              "      The BART  The Nomad  Tiffin  Toast  Truffles  Tshirt  Valentine's card  \\\n",
              "0        False      False   False  False     False   False             False   \n",
              "1        False      False   False  False     False   False             False   \n",
              "2        False      False   False  False     False   False             False   \n",
              "3        False      False   False  False     False   False             False   \n",
              "4        False      False   False  False     False   False             False   \n",
              "...        ...        ...     ...    ...       ...     ...               ...   \n",
              "9460     False      False   False  False     False   False             False   \n",
              "9461     False      False   False  False      True   False             False   \n",
              "9462     False      False   False  False     False   False             False   \n",
              "9463     False      False   False  False     False   False             False   \n",
              "9464     False      False   False  False     False   False             False   \n",
              "\n",
              "      Vegan Feast  Vegan mincepie  Victorian Sponge  \n",
              "0           False           False             False  \n",
              "1           False           False             False  \n",
              "2           False           False             False  \n",
              "3           False           False             False  \n",
              "4           False           False             False  \n",
              "...           ...             ...               ...  \n",
              "9460        False           False             False  \n",
              "9461        False           False             False  \n",
              "9462        False           False             False  \n",
              "9463        False           False             False  \n",
              "9464        False           False             False  \n",
              "\n",
              "[9465 rows x 94 columns]"
            ],
            "text/html": [
              "\n",
              "  <div id=\"df-e9fbaefc-86ca-4087-8d5a-ad3539a067d9\">\n",
              "    <div class=\"colab-df-container\">\n",
              "      <div>\n",
              "<style scoped>\n",
              "    .dataframe tbody tr th:only-of-type {\n",
              "        vertical-align: middle;\n",
              "    }\n",
              "\n",
              "    .dataframe tbody tr th {\n",
              "        vertical-align: top;\n",
              "    }\n",
              "\n",
              "    .dataframe thead th {\n",
              "        text-align: right;\n",
              "    }\n",
              "</style>\n",
              "<table border=\"1\" class=\"dataframe\">\n",
              "  <thead>\n",
              "    <tr style=\"text-align: right;\">\n",
              "      <th></th>\n",
              "      <th>Adjustment</th>\n",
              "      <th>Afternoon with the baker</th>\n",
              "      <th>Alfajores</th>\n",
              "      <th>Argentina Night</th>\n",
              "      <th>Art Tray</th>\n",
              "      <th>Bacon</th>\n",
              "      <th>Baguette</th>\n",
              "      <th>Bakewell</th>\n",
              "      <th>Bare Popcorn</th>\n",
              "      <th>Basket</th>\n",
              "      <th>...</th>\n",
              "      <th>The BART</th>\n",
              "      <th>The Nomad</th>\n",
              "      <th>Tiffin</th>\n",
              "      <th>Toast</th>\n",
              "      <th>Truffles</th>\n",
              "      <th>Tshirt</th>\n",
              "      <th>Valentine's card</th>\n",
              "      <th>Vegan Feast</th>\n",
              "      <th>Vegan mincepie</th>\n",
              "      <th>Victorian Sponge</th>\n",
              "    </tr>\n",
              "  </thead>\n",
              "  <tbody>\n",
              "    <tr>\n",
              "      <th>0</th>\n",
              "      <td>False</td>\n",
              "      <td>False</td>\n",
              "      <td>False</td>\n",
              "      <td>False</td>\n",
              "      <td>False</td>\n",
              "      <td>False</td>\n",
              "      <td>False</td>\n",
              "      <td>False</td>\n",
              "      <td>False</td>\n",
              "      <td>False</td>\n",
              "      <td>...</td>\n",
              "      <td>False</td>\n",
              "      <td>False</td>\n",
              "      <td>False</td>\n",
              "      <td>False</td>\n",
              "      <td>False</td>\n",
              "      <td>False</td>\n",
              "      <td>False</td>\n",
              "      <td>False</td>\n",
              "      <td>False</td>\n",
              "      <td>False</td>\n",
              "    </tr>\n",
              "    <tr>\n",
              "      <th>1</th>\n",
              "      <td>False</td>\n",
              "      <td>False</td>\n",
              "      <td>False</td>\n",
              "      <td>False</td>\n",
              "      <td>False</td>\n",
              "      <td>False</td>\n",
              "      <td>False</td>\n",
              "      <td>False</td>\n",
              "      <td>False</td>\n",
              "      <td>False</td>\n",
              "      <td>...</td>\n",
              "      <td>False</td>\n",
              "      <td>False</td>\n",
              "      <td>False</td>\n",
              "      <td>False</td>\n",
              "      <td>False</td>\n",
              "      <td>False</td>\n",
              "      <td>False</td>\n",
              "      <td>False</td>\n",
              "      <td>False</td>\n",
              "      <td>False</td>\n",
              "    </tr>\n",
              "    <tr>\n",
              "      <th>2</th>\n",
              "      <td>False</td>\n",
              "      <td>False</td>\n",
              "      <td>False</td>\n",
              "      <td>False</td>\n",
              "      <td>False</td>\n",
              "      <td>False</td>\n",
              "      <td>False</td>\n",
              "      <td>False</td>\n",
              "      <td>False</td>\n",
              "      <td>False</td>\n",
              "      <td>...</td>\n",
              "      <td>False</td>\n",
              "      <td>False</td>\n",
              "      <td>False</td>\n",
              "      <td>False</td>\n",
              "      <td>False</td>\n",
              "      <td>False</td>\n",
              "      <td>False</td>\n",
              "      <td>False</td>\n",
              "      <td>False</td>\n",
              "      <td>False</td>\n",
              "    </tr>\n",
              "    <tr>\n",
              "      <th>3</th>\n",
              "      <td>False</td>\n",
              "      <td>False</td>\n",
              "      <td>False</td>\n",
              "      <td>False</td>\n",
              "      <td>False</td>\n",
              "      <td>False</td>\n",
              "      <td>False</td>\n",
              "      <td>False</td>\n",
              "      <td>False</td>\n",
              "      <td>False</td>\n",
              "      <td>...</td>\n",
              "      <td>False</td>\n",
              "      <td>False</td>\n",
              "      <td>False</td>\n",
              "      <td>False</td>\n",
              "      <td>False</td>\n",
              "      <td>False</td>\n",
              "      <td>False</td>\n",
              "      <td>False</td>\n",
              "      <td>False</td>\n",
              "      <td>False</td>\n",
              "    </tr>\n",
              "    <tr>\n",
              "      <th>4</th>\n",
              "      <td>False</td>\n",
              "      <td>False</td>\n",
              "      <td>False</td>\n",
              "      <td>False</td>\n",
              "      <td>False</td>\n",
              "      <td>False</td>\n",
              "      <td>False</td>\n",
              "      <td>False</td>\n",
              "      <td>False</td>\n",
              "      <td>False</td>\n",
              "      <td>...</td>\n",
              "      <td>False</td>\n",
              "      <td>False</td>\n",
              "      <td>False</td>\n",
              "      <td>False</td>\n",
              "      <td>False</td>\n",
              "      <td>False</td>\n",
              "      <td>False</td>\n",
              "      <td>False</td>\n",
              "      <td>False</td>\n",
              "      <td>False</td>\n",
              "    </tr>\n",
              "    <tr>\n",
              "      <th>...</th>\n",
              "      <td>...</td>\n",
              "      <td>...</td>\n",
              "      <td>...</td>\n",
              "      <td>...</td>\n",
              "      <td>...</td>\n",
              "      <td>...</td>\n",
              "      <td>...</td>\n",
              "      <td>...</td>\n",
              "      <td>...</td>\n",
              "      <td>...</td>\n",
              "      <td>...</td>\n",
              "      <td>...</td>\n",
              "      <td>...</td>\n",
              "      <td>...</td>\n",
              "      <td>...</td>\n",
              "      <td>...</td>\n",
              "      <td>...</td>\n",
              "      <td>...</td>\n",
              "      <td>...</td>\n",
              "      <td>...</td>\n",
              "      <td>...</td>\n",
              "    </tr>\n",
              "    <tr>\n",
              "      <th>9460</th>\n",
              "      <td>False</td>\n",
              "      <td>False</td>\n",
              "      <td>False</td>\n",
              "      <td>False</td>\n",
              "      <td>False</td>\n",
              "      <td>False</td>\n",
              "      <td>False</td>\n",
              "      <td>False</td>\n",
              "      <td>False</td>\n",
              "      <td>False</td>\n",
              "      <td>...</td>\n",
              "      <td>False</td>\n",
              "      <td>False</td>\n",
              "      <td>False</td>\n",
              "      <td>False</td>\n",
              "      <td>False</td>\n",
              "      <td>False</td>\n",
              "      <td>False</td>\n",
              "      <td>False</td>\n",
              "      <td>False</td>\n",
              "      <td>False</td>\n",
              "    </tr>\n",
              "    <tr>\n",
              "      <th>9461</th>\n",
              "      <td>False</td>\n",
              "      <td>False</td>\n",
              "      <td>False</td>\n",
              "      <td>False</td>\n",
              "      <td>False</td>\n",
              "      <td>False</td>\n",
              "      <td>False</td>\n",
              "      <td>False</td>\n",
              "      <td>False</td>\n",
              "      <td>False</td>\n",
              "      <td>...</td>\n",
              "      <td>False</td>\n",
              "      <td>False</td>\n",
              "      <td>False</td>\n",
              "      <td>False</td>\n",
              "      <td>True</td>\n",
              "      <td>False</td>\n",
              "      <td>False</td>\n",
              "      <td>False</td>\n",
              "      <td>False</td>\n",
              "      <td>False</td>\n",
              "    </tr>\n",
              "    <tr>\n",
              "      <th>9462</th>\n",
              "      <td>False</td>\n",
              "      <td>False</td>\n",
              "      <td>False</td>\n",
              "      <td>False</td>\n",
              "      <td>False</td>\n",
              "      <td>False</td>\n",
              "      <td>False</td>\n",
              "      <td>False</td>\n",
              "      <td>False</td>\n",
              "      <td>False</td>\n",
              "      <td>...</td>\n",
              "      <td>False</td>\n",
              "      <td>False</td>\n",
              "      <td>False</td>\n",
              "      <td>False</td>\n",
              "      <td>False</td>\n",
              "      <td>False</td>\n",
              "      <td>False</td>\n",
              "      <td>False</td>\n",
              "      <td>False</td>\n",
              "      <td>False</td>\n",
              "    </tr>\n",
              "    <tr>\n",
              "      <th>9463</th>\n",
              "      <td>False</td>\n",
              "      <td>False</td>\n",
              "      <td>False</td>\n",
              "      <td>False</td>\n",
              "      <td>False</td>\n",
              "      <td>False</td>\n",
              "      <td>False</td>\n",
              "      <td>False</td>\n",
              "      <td>False</td>\n",
              "      <td>False</td>\n",
              "      <td>...</td>\n",
              "      <td>False</td>\n",
              "      <td>False</td>\n",
              "      <td>False</td>\n",
              "      <td>False</td>\n",
              "      <td>False</td>\n",
              "      <td>False</td>\n",
              "      <td>False</td>\n",
              "      <td>False</td>\n",
              "      <td>False</td>\n",
              "      <td>False</td>\n",
              "    </tr>\n",
              "    <tr>\n",
              "      <th>9464</th>\n",
              "      <td>False</td>\n",
              "      <td>False</td>\n",
              "      <td>False</td>\n",
              "      <td>False</td>\n",
              "      <td>False</td>\n",
              "      <td>False</td>\n",
              "      <td>False</td>\n",
              "      <td>False</td>\n",
              "      <td>False</td>\n",
              "      <td>False</td>\n",
              "      <td>...</td>\n",
              "      <td>False</td>\n",
              "      <td>False</td>\n",
              "      <td>False</td>\n",
              "      <td>False</td>\n",
              "      <td>False</td>\n",
              "      <td>False</td>\n",
              "      <td>False</td>\n",
              "      <td>False</td>\n",
              "      <td>False</td>\n",
              "      <td>False</td>\n",
              "    </tr>\n",
              "  </tbody>\n",
              "</table>\n",
              "<p>9465 rows × 94 columns</p>\n",
              "</div>\n",
              "      <button class=\"colab-df-convert\" onclick=\"convertToInteractive('df-e9fbaefc-86ca-4087-8d5a-ad3539a067d9')\"\n",
              "              title=\"Convert this dataframe to an interactive table.\"\n",
              "              style=\"display:none;\">\n",
              "        \n",
              "  <svg xmlns=\"http://www.w3.org/2000/svg\" height=\"24px\"viewBox=\"0 0 24 24\"\n",
              "       width=\"24px\">\n",
              "    <path d=\"M0 0h24v24H0V0z\" fill=\"none\"/>\n",
              "    <path d=\"M18.56 5.44l.94 2.06.94-2.06 2.06-.94-2.06-.94-.94-2.06-.94 2.06-2.06.94zm-11 1L8.5 8.5l.94-2.06 2.06-.94-2.06-.94L8.5 2.5l-.94 2.06-2.06.94zm10 10l.94 2.06.94-2.06 2.06-.94-2.06-.94-.94-2.06-.94 2.06-2.06.94z\"/><path d=\"M17.41 7.96l-1.37-1.37c-.4-.4-.92-.59-1.43-.59-.52 0-1.04.2-1.43.59L10.3 9.45l-7.72 7.72c-.78.78-.78 2.05 0 2.83L4 21.41c.39.39.9.59 1.41.59.51 0 1.02-.2 1.41-.59l7.78-7.78 2.81-2.81c.8-.78.8-2.07 0-2.86zM5.41 20L4 18.59l7.72-7.72 1.47 1.35L5.41 20z\"/>\n",
              "  </svg>\n",
              "      </button>\n",
              "      \n",
              "  <style>\n",
              "    .colab-df-container {\n",
              "      display:flex;\n",
              "      flex-wrap:wrap;\n",
              "      gap: 12px;\n",
              "    }\n",
              "\n",
              "    .colab-df-convert {\n",
              "      background-color: #E8F0FE;\n",
              "      border: none;\n",
              "      border-radius: 50%;\n",
              "      cursor: pointer;\n",
              "      display: none;\n",
              "      fill: #1967D2;\n",
              "      height: 32px;\n",
              "      padding: 0 0 0 0;\n",
              "      width: 32px;\n",
              "    }\n",
              "\n",
              "    .colab-df-convert:hover {\n",
              "      background-color: #E2EBFA;\n",
              "      box-shadow: 0px 1px 2px rgba(60, 64, 67, 0.3), 0px 1px 3px 1px rgba(60, 64, 67, 0.15);\n",
              "      fill: #174EA6;\n",
              "    }\n",
              "\n",
              "    [theme=dark] .colab-df-convert {\n",
              "      background-color: #3B4455;\n",
              "      fill: #D2E3FC;\n",
              "    }\n",
              "\n",
              "    [theme=dark] .colab-df-convert:hover {\n",
              "      background-color: #434B5C;\n",
              "      box-shadow: 0px 1px 3px 1px rgba(0, 0, 0, 0.15);\n",
              "      filter: drop-shadow(0px 1px 2px rgba(0, 0, 0, 0.3));\n",
              "      fill: #FFFFFF;\n",
              "    }\n",
              "  </style>\n",
              "\n",
              "      <script>\n",
              "        const buttonEl =\n",
              "          document.querySelector('#df-e9fbaefc-86ca-4087-8d5a-ad3539a067d9 button.colab-df-convert');\n",
              "        buttonEl.style.display =\n",
              "          google.colab.kernel.accessAllowed ? 'block' : 'none';\n",
              "\n",
              "        async function convertToInteractive(key) {\n",
              "          const element = document.querySelector('#df-e9fbaefc-86ca-4087-8d5a-ad3539a067d9');\n",
              "          const dataTable =\n",
              "            await google.colab.kernel.invokeFunction('convertToInteractive',\n",
              "                                                     [key], {});\n",
              "          if (!dataTable) return;\n",
              "\n",
              "          const docLinkHtml = 'Like what you see? Visit the ' +\n",
              "            '<a target=\"_blank\" href=https://colab.research.google.com/notebooks/data_table.ipynb>data table notebook</a>'\n",
              "            + ' to learn more about interactive tables.';\n",
              "          element.innerHTML = '';\n",
              "          dataTable['output_type'] = 'display_data';\n",
              "          await google.colab.output.renderOutput(dataTable, element);\n",
              "          const docLink = document.createElement('div');\n",
              "          docLink.innerHTML = docLinkHtml;\n",
              "          element.appendChild(docLink);\n",
              "        }\n",
              "      </script>\n",
              "    </div>\n",
              "  </div>\n",
              "  "
            ]
          },
          "metadata": {},
          "execution_count": 13
        }
      ]
    },
    {
      "cell_type": "markdown",
      "source": [
        "* Algoritmo APRIORI"
      ],
      "metadata": {
        "id": "EZWqPynRiWaT"
      }
    },
    {
      "cell_type": "code",
      "source": [
        "from mlxtend.frequent_patterns import apriori"
      ],
      "metadata": {
        "id": "QY2dtf91e2t7"
      },
      "execution_count": null,
      "outputs": []
    },
    {
      "cell_type": "code",
      "source": [
        "items_frequentes_apriori = apriori(transacao_transformado, use_colnames=True, min_support=0.02)\n",
        "items_frequentes_apriori.sort_values(['support'], ascending=False)"
      ],
      "metadata": {
        "colab": {
          "base_uri": "https://localhost:8080/",
          "height": 1000
        },
        "id": "11pBhHJZe2mL",
        "outputId": "24fbc963-49a3-4377-f0ac-df370f351bb8"
      },
      "execution_count": null,
      "outputs": [
        {
          "output_type": "execute_result",
          "data": {
            "text/plain": [
              "     support                 itemsets\n",
              "4   0.478394                 (Coffee)\n",
              "1   0.327205                  (Bread)\n",
              "16  0.142631                    (Tea)\n",
              "3   0.103856                   (Cake)\n",
              "20  0.090016          (Coffee, Bread)\n",
              "11  0.086107                 (Pastry)\n",
              "12  0.071844               (Sandwich)\n",
              "9   0.061807              (Medialuna)\n",
              "7   0.058320          (Hot chocolate)\n",
              "23  0.054728           (Coffee, Cake)\n",
              "5   0.054411                (Cookies)\n",
              "31  0.049868            (Coffee, Tea)\n",
              "29  0.047544         (Coffee, Pastry)\n",
              "2   0.040042                (Brownie)\n",
              "6   0.039197             (Farm House)\n",
              "8   0.038563                  (Juice)\n",
              "10  0.038457                 (Muffin)\n",
              "30  0.038246       (Coffee, Sandwich)\n",
              "0   0.036344              (Alfajores)\n",
              "28  0.035182      (Coffee, Medialuna)\n",
              "14  0.034548                  (Scone)\n",
              "15  0.034443                   (Soup)\n",
              "17  0.033597                  (Toast)\n",
              "26  0.029583  (Coffee, Hot chocolate)\n",
              "21  0.029160          (Bread, Pastry)\n",
              "13  0.029054           (Scandinavian)\n",
              "25  0.028209        (Coffee, Cookies)\n",
              "22  0.028104             (Bread, Tea)\n",
              "24  0.023772              (Cake, Tea)\n",
              "32  0.023666          (Coffee, Toast)\n",
              "19  0.023349            (Bread, Cake)\n",
              "27  0.020602          (Coffee, Juice)\n",
              "18  0.020285               (Truffles)"
            ],
            "text/html": [
              "\n",
              "  <div id=\"df-39e5ed85-820d-4a40-ae6c-733ce6dae467\">\n",
              "    <div class=\"colab-df-container\">\n",
              "      <div>\n",
              "<style scoped>\n",
              "    .dataframe tbody tr th:only-of-type {\n",
              "        vertical-align: middle;\n",
              "    }\n",
              "\n",
              "    .dataframe tbody tr th {\n",
              "        vertical-align: top;\n",
              "    }\n",
              "\n",
              "    .dataframe thead th {\n",
              "        text-align: right;\n",
              "    }\n",
              "</style>\n",
              "<table border=\"1\" class=\"dataframe\">\n",
              "  <thead>\n",
              "    <tr style=\"text-align: right;\">\n",
              "      <th></th>\n",
              "      <th>support</th>\n",
              "      <th>itemsets</th>\n",
              "    </tr>\n",
              "  </thead>\n",
              "  <tbody>\n",
              "    <tr>\n",
              "      <th>4</th>\n",
              "      <td>0.478394</td>\n",
              "      <td>(Coffee)</td>\n",
              "    </tr>\n",
              "    <tr>\n",
              "      <th>1</th>\n",
              "      <td>0.327205</td>\n",
              "      <td>(Bread)</td>\n",
              "    </tr>\n",
              "    <tr>\n",
              "      <th>16</th>\n",
              "      <td>0.142631</td>\n",
              "      <td>(Tea)</td>\n",
              "    </tr>\n",
              "    <tr>\n",
              "      <th>3</th>\n",
              "      <td>0.103856</td>\n",
              "      <td>(Cake)</td>\n",
              "    </tr>\n",
              "    <tr>\n",
              "      <th>20</th>\n",
              "      <td>0.090016</td>\n",
              "      <td>(Coffee, Bread)</td>\n",
              "    </tr>\n",
              "    <tr>\n",
              "      <th>11</th>\n",
              "      <td>0.086107</td>\n",
              "      <td>(Pastry)</td>\n",
              "    </tr>\n",
              "    <tr>\n",
              "      <th>12</th>\n",
              "      <td>0.071844</td>\n",
              "      <td>(Sandwich)</td>\n",
              "    </tr>\n",
              "    <tr>\n",
              "      <th>9</th>\n",
              "      <td>0.061807</td>\n",
              "      <td>(Medialuna)</td>\n",
              "    </tr>\n",
              "    <tr>\n",
              "      <th>7</th>\n",
              "      <td>0.058320</td>\n",
              "      <td>(Hot chocolate)</td>\n",
              "    </tr>\n",
              "    <tr>\n",
              "      <th>23</th>\n",
              "      <td>0.054728</td>\n",
              "      <td>(Coffee, Cake)</td>\n",
              "    </tr>\n",
              "    <tr>\n",
              "      <th>5</th>\n",
              "      <td>0.054411</td>\n",
              "      <td>(Cookies)</td>\n",
              "    </tr>\n",
              "    <tr>\n",
              "      <th>31</th>\n",
              "      <td>0.049868</td>\n",
              "      <td>(Coffee, Tea)</td>\n",
              "    </tr>\n",
              "    <tr>\n",
              "      <th>29</th>\n",
              "      <td>0.047544</td>\n",
              "      <td>(Coffee, Pastry)</td>\n",
              "    </tr>\n",
              "    <tr>\n",
              "      <th>2</th>\n",
              "      <td>0.040042</td>\n",
              "      <td>(Brownie)</td>\n",
              "    </tr>\n",
              "    <tr>\n",
              "      <th>6</th>\n",
              "      <td>0.039197</td>\n",
              "      <td>(Farm House)</td>\n",
              "    </tr>\n",
              "    <tr>\n",
              "      <th>8</th>\n",
              "      <td>0.038563</td>\n",
              "      <td>(Juice)</td>\n",
              "    </tr>\n",
              "    <tr>\n",
              "      <th>10</th>\n",
              "      <td>0.038457</td>\n",
              "      <td>(Muffin)</td>\n",
              "    </tr>\n",
              "    <tr>\n",
              "      <th>30</th>\n",
              "      <td>0.038246</td>\n",
              "      <td>(Coffee, Sandwich)</td>\n",
              "    </tr>\n",
              "    <tr>\n",
              "      <th>0</th>\n",
              "      <td>0.036344</td>\n",
              "      <td>(Alfajores)</td>\n",
              "    </tr>\n",
              "    <tr>\n",
              "      <th>28</th>\n",
              "      <td>0.035182</td>\n",
              "      <td>(Coffee, Medialuna)</td>\n",
              "    </tr>\n",
              "    <tr>\n",
              "      <th>14</th>\n",
              "      <td>0.034548</td>\n",
              "      <td>(Scone)</td>\n",
              "    </tr>\n",
              "    <tr>\n",
              "      <th>15</th>\n",
              "      <td>0.034443</td>\n",
              "      <td>(Soup)</td>\n",
              "    </tr>\n",
              "    <tr>\n",
              "      <th>17</th>\n",
              "      <td>0.033597</td>\n",
              "      <td>(Toast)</td>\n",
              "    </tr>\n",
              "    <tr>\n",
              "      <th>26</th>\n",
              "      <td>0.029583</td>\n",
              "      <td>(Coffee, Hot chocolate)</td>\n",
              "    </tr>\n",
              "    <tr>\n",
              "      <th>21</th>\n",
              "      <td>0.029160</td>\n",
              "      <td>(Bread, Pastry)</td>\n",
              "    </tr>\n",
              "    <tr>\n",
              "      <th>13</th>\n",
              "      <td>0.029054</td>\n",
              "      <td>(Scandinavian)</td>\n",
              "    </tr>\n",
              "    <tr>\n",
              "      <th>25</th>\n",
              "      <td>0.028209</td>\n",
              "      <td>(Coffee, Cookies)</td>\n",
              "    </tr>\n",
              "    <tr>\n",
              "      <th>22</th>\n",
              "      <td>0.028104</td>\n",
              "      <td>(Bread, Tea)</td>\n",
              "    </tr>\n",
              "    <tr>\n",
              "      <th>24</th>\n",
              "      <td>0.023772</td>\n",
              "      <td>(Cake, Tea)</td>\n",
              "    </tr>\n",
              "    <tr>\n",
              "      <th>32</th>\n",
              "      <td>0.023666</td>\n",
              "      <td>(Coffee, Toast)</td>\n",
              "    </tr>\n",
              "    <tr>\n",
              "      <th>19</th>\n",
              "      <td>0.023349</td>\n",
              "      <td>(Bread, Cake)</td>\n",
              "    </tr>\n",
              "    <tr>\n",
              "      <th>27</th>\n",
              "      <td>0.020602</td>\n",
              "      <td>(Coffee, Juice)</td>\n",
              "    </tr>\n",
              "    <tr>\n",
              "      <th>18</th>\n",
              "      <td>0.020285</td>\n",
              "      <td>(Truffles)</td>\n",
              "    </tr>\n",
              "  </tbody>\n",
              "</table>\n",
              "</div>\n",
              "      <button class=\"colab-df-convert\" onclick=\"convertToInteractive('df-39e5ed85-820d-4a40-ae6c-733ce6dae467')\"\n",
              "              title=\"Convert this dataframe to an interactive table.\"\n",
              "              style=\"display:none;\">\n",
              "        \n",
              "  <svg xmlns=\"http://www.w3.org/2000/svg\" height=\"24px\"viewBox=\"0 0 24 24\"\n",
              "       width=\"24px\">\n",
              "    <path d=\"M0 0h24v24H0V0z\" fill=\"none\"/>\n",
              "    <path d=\"M18.56 5.44l.94 2.06.94-2.06 2.06-.94-2.06-.94-.94-2.06-.94 2.06-2.06.94zm-11 1L8.5 8.5l.94-2.06 2.06-.94-2.06-.94L8.5 2.5l-.94 2.06-2.06.94zm10 10l.94 2.06.94-2.06 2.06-.94-2.06-.94-.94-2.06-.94 2.06-2.06.94z\"/><path d=\"M17.41 7.96l-1.37-1.37c-.4-.4-.92-.59-1.43-.59-.52 0-1.04.2-1.43.59L10.3 9.45l-7.72 7.72c-.78.78-.78 2.05 0 2.83L4 21.41c.39.39.9.59 1.41.59.51 0 1.02-.2 1.41-.59l7.78-7.78 2.81-2.81c.8-.78.8-2.07 0-2.86zM5.41 20L4 18.59l7.72-7.72 1.47 1.35L5.41 20z\"/>\n",
              "  </svg>\n",
              "      </button>\n",
              "      \n",
              "  <style>\n",
              "    .colab-df-container {\n",
              "      display:flex;\n",
              "      flex-wrap:wrap;\n",
              "      gap: 12px;\n",
              "    }\n",
              "\n",
              "    .colab-df-convert {\n",
              "      background-color: #E8F0FE;\n",
              "      border: none;\n",
              "      border-radius: 50%;\n",
              "      cursor: pointer;\n",
              "      display: none;\n",
              "      fill: #1967D2;\n",
              "      height: 32px;\n",
              "      padding: 0 0 0 0;\n",
              "      width: 32px;\n",
              "    }\n",
              "\n",
              "    .colab-df-convert:hover {\n",
              "      background-color: #E2EBFA;\n",
              "      box-shadow: 0px 1px 2px rgba(60, 64, 67, 0.3), 0px 1px 3px 1px rgba(60, 64, 67, 0.15);\n",
              "      fill: #174EA6;\n",
              "    }\n",
              "\n",
              "    [theme=dark] .colab-df-convert {\n",
              "      background-color: #3B4455;\n",
              "      fill: #D2E3FC;\n",
              "    }\n",
              "\n",
              "    [theme=dark] .colab-df-convert:hover {\n",
              "      background-color: #434B5C;\n",
              "      box-shadow: 0px 1px 3px 1px rgba(0, 0, 0, 0.15);\n",
              "      filter: drop-shadow(0px 1px 2px rgba(0, 0, 0, 0.3));\n",
              "      fill: #FFFFFF;\n",
              "    }\n",
              "  </style>\n",
              "\n",
              "      <script>\n",
              "        const buttonEl =\n",
              "          document.querySelector('#df-39e5ed85-820d-4a40-ae6c-733ce6dae467 button.colab-df-convert');\n",
              "        buttonEl.style.display =\n",
              "          google.colab.kernel.accessAllowed ? 'block' : 'none';\n",
              "\n",
              "        async function convertToInteractive(key) {\n",
              "          const element = document.querySelector('#df-39e5ed85-820d-4a40-ae6c-733ce6dae467');\n",
              "          const dataTable =\n",
              "            await google.colab.kernel.invokeFunction('convertToInteractive',\n",
              "                                                     [key], {});\n",
              "          if (!dataTable) return;\n",
              "\n",
              "          const docLinkHtml = 'Like what you see? Visit the ' +\n",
              "            '<a target=\"_blank\" href=https://colab.research.google.com/notebooks/data_table.ipynb>data table notebook</a>'\n",
              "            + ' to learn more about interactive tables.';\n",
              "          element.innerHTML = '';\n",
              "          dataTable['output_type'] = 'display_data';\n",
              "          await google.colab.output.renderOutput(dataTable, element);\n",
              "          const docLink = document.createElement('div');\n",
              "          docLink.innerHTML = docLinkHtml;\n",
              "          element.appendChild(docLink);\n",
              "        }\n",
              "      </script>\n",
              "    </div>\n",
              "  </div>\n",
              "  "
            ]
          },
          "metadata": {},
          "execution_count": 15
        }
      ]
    },
    {
      "cell_type": "code",
      "source": [
        "from mlxtend.frequent_patterns import association_rules"
      ],
      "metadata": {
        "id": "-52LDK5pncPE"
      },
      "execution_count": null,
      "outputs": []
    },
    {
      "cell_type": "code",
      "source": [
        "regras_apriori = association_rules(items_frequentes_apriori, metric='confidence', min_threshold=0.5)\n",
        "regras_apriori"
      ],
      "metadata": {
        "colab": {
          "base_uri": "https://localhost:8080/",
          "height": 300
        },
        "id": "P98E_bRRbXN6",
        "outputId": "bd8f63ff-eb32-4a67-ed14-cf8cdecd1fcf"
      },
      "execution_count": null,
      "outputs": [
        {
          "output_type": "execute_result",
          "data": {
            "text/plain": [
              "       antecedents consequents  antecedent support  consequent support  \\\n",
              "0           (Cake)    (Coffee)            0.103856            0.478394   \n",
              "1        (Cookies)    (Coffee)            0.054411            0.478394   \n",
              "2  (Hot chocolate)    (Coffee)            0.058320            0.478394   \n",
              "3          (Juice)    (Coffee)            0.038563            0.478394   \n",
              "4      (Medialuna)    (Coffee)            0.061807            0.478394   \n",
              "5         (Pastry)    (Coffee)            0.086107            0.478394   \n",
              "6       (Sandwich)    (Coffee)            0.071844            0.478394   \n",
              "7          (Toast)    (Coffee)            0.033597            0.478394   \n",
              "\n",
              "    support  confidence      lift  leverage  conviction  \n",
              "0  0.054728    0.526958  1.101515  0.005044    1.102664  \n",
              "1  0.028209    0.518447  1.083723  0.002179    1.083174  \n",
              "2  0.029583    0.507246  1.060311  0.001683    1.058553  \n",
              "3  0.020602    0.534247  1.116750  0.002154    1.119919  \n",
              "4  0.035182    0.569231  1.189878  0.005614    1.210871  \n",
              "5  0.047544    0.552147  1.154168  0.006351    1.164682  \n",
              "6  0.038246    0.532353  1.112792  0.003877    1.115384  \n",
              "7  0.023666    0.704403  1.472431  0.007593    1.764582  "
            ],
            "text/html": [
              "\n",
              "  <div id=\"df-9a3ba0f1-4c88-4f95-99c3-8494bea09784\">\n",
              "    <div class=\"colab-df-container\">\n",
              "      <div>\n",
              "<style scoped>\n",
              "    .dataframe tbody tr th:only-of-type {\n",
              "        vertical-align: middle;\n",
              "    }\n",
              "\n",
              "    .dataframe tbody tr th {\n",
              "        vertical-align: top;\n",
              "    }\n",
              "\n",
              "    .dataframe thead th {\n",
              "        text-align: right;\n",
              "    }\n",
              "</style>\n",
              "<table border=\"1\" class=\"dataframe\">\n",
              "  <thead>\n",
              "    <tr style=\"text-align: right;\">\n",
              "      <th></th>\n",
              "      <th>antecedents</th>\n",
              "      <th>consequents</th>\n",
              "      <th>antecedent support</th>\n",
              "      <th>consequent support</th>\n",
              "      <th>support</th>\n",
              "      <th>confidence</th>\n",
              "      <th>lift</th>\n",
              "      <th>leverage</th>\n",
              "      <th>conviction</th>\n",
              "    </tr>\n",
              "  </thead>\n",
              "  <tbody>\n",
              "    <tr>\n",
              "      <th>0</th>\n",
              "      <td>(Cake)</td>\n",
              "      <td>(Coffee)</td>\n",
              "      <td>0.103856</td>\n",
              "      <td>0.478394</td>\n",
              "      <td>0.054728</td>\n",
              "      <td>0.526958</td>\n",
              "      <td>1.101515</td>\n",
              "      <td>0.005044</td>\n",
              "      <td>1.102664</td>\n",
              "    </tr>\n",
              "    <tr>\n",
              "      <th>1</th>\n",
              "      <td>(Cookies)</td>\n",
              "      <td>(Coffee)</td>\n",
              "      <td>0.054411</td>\n",
              "      <td>0.478394</td>\n",
              "      <td>0.028209</td>\n",
              "      <td>0.518447</td>\n",
              "      <td>1.083723</td>\n",
              "      <td>0.002179</td>\n",
              "      <td>1.083174</td>\n",
              "    </tr>\n",
              "    <tr>\n",
              "      <th>2</th>\n",
              "      <td>(Hot chocolate)</td>\n",
              "      <td>(Coffee)</td>\n",
              "      <td>0.058320</td>\n",
              "      <td>0.478394</td>\n",
              "      <td>0.029583</td>\n",
              "      <td>0.507246</td>\n",
              "      <td>1.060311</td>\n",
              "      <td>0.001683</td>\n",
              "      <td>1.058553</td>\n",
              "    </tr>\n",
              "    <tr>\n",
              "      <th>3</th>\n",
              "      <td>(Juice)</td>\n",
              "      <td>(Coffee)</td>\n",
              "      <td>0.038563</td>\n",
              "      <td>0.478394</td>\n",
              "      <td>0.020602</td>\n",
              "      <td>0.534247</td>\n",
              "      <td>1.116750</td>\n",
              "      <td>0.002154</td>\n",
              "      <td>1.119919</td>\n",
              "    </tr>\n",
              "    <tr>\n",
              "      <th>4</th>\n",
              "      <td>(Medialuna)</td>\n",
              "      <td>(Coffee)</td>\n",
              "      <td>0.061807</td>\n",
              "      <td>0.478394</td>\n",
              "      <td>0.035182</td>\n",
              "      <td>0.569231</td>\n",
              "      <td>1.189878</td>\n",
              "      <td>0.005614</td>\n",
              "      <td>1.210871</td>\n",
              "    </tr>\n",
              "    <tr>\n",
              "      <th>5</th>\n",
              "      <td>(Pastry)</td>\n",
              "      <td>(Coffee)</td>\n",
              "      <td>0.086107</td>\n",
              "      <td>0.478394</td>\n",
              "      <td>0.047544</td>\n",
              "      <td>0.552147</td>\n",
              "      <td>1.154168</td>\n",
              "      <td>0.006351</td>\n",
              "      <td>1.164682</td>\n",
              "    </tr>\n",
              "    <tr>\n",
              "      <th>6</th>\n",
              "      <td>(Sandwich)</td>\n",
              "      <td>(Coffee)</td>\n",
              "      <td>0.071844</td>\n",
              "      <td>0.478394</td>\n",
              "      <td>0.038246</td>\n",
              "      <td>0.532353</td>\n",
              "      <td>1.112792</td>\n",
              "      <td>0.003877</td>\n",
              "      <td>1.115384</td>\n",
              "    </tr>\n",
              "    <tr>\n",
              "      <th>7</th>\n",
              "      <td>(Toast)</td>\n",
              "      <td>(Coffee)</td>\n",
              "      <td>0.033597</td>\n",
              "      <td>0.478394</td>\n",
              "      <td>0.023666</td>\n",
              "      <td>0.704403</td>\n",
              "      <td>1.472431</td>\n",
              "      <td>0.007593</td>\n",
              "      <td>1.764582</td>\n",
              "    </tr>\n",
              "  </tbody>\n",
              "</table>\n",
              "</div>\n",
              "      <button class=\"colab-df-convert\" onclick=\"convertToInteractive('df-9a3ba0f1-4c88-4f95-99c3-8494bea09784')\"\n",
              "              title=\"Convert this dataframe to an interactive table.\"\n",
              "              style=\"display:none;\">\n",
              "        \n",
              "  <svg xmlns=\"http://www.w3.org/2000/svg\" height=\"24px\"viewBox=\"0 0 24 24\"\n",
              "       width=\"24px\">\n",
              "    <path d=\"M0 0h24v24H0V0z\" fill=\"none\"/>\n",
              "    <path d=\"M18.56 5.44l.94 2.06.94-2.06 2.06-.94-2.06-.94-.94-2.06-.94 2.06-2.06.94zm-11 1L8.5 8.5l.94-2.06 2.06-.94-2.06-.94L8.5 2.5l-.94 2.06-2.06.94zm10 10l.94 2.06.94-2.06 2.06-.94-2.06-.94-.94-2.06-.94 2.06-2.06.94z\"/><path d=\"M17.41 7.96l-1.37-1.37c-.4-.4-.92-.59-1.43-.59-.52 0-1.04.2-1.43.59L10.3 9.45l-7.72 7.72c-.78.78-.78 2.05 0 2.83L4 21.41c.39.39.9.59 1.41.59.51 0 1.02-.2 1.41-.59l7.78-7.78 2.81-2.81c.8-.78.8-2.07 0-2.86zM5.41 20L4 18.59l7.72-7.72 1.47 1.35L5.41 20z\"/>\n",
              "  </svg>\n",
              "      </button>\n",
              "      \n",
              "  <style>\n",
              "    .colab-df-container {\n",
              "      display:flex;\n",
              "      flex-wrap:wrap;\n",
              "      gap: 12px;\n",
              "    }\n",
              "\n",
              "    .colab-df-convert {\n",
              "      background-color: #E8F0FE;\n",
              "      border: none;\n",
              "      border-radius: 50%;\n",
              "      cursor: pointer;\n",
              "      display: none;\n",
              "      fill: #1967D2;\n",
              "      height: 32px;\n",
              "      padding: 0 0 0 0;\n",
              "      width: 32px;\n",
              "    }\n",
              "\n",
              "    .colab-df-convert:hover {\n",
              "      background-color: #E2EBFA;\n",
              "      box-shadow: 0px 1px 2px rgba(60, 64, 67, 0.3), 0px 1px 3px 1px rgba(60, 64, 67, 0.15);\n",
              "      fill: #174EA6;\n",
              "    }\n",
              "\n",
              "    [theme=dark] .colab-df-convert {\n",
              "      background-color: #3B4455;\n",
              "      fill: #D2E3FC;\n",
              "    }\n",
              "\n",
              "    [theme=dark] .colab-df-convert:hover {\n",
              "      background-color: #434B5C;\n",
              "      box-shadow: 0px 1px 3px 1px rgba(0, 0, 0, 0.15);\n",
              "      filter: drop-shadow(0px 1px 2px rgba(0, 0, 0, 0.3));\n",
              "      fill: #FFFFFF;\n",
              "    }\n",
              "  </style>\n",
              "\n",
              "      <script>\n",
              "        const buttonEl =\n",
              "          document.querySelector('#df-9a3ba0f1-4c88-4f95-99c3-8494bea09784 button.colab-df-convert');\n",
              "        buttonEl.style.display =\n",
              "          google.colab.kernel.accessAllowed ? 'block' : 'none';\n",
              "\n",
              "        async function convertToInteractive(key) {\n",
              "          const element = document.querySelector('#df-9a3ba0f1-4c88-4f95-99c3-8494bea09784');\n",
              "          const dataTable =\n",
              "            await google.colab.kernel.invokeFunction('convertToInteractive',\n",
              "                                                     [key], {});\n",
              "          if (!dataTable) return;\n",
              "\n",
              "          const docLinkHtml = 'Like what you see? Visit the ' +\n",
              "            '<a target=\"_blank\" href=https://colab.research.google.com/notebooks/data_table.ipynb>data table notebook</a>'\n",
              "            + ' to learn more about interactive tables.';\n",
              "          element.innerHTML = '';\n",
              "          dataTable['output_type'] = 'display_data';\n",
              "          await google.colab.output.renderOutput(dataTable, element);\n",
              "          const docLink = document.createElement('div');\n",
              "          docLink.innerHTML = docLinkHtml;\n",
              "          element.appendChild(docLink);\n",
              "        }\n",
              "      </script>\n",
              "    </div>\n",
              "  </div>\n",
              "  "
            ]
          },
          "metadata": {},
          "execution_count": 17
        }
      ]
    },
    {
      "cell_type": "markdown",
      "source": [
        "## Aula 2 - Análise de Agrupamento (parte 1)"
      ],
      "metadata": {
        "id": "r7NA8E7O7pX-"
      }
    },
    {
      "cell_type": "markdown",
      "source": [
        "### Vídeo 2.1 - O que é Clustering?\n",
        "\n",
        "[slides]\n",
        "\n",
        "* O que é clustering (agrupamento)?\n",
        "\n",
        "\"A análise de agrupamentos representa um conjunto de técnicas exploratórias utilizadas quando há a intenção de se verificar a existência de comportamentos semelhantes entre observações em relação a determinadas variáveis e o objetivo de se criarem grupos, ou clusters, em que prevaleça a homogeneidade interna.\"\n",
        "\n",
        "* Dica de leitura: [Clustering - Biblioteca SKlearn](https://scikit-learn.org/stable/modules/clustering.html), [Capítulo 9 - Manual de Análise de Dados](https://www.google.com.br/books/edition/Manual_de_An%C3%A1lise_de_Dados/SmlaDwAAQBAJ?hl=pt-BR&gbpv=0), [Capítulo 9 - Mãos à obra: aprendizado de máquina com Scikit-Learn, Keras & TensorFlow: Conceitos, ferramentas e técnicas para a construção de sistemas inteligentes](https://www.google.com.br/books/edition/M%C3%A3os_A_Obra_Aprendizado_De_M%C3%A1quina_Com/JUBIEAAAQBAJ?hl=pt-BR&gbpv=0) "
      ],
      "metadata": {
        "id": "5TBaZcKkAYz3"
      }
    },
    {
      "cell_type": "markdown",
      "source": [
        "### Vídeo 2.2 - Conhecendo o novo problema\n",
        "\n"
      ],
      "metadata": {
        "id": "CX3tLjlN_qV2"
      }
    },
    {
      "cell_type": "markdown",
      "source": [
        "* Problema: um laboratório de uma indústria alimentícia chamada Pé-de-Feijão, está estudando a criação e identificação de novos produtos a partir dos dados gerados dos diferentes feijões produzidos na última colheita. A ideia é identificar quais e quantos tipos de feijões temos e gerar insights que possam auxiliar nesse objetivo."
      ],
      "metadata": {
        "id": "BE9UDRsDvvuT"
      }
    },
    {
      "cell_type": "code",
      "source": [],
      "metadata": {
        "id": "iiDedESPotAp"
      },
      "execution_count": null,
      "outputs": []
    },
    {
      "cell_type": "code",
      "source": [],
      "metadata": {
        "id": "d1uZ05jPo2NR"
      },
      "execution_count": null,
      "outputs": []
    },
    {
      "cell_type": "code",
      "source": [],
      "metadata": {
        "id": "lrOBbR6LPB8r"
      },
      "execution_count": null,
      "outputs": []
    },
    {
      "cell_type": "code",
      "source": [],
      "metadata": {
        "id": "qBPap-lWuxTr"
      },
      "execution_count": null,
      "outputs": []
    },
    {
      "cell_type": "code",
      "source": [],
      "metadata": {
        "id": "BPFTGFMCuUML"
      },
      "execution_count": null,
      "outputs": []
    },
    {
      "cell_type": "markdown",
      "source": [
        "### Vídeo 2.3 - O que é K-means?\n",
        "\n",
        "[slides]"
      ],
      "metadata": {
        "id": "-0DWXh9xKwzM"
      }
    },
    {
      "cell_type": "markdown",
      "source": [
        "### Vídeo 2.4 - Aplicando o K-means\n",
        "\n"
      ],
      "metadata": {
        "id": "nPM1yHc4AkAl"
      }
    },
    {
      "cell_type": "markdown",
      "source": [
        "#### Pré-processamento"
      ],
      "metadata": {
        "id": "a0_fdESnvrz7"
      }
    },
    {
      "cell_type": "code",
      "source": [],
      "metadata": {
        "id": "3bmAUbrouZu0"
      },
      "execution_count": null,
      "outputs": []
    },
    {
      "cell_type": "code",
      "source": [],
      "metadata": {
        "id": "gNivm-KJFdXE"
      },
      "execution_count": null,
      "outputs": []
    },
    {
      "cell_type": "code",
      "source": [],
      "metadata": {
        "id": "4kT6PID9FdUs"
      },
      "execution_count": null,
      "outputs": []
    },
    {
      "cell_type": "code",
      "source": [],
      "metadata": {
        "id": "ay3YmwozMMmU"
      },
      "execution_count": null,
      "outputs": []
    },
    {
      "cell_type": "code",
      "source": [],
      "metadata": {
        "id": "oR2-dqpyIdL8"
      },
      "execution_count": null,
      "outputs": []
    },
    {
      "cell_type": "code",
      "source": [],
      "metadata": {
        "id": "Ljm4oQ6CIdJM"
      },
      "execution_count": null,
      "outputs": []
    },
    {
      "cell_type": "code",
      "source": [],
      "metadata": {
        "id": "1mVpLEpfI8sE"
      },
      "execution_count": null,
      "outputs": []
    },
    {
      "cell_type": "code",
      "source": [],
      "metadata": {
        "id": "8ftWpWhSyuoH"
      },
      "execution_count": null,
      "outputs": []
    },
    {
      "cell_type": "markdown",
      "source": [
        "* K-Means\n",
        "\n",
        "[Documentação Sklearn](https://scikit-learn.org/stable/modules/generated/sklearn.cluster.KMeans.html#sklearn.cluster.KMeans)"
      ],
      "metadata": {
        "id": "q2XYWKFjQUu6"
      }
    },
    {
      "cell_type": "code",
      "source": [],
      "metadata": {
        "id": "SvV4y4kcFdb0"
      },
      "execution_count": null,
      "outputs": []
    },
    {
      "cell_type": "code",
      "source": [],
      "metadata": {
        "id": "VSAZldVuI8pG"
      },
      "execution_count": null,
      "outputs": []
    },
    {
      "cell_type": "code",
      "source": [],
      "metadata": {
        "id": "0Ak4Q09HKWZk"
      },
      "execution_count": null,
      "outputs": []
    },
    {
      "cell_type": "code",
      "source": [],
      "metadata": {
        "id": "VWi4ms4SKWW8"
      },
      "execution_count": null,
      "outputs": []
    },
    {
      "cell_type": "code",
      "source": [],
      "metadata": {
        "id": "QwD3-c0TVnVE"
      },
      "execution_count": null,
      "outputs": []
    },
    {
      "cell_type": "code",
      "source": [],
      "metadata": {
        "id": "NQ7MVM6_CZuw"
      },
      "execution_count": null,
      "outputs": []
    },
    {
      "cell_type": "code",
      "source": [],
      "metadata": {
        "id": "DIzI4WxrwOGX"
      },
      "execution_count": null,
      "outputs": []
    },
    {
      "cell_type": "markdown",
      "source": [
        "* Visualização com YellowBrick\n",
        "\n",
        "[Documentação `elbow_visualizer`](https://www.scikit-yb.org/en/latest/api/cluster/elbow.html)\n"
      ],
      "metadata": {
        "id": "aiikEFoMUGEa"
      }
    },
    {
      "cell_type": "code",
      "source": [],
      "metadata": {
        "id": "ARV8rEUaV3LK"
      },
      "execution_count": null,
      "outputs": []
    },
    {
      "cell_type": "code",
      "source": [],
      "metadata": {
        "id": "Te1K1fDgXGXh"
      },
      "execution_count": null,
      "outputs": []
    },
    {
      "cell_type": "code",
      "source": [],
      "metadata": {
        "id": "UN2j8AhBWNAb"
      },
      "execution_count": null,
      "outputs": []
    },
    {
      "cell_type": "code",
      "source": [],
      "metadata": {
        "id": "dSUAwr-TFu-P"
      },
      "execution_count": null,
      "outputs": []
    },
    {
      "cell_type": "code",
      "source": [],
      "metadata": {
        "id": "c2YY1ajeGLhQ"
      },
      "execution_count": null,
      "outputs": []
    },
    {
      "cell_type": "markdown",
      "source": [
        "## Aula 3 - Análise de Agrupamento (parte 2)"
      ],
      "metadata": {
        "id": "2m3kpf3kNRJ5"
      }
    },
    {
      "cell_type": "markdown",
      "source": [
        "### Vídeo 3.1 - O que é Mean Shift?\n",
        "\n",
        "[Slides]"
      ],
      "metadata": {
        "id": "yXi_uLOYNYe5"
      }
    },
    {
      "cell_type": "markdown",
      "source": [
        "### Vídeo 3.2 - Aplicando o Mean Shift"
      ],
      "metadata": {
        "id": "uk1UI-WINMSK"
      }
    },
    {
      "cell_type": "markdown",
      "source": [
        "* MeanShift\n",
        "\n",
        "[Documentação Sklearn](https://scikit-learn.org/stable/modules/generated/sklearn.cluster.MeanShift.html#sklearn.cluster.MeanShift)\n",
        "\n",
        "[Documentação `estimate_bandwidth`](https://scikit-learn.org/stable/modules/generated/sklearn.cluster.estimate_bandwidth.html?highlight=bandwidth#sklearn.cluster.estimate_bandwidth)\n",
        "\n",
        "* Dica de leitura: [Artigo científico - Mean shift: a robust approach toward feature space analysis](https://courses.csail.mit.edu/6.869/handouts/PAMIMeanshift.pdf)"
      ],
      "metadata": {
        "id": "izj-tQDmZAwB"
      }
    },
    {
      "cell_type": "code",
      "source": [],
      "metadata": {
        "id": "EIqDlO8Xo4HF"
      },
      "execution_count": null,
      "outputs": []
    },
    {
      "cell_type": "code",
      "source": [],
      "metadata": {
        "id": "9pBxd1wqZ9BN"
      },
      "execution_count": null,
      "outputs": []
    },
    {
      "cell_type": "code",
      "source": [],
      "metadata": {
        "id": "4v9GddAuZ8-6"
      },
      "execution_count": null,
      "outputs": []
    },
    {
      "cell_type": "code",
      "source": [],
      "metadata": {
        "id": "gzbW8vUQZ88p"
      },
      "execution_count": null,
      "outputs": []
    },
    {
      "cell_type": "code",
      "source": [],
      "metadata": {
        "id": "vx8a9OMFZ86N"
      },
      "execution_count": null,
      "outputs": []
    },
    {
      "cell_type": "code",
      "source": [],
      "metadata": {
        "id": "v73ef9T9C1KI"
      },
      "execution_count": null,
      "outputs": []
    },
    {
      "cell_type": "markdown",
      "source": [
        "### Vídeo 3.3 - O que é DBSCAN?\n",
        "\n",
        "[Slides]"
      ],
      "metadata": {
        "id": "y2DD1CqZNdL4"
      }
    },
    {
      "cell_type": "markdown",
      "source": [
        "### Vídeo 3.4 - Aplicando DBSCAN no problema"
      ],
      "metadata": {
        "id": "dFNLQzGpNhaI"
      }
    },
    {
      "cell_type": "markdown",
      "source": [
        "* DBSCAN\n",
        "\n",
        "[Documentação Sklearn](https://scikit-learn.org/stable/modules/generated/sklearn.cluster.DBSCAN.html#sklearn.cluster.DBSCAN)"
      ],
      "metadata": {
        "id": "_PoNtvgW0oBU"
      }
    },
    {
      "cell_type": "code",
      "source": [],
      "metadata": {
        "id": "tf2Eoxb-pAsy"
      },
      "execution_count": null,
      "outputs": []
    },
    {
      "cell_type": "code",
      "source": [],
      "metadata": {
        "id": "utKZyM3G0w8z"
      },
      "execution_count": null,
      "outputs": []
    },
    {
      "cell_type": "code",
      "source": [],
      "metadata": {
        "id": "MIev8uPo0w6L"
      },
      "execution_count": null,
      "outputs": []
    },
    {
      "cell_type": "code",
      "source": [],
      "metadata": {
        "id": "toWzMvTs0w4T"
      },
      "execution_count": null,
      "outputs": []
    },
    {
      "cell_type": "code",
      "source": [],
      "metadata": {
        "id": "G96ZQv6B5_Zz"
      },
      "execution_count": null,
      "outputs": []
    },
    {
      "cell_type": "code",
      "source": [],
      "metadata": {
        "id": "CjG3lQrM0w1z"
      },
      "execution_count": null,
      "outputs": []
    },
    {
      "cell_type": "code",
      "source": [],
      "metadata": {
        "id": "CVZN2AsXDMCp"
      },
      "execution_count": null,
      "outputs": []
    },
    {
      "cell_type": "markdown",
      "source": [
        "## Aula 4 - Redução de Dimensionalidade\n"
      ],
      "metadata": {
        "id": "df8LGTqkA9kl"
      }
    },
    {
      "cell_type": "markdown",
      "source": [
        "### Vídeo 4.1 - O que é Redução de Dimensionalidade?\n",
        "\n",
        "[Slides]\n",
        "\n",
        "* O que é Maldição da Dimensionalidade?\n",
        "\n",
        "Fenômeno que ocorre quando temos uma grande quantidade de variáveis e muitas vezes são altamente correlacionadas ou não agregam informação útil ao problema que estamos lidando.\n",
        "\n",
        "* Redução de dimensionalidade\n",
        "\n",
        "Reduzir o número de características para que reduza o custo e a facilite o desenvolvimento de uma solução.\n"
      ],
      "metadata": {
        "id": "wqjEywQBNqq5"
      }
    },
    {
      "cell_type": "markdown",
      "source": [
        "### Vídeo 4.2 - O que é PCA?\n",
        "\n",
        "[Slides]\n",
        "\n",
        "* Faremos uma simulação desta técnica a seguir, utilizando o problema da Indústria Pé-de-Feijão!\n",
        "\n",
        "* O que é PCA (Principal Component Analysis)?\n",
        "\n",
        "\"A análise fatorial por componentes principais permite, portanto, que, a partir de um conjunto de variáveis originais correlacionadas entre si, seja determinado outro conjunto de variáveis (fatores) resultantes da combinação linear do primeiro conjunto.\"\n",
        "\n",
        "* Dica de leitura: [Documentação Sklearn - Técnicas de Redução de Dimensionalidade](https://scikit-learn.org/stable/modules/decomposition.html#decompositions), [Capítulo 10 - Manual de Análise de Dados](https://www.google.com.br/books/edition/Manual_de_An%C3%A1lise_de_Dados/SmlaDwAAQBAJ?hl=pt-BR&gbpv=0)"
      ],
      "metadata": {
        "id": "F5Wd79ndNu_o"
      }
    },
    {
      "cell_type": "markdown",
      "source": [
        "### Vídeo 4.3 - Simulando PCA nos dados"
      ],
      "metadata": {
        "id": "fkADq3mQNyM7"
      }
    },
    {
      "cell_type": "code",
      "source": [],
      "metadata": {
        "id": "7dbfYjhyA9OD"
      },
      "execution_count": null,
      "outputs": []
    },
    {
      "cell_type": "code",
      "source": [],
      "metadata": {
        "id": "eLIA2QW9FC5C"
      },
      "execution_count": null,
      "outputs": []
    },
    {
      "cell_type": "code",
      "source": [],
      "metadata": {
        "id": "1Ll1WqGqFn77"
      },
      "execution_count": null,
      "outputs": []
    },
    {
      "cell_type": "code",
      "source": [],
      "metadata": {
        "id": "BBXaWAFoGscK"
      },
      "execution_count": null,
      "outputs": []
    },
    {
      "cell_type": "code",
      "source": [],
      "metadata": {
        "id": "fM2Q2LFnHZDE"
      },
      "execution_count": null,
      "outputs": []
    },
    {
      "cell_type": "code",
      "source": [],
      "metadata": {
        "id": "Twng3UwxZM_9"
      },
      "execution_count": null,
      "outputs": []
    },
    {
      "cell_type": "code",
      "source": [],
      "metadata": {
        "id": "zBDSBa5-XUsM"
      },
      "execution_count": null,
      "outputs": []
    },
    {
      "cell_type": "code",
      "source": [],
      "metadata": {
        "id": "uMdRcmZlXuAs"
      },
      "execution_count": null,
      "outputs": []
    },
    {
      "cell_type": "code",
      "source": [],
      "metadata": {
        "id": "PdRJr1qNoNQR"
      },
      "execution_count": null,
      "outputs": []
    },
    {
      "cell_type": "markdown",
      "source": [
        "### Vídeo 4.4 - Simulando PCA nos dados com 3 componentes"
      ],
      "metadata": {
        "id": "E0pk6_enxpxq"
      }
    },
    {
      "cell_type": "code",
      "source": [],
      "metadata": {
        "id": "vPQ7H8STaQkW"
      },
      "execution_count": null,
      "outputs": []
    },
    {
      "cell_type": "code",
      "source": [],
      "metadata": {
        "id": "pgJklQfbyyT6"
      },
      "execution_count": null,
      "outputs": []
    },
    {
      "cell_type": "code",
      "source": [],
      "metadata": {
        "id": "XlO4ZARexvMT"
      },
      "execution_count": null,
      "outputs": []
    },
    {
      "cell_type": "code",
      "source": [],
      "metadata": {
        "id": "0Z3g5mAnLF1R"
      },
      "execution_count": null,
      "outputs": []
    }
  ]
}