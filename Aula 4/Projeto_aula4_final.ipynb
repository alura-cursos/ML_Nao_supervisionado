{
  "nbformat": 4,
  "nbformat_minor": 0,
  "metadata": {
    "colab": {
      "name": "Projeto.ipynb",
      "provenance": [],
      "collapsed_sections": []
    },
    "kernelspec": {
      "name": "python3",
      "display_name": "Python 3"
    },
    "language_info": {
      "name": "python"
    }
  },
  "cells": [
    {
      "cell_type": "markdown",
      "source": [
        "# Machine Learning Não Supervisionado: primeiras técnicas e métodos"
      ],
      "metadata": {
        "id": "awLIHqvjnAoC"
      }
    },
    {
      "cell_type": "markdown",
      "source": [
        "## Aula 1 - Machine Learning Não Supervisionado\n",
        "\n",
        "### Vídeo 1.1 - Apresentação\n",
        " "
      ],
      "metadata": {
        "id": "sAD9v5u2owIC"
      }
    },
    {
      "cell_type": "markdown",
      "source": [
        "### Vídeo 1.2 - O que é aprendizado não supervisionado?\n"
      ],
      "metadata": {
        "id": "12WH4LtQtX9G"
      }
    },
    {
      "cell_type": "markdown",
      "source": [
        "* Técnicas que temos:\n",
        "  * Clustering\n",
        "  * Redução de Dimensionalidade\n",
        "  * Análise de Correspondência Simples e Múltipla\n",
        "  * Detecção de anomalias/outliers\n",
        "  * Regras de Associação\n",
        "* Aplicações no mercado (finanças, saúde, agricultura).\n",
        "\n",
        "* Problema: Alura Data, empresa de consultoria em dados, recebeu uma padaria que deseja analisar as informações das compras realizadas por seus clientes para poder entender melhor o comportamento de suas compras para que possam criar vendas direcionadas e mais eficazes."
      ],
      "metadata": {
        "id": "4p62jIXbo1Nu"
      }
    },
    {
      "cell_type": "code",
      "execution_count": null,
      "metadata": {
        "id": "CoUgIzhJkqGk"
      },
      "outputs": [],
      "source": [
        "import pandas as pd"
      ]
    },
    {
      "cell_type": "code",
      "source": [
        "dados = pd.read_csv('/content/sample_data/Bakery.csv') "
      ],
      "metadata": {
        "id": "E-dV_psaMT3v"
      },
      "execution_count": null,
      "outputs": []
    },
    {
      "cell_type": "code",
      "source": [
        "dados.info()"
      ],
      "metadata": {
        "colab": {
          "base_uri": "https://localhost:8080/"
        },
        "id": "CkPz1jL2Mcsr",
        "outputId": "0d313e3a-f951-4a7e-be7d-9d71908f7ac0"
      },
      "execution_count": null,
      "outputs": [
        {
          "output_type": "stream",
          "name": "stdout",
          "text": [
            "<class 'pandas.core.frame.DataFrame'>\n",
            "RangeIndex: 20507 entries, 0 to 20506\n",
            "Data columns (total 5 columns):\n",
            " #   Column         Non-Null Count  Dtype \n",
            "---  ------         --------------  ----- \n",
            " 0   TransactionNo  20507 non-null  int64 \n",
            " 1   Items          20507 non-null  object\n",
            " 2   DateTime       20507 non-null  object\n",
            " 3   Daypart        20507 non-null  object\n",
            " 4   DayType        20507 non-null  object\n",
            "dtypes: int64(1), object(4)\n",
            "memory usage: 801.2+ KB\n"
          ]
        }
      ]
    },
    {
      "cell_type": "code",
      "source": [
        "dados.head()"
      ],
      "metadata": {
        "colab": {
          "base_uri": "https://localhost:8080/",
          "height": 206
        },
        "id": "YB7quuO2Mdg_",
        "outputId": "680fabb1-2e84-4b4c-feef-b98c9482b24e"
      },
      "execution_count": null,
      "outputs": [
        {
          "output_type": "execute_result",
          "data": {
            "text/plain": [
              "   TransactionNo          Items             DateTime  Daypart  DayType\n",
              "0              1          Bread  2016-10-30 09:58:11  Morning  Weekend\n",
              "1              2   Scandinavian  2016-10-30 10:05:34  Morning  Weekend\n",
              "2              2   Scandinavian  2016-10-30 10:05:34  Morning  Weekend\n",
              "3              3  Hot chocolate  2016-10-30 10:07:57  Morning  Weekend\n",
              "4              3            Jam  2016-10-30 10:07:57  Morning  Weekend"
            ],
            "text/html": [
              "\n",
              "  <div id=\"df-34d65ddb-c59b-484e-8fc4-3e776b4db4f6\">\n",
              "    <div class=\"colab-df-container\">\n",
              "      <div>\n",
              "<style scoped>\n",
              "    .dataframe tbody tr th:only-of-type {\n",
              "        vertical-align: middle;\n",
              "    }\n",
              "\n",
              "    .dataframe tbody tr th {\n",
              "        vertical-align: top;\n",
              "    }\n",
              "\n",
              "    .dataframe thead th {\n",
              "        text-align: right;\n",
              "    }\n",
              "</style>\n",
              "<table border=\"1\" class=\"dataframe\">\n",
              "  <thead>\n",
              "    <tr style=\"text-align: right;\">\n",
              "      <th></th>\n",
              "      <th>TransactionNo</th>\n",
              "      <th>Items</th>\n",
              "      <th>DateTime</th>\n",
              "      <th>Daypart</th>\n",
              "      <th>DayType</th>\n",
              "    </tr>\n",
              "  </thead>\n",
              "  <tbody>\n",
              "    <tr>\n",
              "      <th>0</th>\n",
              "      <td>1</td>\n",
              "      <td>Bread</td>\n",
              "      <td>2016-10-30 09:58:11</td>\n",
              "      <td>Morning</td>\n",
              "      <td>Weekend</td>\n",
              "    </tr>\n",
              "    <tr>\n",
              "      <th>1</th>\n",
              "      <td>2</td>\n",
              "      <td>Scandinavian</td>\n",
              "      <td>2016-10-30 10:05:34</td>\n",
              "      <td>Morning</td>\n",
              "      <td>Weekend</td>\n",
              "    </tr>\n",
              "    <tr>\n",
              "      <th>2</th>\n",
              "      <td>2</td>\n",
              "      <td>Scandinavian</td>\n",
              "      <td>2016-10-30 10:05:34</td>\n",
              "      <td>Morning</td>\n",
              "      <td>Weekend</td>\n",
              "    </tr>\n",
              "    <tr>\n",
              "      <th>3</th>\n",
              "      <td>3</td>\n",
              "      <td>Hot chocolate</td>\n",
              "      <td>2016-10-30 10:07:57</td>\n",
              "      <td>Morning</td>\n",
              "      <td>Weekend</td>\n",
              "    </tr>\n",
              "    <tr>\n",
              "      <th>4</th>\n",
              "      <td>3</td>\n",
              "      <td>Jam</td>\n",
              "      <td>2016-10-30 10:07:57</td>\n",
              "      <td>Morning</td>\n",
              "      <td>Weekend</td>\n",
              "    </tr>\n",
              "  </tbody>\n",
              "</table>\n",
              "</div>\n",
              "      <button class=\"colab-df-convert\" onclick=\"convertToInteractive('df-34d65ddb-c59b-484e-8fc4-3e776b4db4f6')\"\n",
              "              title=\"Convert this dataframe to an interactive table.\"\n",
              "              style=\"display:none;\">\n",
              "        \n",
              "  <svg xmlns=\"http://www.w3.org/2000/svg\" height=\"24px\"viewBox=\"0 0 24 24\"\n",
              "       width=\"24px\">\n",
              "    <path d=\"M0 0h24v24H0V0z\" fill=\"none\"/>\n",
              "    <path d=\"M18.56 5.44l.94 2.06.94-2.06 2.06-.94-2.06-.94-.94-2.06-.94 2.06-2.06.94zm-11 1L8.5 8.5l.94-2.06 2.06-.94-2.06-.94L8.5 2.5l-.94 2.06-2.06.94zm10 10l.94 2.06.94-2.06 2.06-.94-2.06-.94-.94-2.06-.94 2.06-2.06.94z\"/><path d=\"M17.41 7.96l-1.37-1.37c-.4-.4-.92-.59-1.43-.59-.52 0-1.04.2-1.43.59L10.3 9.45l-7.72 7.72c-.78.78-.78 2.05 0 2.83L4 21.41c.39.39.9.59 1.41.59.51 0 1.02-.2 1.41-.59l7.78-7.78 2.81-2.81c.8-.78.8-2.07 0-2.86zM5.41 20L4 18.59l7.72-7.72 1.47 1.35L5.41 20z\"/>\n",
              "  </svg>\n",
              "      </button>\n",
              "      \n",
              "  <style>\n",
              "    .colab-df-container {\n",
              "      display:flex;\n",
              "      flex-wrap:wrap;\n",
              "      gap: 12px;\n",
              "    }\n",
              "\n",
              "    .colab-df-convert {\n",
              "      background-color: #E8F0FE;\n",
              "      border: none;\n",
              "      border-radius: 50%;\n",
              "      cursor: pointer;\n",
              "      display: none;\n",
              "      fill: #1967D2;\n",
              "      height: 32px;\n",
              "      padding: 0 0 0 0;\n",
              "      width: 32px;\n",
              "    }\n",
              "\n",
              "    .colab-df-convert:hover {\n",
              "      background-color: #E2EBFA;\n",
              "      box-shadow: 0px 1px 2px rgba(60, 64, 67, 0.3), 0px 1px 3px 1px rgba(60, 64, 67, 0.15);\n",
              "      fill: #174EA6;\n",
              "    }\n",
              "\n",
              "    [theme=dark] .colab-df-convert {\n",
              "      background-color: #3B4455;\n",
              "      fill: #D2E3FC;\n",
              "    }\n",
              "\n",
              "    [theme=dark] .colab-df-convert:hover {\n",
              "      background-color: #434B5C;\n",
              "      box-shadow: 0px 1px 3px 1px rgba(0, 0, 0, 0.15);\n",
              "      filter: drop-shadow(0px 1px 2px rgba(0, 0, 0, 0.3));\n",
              "      fill: #FFFFFF;\n",
              "    }\n",
              "  </style>\n",
              "\n",
              "      <script>\n",
              "        const buttonEl =\n",
              "          document.querySelector('#df-34d65ddb-c59b-484e-8fc4-3e776b4db4f6 button.colab-df-convert');\n",
              "        buttonEl.style.display =\n",
              "          google.colab.kernel.accessAllowed ? 'block' : 'none';\n",
              "\n",
              "        async function convertToInteractive(key) {\n",
              "          const element = document.querySelector('#df-34d65ddb-c59b-484e-8fc4-3e776b4db4f6');\n",
              "          const dataTable =\n",
              "            await google.colab.kernel.invokeFunction('convertToInteractive',\n",
              "                                                     [key], {});\n",
              "          if (!dataTable) return;\n",
              "\n",
              "          const docLinkHtml = 'Like what you see? Visit the ' +\n",
              "            '<a target=\"_blank\" href=https://colab.research.google.com/notebooks/data_table.ipynb>data table notebook</a>'\n",
              "            + ' to learn more about interactive tables.';\n",
              "          element.innerHTML = '';\n",
              "          dataTable['output_type'] = 'display_data';\n",
              "          await google.colab.output.renderOutput(dataTable, element);\n",
              "          const docLink = document.createElement('div');\n",
              "          docLink.innerHTML = docLinkHtml;\n",
              "          element.appendChild(docLink);\n",
              "        }\n",
              "      </script>\n",
              "    </div>\n",
              "  </div>\n",
              "  "
            ]
          },
          "metadata": {},
          "execution_count": 4
        }
      ]
    },
    {
      "cell_type": "code",
      "source": [
        "#Tratamento dos dados\n",
        "#lista de transações\n",
        "\n",
        "transacao = []\n",
        "\n",
        "for item in dados['TransactionNo'].unique():\n",
        "  lista = list(set(dados[dados['TransactionNo']==item]['Items']))\n",
        "  transacao.append(lista)"
      ],
      "metadata": {
        "id": "Tf6Y5qB3fHOM"
      },
      "execution_count": null,
      "outputs": []
    },
    {
      "cell_type": "code",
      "source": [
        "transacao[0:5]"
      ],
      "metadata": {
        "colab": {
          "base_uri": "https://localhost:8080/"
        },
        "id": "FTv0FG0NfsAU",
        "outputId": "1033a40a-2d11-4db7-ddf6-74913ac9e705"
      },
      "execution_count": null,
      "outputs": [
        {
          "output_type": "execute_result",
          "data": {
            "text/plain": [
              "[['Bread'],\n",
              " ['Scandinavian'],\n",
              " ['Jam', 'Cookies', 'Hot chocolate'],\n",
              " ['Muffin'],\n",
              " ['Coffee', 'Bread', 'Pastry']]"
            ]
          },
          "metadata": {},
          "execution_count": 6
        }
      ]
    },
    {
      "cell_type": "markdown",
      "source": [
        "### Vídeo 1.3 - O que é a Regra de Associação?\n",
        "\n",
        "[slides]"
      ],
      "metadata": {
        "id": "Q4stdnmytMpN"
      }
    },
    {
      "cell_type": "markdown",
      "source": [
        "### Vídeo 1.4 - Algoritmo Apriori \n",
        "\n",
        "[slides]"
      ],
      "metadata": {
        "id": "mzaO1R1l2yIG"
      }
    },
    {
      "cell_type": "markdown",
      "source": [
        "### Vídeo 1.5 - Aplicando a Regra de Associação"
      ],
      "metadata": {
        "id": "iRSN69vp3AdN"
      }
    },
    {
      "cell_type": "markdown",
      "source": [
        "#### Regra de Associação\n",
        "\n",
        "\n"
      ],
      "metadata": {
        "id": "TbUY-i84pbkZ"
      }
    },
    {
      "cell_type": "markdown",
      "source": [
        "* O que é Regra de Associação?\n",
        "\n",
        "É um método conhecido como análise de associação, que busca identificar relacionamentos desconhecidos em grandes conjuntos de dados.\n",
        "\n",
        "* Dica de leitura: [Wikipedia - Regras de Associação](https://en.wikipedia.org/wiki/Association_rule_learning), [Capítulo 4 - Introduction to Data Mining](https://www.amazon.com.br/Introduction-Data-Mining-Global-Pang-Ning/dp/0273769227/ref=sr_1_3?__mk_pt_BR=%C3%85M%C3%85%C5%BD%C3%95%C3%91&crid=NB5N4VIW2CSX&keywords=introduction+to+data+mining&qid=1659974700&sprefix=introduction+to+data+mining%2Caps%2C209&sr=8-3&ufe=app_do%3Aamzn1.fos.25548f35-0de7-44b3-b28e-0f56f3f96147) \n",
        "\n",
        "* Biblioteca que iremos utilizar chama-se [mlxtend](http://rasbt.github.io/mlxtend/), caso queira conhecer mais confira o link!"
      ],
      "metadata": {
        "id": "PIyJe2DLpEjF"
      }
    },
    {
      "cell_type": "code",
      "source": [
        "#!pip install mlxtend"
      ],
      "metadata": {
        "id": "EBheo7vjZrfj"
      },
      "execution_count": null,
      "outputs": []
    },
    {
      "cell_type": "code",
      "source": [
        "!pip install mlxtend --upgrade"
      ],
      "metadata": {
        "id": "_-Hx6Ng7UBXu",
        "colab": {
          "base_uri": "https://localhost:8080/"
        },
        "outputId": "0334d2d5-d460-4507-9c9d-3dd6ea6bff8a"
      },
      "execution_count": null,
      "outputs": [
        {
          "output_type": "stream",
          "name": "stdout",
          "text": [
            "Looking in indexes: https://pypi.org/simple, https://us-python.pkg.dev/colab-wheels/public/simple/\n",
            "Requirement already satisfied: mlxtend in /usr/local/lib/python3.7/dist-packages (0.14.0)\n",
            "Collecting mlxtend\n",
            "  Downloading mlxtend-0.20.0-py2.py3-none-any.whl (1.3 MB)\n",
            "\u001b[K     |████████████████████████████████| 1.3 MB 5.2 MB/s \n",
            "\u001b[?25hRequirement already satisfied: scikit-learn>=1.0.2 in /usr/local/lib/python3.7/dist-packages (from mlxtend) (1.0.2)\n",
            "Requirement already satisfied: setuptools in /usr/local/lib/python3.7/dist-packages (from mlxtend) (57.4.0)\n",
            "Requirement already satisfied: scipy>=1.2.1 in /usr/local/lib/python3.7/dist-packages (from mlxtend) (1.7.3)\n",
            "Requirement already satisfied: joblib>=0.13.2 in /usr/local/lib/python3.7/dist-packages (from mlxtend) (1.1.0)\n",
            "Requirement already satisfied: pandas>=0.24.2 in /usr/local/lib/python3.7/dist-packages (from mlxtend) (1.3.5)\n",
            "Requirement already satisfied: numpy>=1.16.2 in /usr/local/lib/python3.7/dist-packages (from mlxtend) (1.21.6)\n",
            "Requirement already satisfied: matplotlib>=3.0.0 in /usr/local/lib/python3.7/dist-packages (from mlxtend) (3.2.2)\n",
            "Requirement already satisfied: cycler>=0.10 in /usr/local/lib/python3.7/dist-packages (from matplotlib>=3.0.0->mlxtend) (0.11.0)\n",
            "Requirement already satisfied: python-dateutil>=2.1 in /usr/local/lib/python3.7/dist-packages (from matplotlib>=3.0.0->mlxtend) (2.8.2)\n",
            "Requirement already satisfied: kiwisolver>=1.0.1 in /usr/local/lib/python3.7/dist-packages (from matplotlib>=3.0.0->mlxtend) (1.4.4)\n",
            "Requirement already satisfied: pyparsing!=2.0.4,!=2.1.2,!=2.1.6,>=2.0.1 in /usr/local/lib/python3.7/dist-packages (from matplotlib>=3.0.0->mlxtend) (3.0.9)\n",
            "Requirement already satisfied: typing-extensions in /usr/local/lib/python3.7/dist-packages (from kiwisolver>=1.0.1->matplotlib>=3.0.0->mlxtend) (4.1.1)\n",
            "Requirement already satisfied: pytz>=2017.3 in /usr/local/lib/python3.7/dist-packages (from pandas>=0.24.2->mlxtend) (2022.2)\n",
            "Requirement already satisfied: six>=1.5 in /usr/local/lib/python3.7/dist-packages (from python-dateutil>=2.1->matplotlib>=3.0.0->mlxtend) (1.15.0)\n",
            "Requirement already satisfied: threadpoolctl>=2.0.0 in /usr/local/lib/python3.7/dist-packages (from scikit-learn>=1.0.2->mlxtend) (3.1.0)\n",
            "Installing collected packages: mlxtend\n",
            "  Attempting uninstall: mlxtend\n",
            "    Found existing installation: mlxtend 0.14.0\n",
            "    Uninstalling mlxtend-0.14.0:\n",
            "      Successfully uninstalled mlxtend-0.14.0\n",
            "Successfully installed mlxtend-0.20.0\n"
          ]
        }
      ]
    },
    {
      "cell_type": "markdown",
      "source": [
        "* É necessário converter as listas de itens em um dataframe com as transações que o modelo de machine learning possa processar.\n",
        "\n",
        "* [`TransactionEncoder()`](http://rasbt.github.io/mlxtend/user_guide/preprocessing/TransactionEncoder/) - utiliza do one-hot encoding para transformar os dados categóricos em valores booleanos."
      ],
      "metadata": {
        "id": "vd_oBUBQgNGL"
      }
    },
    {
      "cell_type": "code",
      "source": [
        "from mlxtend.preprocessing import TransactionEncoder"
      ],
      "metadata": {
        "id": "HxeNOTqycgxH"
      },
      "execution_count": null,
      "outputs": []
    },
    {
      "cell_type": "code",
      "source": [
        "te = TransactionEncoder()"
      ],
      "metadata": {
        "id": "bTROOro8dAes"
      },
      "execution_count": null,
      "outputs": []
    },
    {
      "cell_type": "code",
      "source": [
        "transacao_te = te.fit(transacao).transform(transacao)"
      ],
      "metadata": {
        "id": "GwZuNGedhiOK"
      },
      "execution_count": null,
      "outputs": []
    },
    {
      "cell_type": "code",
      "source": [
        "transacao_te"
      ],
      "metadata": {
        "colab": {
          "base_uri": "https://localhost:8080/"
        },
        "id": "wJdCmZAGhiL8",
        "outputId": "8aa55a83-e8b6-424d-dbb3-8612a5bd0c96"
      },
      "execution_count": null,
      "outputs": [
        {
          "output_type": "execute_result",
          "data": {
            "text/plain": [
              "array([[False, False, False, ..., False, False, False],\n",
              "       [False, False, False, ..., False, False, False],\n",
              "       [False, False, False, ..., False, False, False],\n",
              "       ...,\n",
              "       [False, False, False, ..., False, False, False],\n",
              "       [False, False, False, ..., False, False, False],\n",
              "       [False, False, False, ..., False, False, False]])"
            ]
          },
          "metadata": {},
          "execution_count": 12
        }
      ]
    },
    {
      "cell_type": "code",
      "source": [
        "transacao_transformado = pd.DataFrame(transacao_te, columns=te.columns_)\n",
        "transacao_transformado"
      ],
      "metadata": {
        "colab": {
          "base_uri": "https://localhost:8080/",
          "height": 522
        },
        "id": "Htj0czeghiHL",
        "outputId": "db0780f0-463f-419c-cec7-85929a1430bc"
      },
      "execution_count": null,
      "outputs": [
        {
          "output_type": "execute_result",
          "data": {
            "text/plain": [
              "      Adjustment  Afternoon with the baker  Alfajores  Argentina Night  \\\n",
              "0          False                     False      False            False   \n",
              "1          False                     False      False            False   \n",
              "2          False                     False      False            False   \n",
              "3          False                     False      False            False   \n",
              "4          False                     False      False            False   \n",
              "...          ...                       ...        ...              ...   \n",
              "9460       False                     False      False            False   \n",
              "9461       False                     False      False            False   \n",
              "9462       False                     False      False            False   \n",
              "9463       False                     False      False            False   \n",
              "9464       False                     False      False            False   \n",
              "\n",
              "      Art Tray  Bacon  Baguette  Bakewell  Bare Popcorn  Basket  ...  \\\n",
              "0        False  False     False     False         False   False  ...   \n",
              "1        False  False     False     False         False   False  ...   \n",
              "2        False  False     False     False         False   False  ...   \n",
              "3        False  False     False     False         False   False  ...   \n",
              "4        False  False     False     False         False   False  ...   \n",
              "...        ...    ...       ...       ...           ...     ...  ...   \n",
              "9460     False  False     False     False         False   False  ...   \n",
              "9461     False  False     False     False         False   False  ...   \n",
              "9462     False  False     False     False         False   False  ...   \n",
              "9463     False  False     False     False         False   False  ...   \n",
              "9464     False  False     False     False         False   False  ...   \n",
              "\n",
              "      The BART  The Nomad  Tiffin  Toast  Truffles  Tshirt  Valentine's card  \\\n",
              "0        False      False   False  False     False   False             False   \n",
              "1        False      False   False  False     False   False             False   \n",
              "2        False      False   False  False     False   False             False   \n",
              "3        False      False   False  False     False   False             False   \n",
              "4        False      False   False  False     False   False             False   \n",
              "...        ...        ...     ...    ...       ...     ...               ...   \n",
              "9460     False      False   False  False     False   False             False   \n",
              "9461     False      False   False  False      True   False             False   \n",
              "9462     False      False   False  False     False   False             False   \n",
              "9463     False      False   False  False     False   False             False   \n",
              "9464     False      False   False  False     False   False             False   \n",
              "\n",
              "      Vegan Feast  Vegan mincepie  Victorian Sponge  \n",
              "0           False           False             False  \n",
              "1           False           False             False  \n",
              "2           False           False             False  \n",
              "3           False           False             False  \n",
              "4           False           False             False  \n",
              "...           ...             ...               ...  \n",
              "9460        False           False             False  \n",
              "9461        False           False             False  \n",
              "9462        False           False             False  \n",
              "9463        False           False             False  \n",
              "9464        False           False             False  \n",
              "\n",
              "[9465 rows x 94 columns]"
            ],
            "text/html": [
              "\n",
              "  <div id=\"df-e9fbaefc-86ca-4087-8d5a-ad3539a067d9\">\n",
              "    <div class=\"colab-df-container\">\n",
              "      <div>\n",
              "<style scoped>\n",
              "    .dataframe tbody tr th:only-of-type {\n",
              "        vertical-align: middle;\n",
              "    }\n",
              "\n",
              "    .dataframe tbody tr th {\n",
              "        vertical-align: top;\n",
              "    }\n",
              "\n",
              "    .dataframe thead th {\n",
              "        text-align: right;\n",
              "    }\n",
              "</style>\n",
              "<table border=\"1\" class=\"dataframe\">\n",
              "  <thead>\n",
              "    <tr style=\"text-align: right;\">\n",
              "      <th></th>\n",
              "      <th>Adjustment</th>\n",
              "      <th>Afternoon with the baker</th>\n",
              "      <th>Alfajores</th>\n",
              "      <th>Argentina Night</th>\n",
              "      <th>Art Tray</th>\n",
              "      <th>Bacon</th>\n",
              "      <th>Baguette</th>\n",
              "      <th>Bakewell</th>\n",
              "      <th>Bare Popcorn</th>\n",
              "      <th>Basket</th>\n",
              "      <th>...</th>\n",
              "      <th>The BART</th>\n",
              "      <th>The Nomad</th>\n",
              "      <th>Tiffin</th>\n",
              "      <th>Toast</th>\n",
              "      <th>Truffles</th>\n",
              "      <th>Tshirt</th>\n",
              "      <th>Valentine's card</th>\n",
              "      <th>Vegan Feast</th>\n",
              "      <th>Vegan mincepie</th>\n",
              "      <th>Victorian Sponge</th>\n",
              "    </tr>\n",
              "  </thead>\n",
              "  <tbody>\n",
              "    <tr>\n",
              "      <th>0</th>\n",
              "      <td>False</td>\n",
              "      <td>False</td>\n",
              "      <td>False</td>\n",
              "      <td>False</td>\n",
              "      <td>False</td>\n",
              "      <td>False</td>\n",
              "      <td>False</td>\n",
              "      <td>False</td>\n",
              "      <td>False</td>\n",
              "      <td>False</td>\n",
              "      <td>...</td>\n",
              "      <td>False</td>\n",
              "      <td>False</td>\n",
              "      <td>False</td>\n",
              "      <td>False</td>\n",
              "      <td>False</td>\n",
              "      <td>False</td>\n",
              "      <td>False</td>\n",
              "      <td>False</td>\n",
              "      <td>False</td>\n",
              "      <td>False</td>\n",
              "    </tr>\n",
              "    <tr>\n",
              "      <th>1</th>\n",
              "      <td>False</td>\n",
              "      <td>False</td>\n",
              "      <td>False</td>\n",
              "      <td>False</td>\n",
              "      <td>False</td>\n",
              "      <td>False</td>\n",
              "      <td>False</td>\n",
              "      <td>False</td>\n",
              "      <td>False</td>\n",
              "      <td>False</td>\n",
              "      <td>...</td>\n",
              "      <td>False</td>\n",
              "      <td>False</td>\n",
              "      <td>False</td>\n",
              "      <td>False</td>\n",
              "      <td>False</td>\n",
              "      <td>False</td>\n",
              "      <td>False</td>\n",
              "      <td>False</td>\n",
              "      <td>False</td>\n",
              "      <td>False</td>\n",
              "    </tr>\n",
              "    <tr>\n",
              "      <th>2</th>\n",
              "      <td>False</td>\n",
              "      <td>False</td>\n",
              "      <td>False</td>\n",
              "      <td>False</td>\n",
              "      <td>False</td>\n",
              "      <td>False</td>\n",
              "      <td>False</td>\n",
              "      <td>False</td>\n",
              "      <td>False</td>\n",
              "      <td>False</td>\n",
              "      <td>...</td>\n",
              "      <td>False</td>\n",
              "      <td>False</td>\n",
              "      <td>False</td>\n",
              "      <td>False</td>\n",
              "      <td>False</td>\n",
              "      <td>False</td>\n",
              "      <td>False</td>\n",
              "      <td>False</td>\n",
              "      <td>False</td>\n",
              "      <td>False</td>\n",
              "    </tr>\n",
              "    <tr>\n",
              "      <th>3</th>\n",
              "      <td>False</td>\n",
              "      <td>False</td>\n",
              "      <td>False</td>\n",
              "      <td>False</td>\n",
              "      <td>False</td>\n",
              "      <td>False</td>\n",
              "      <td>False</td>\n",
              "      <td>False</td>\n",
              "      <td>False</td>\n",
              "      <td>False</td>\n",
              "      <td>...</td>\n",
              "      <td>False</td>\n",
              "      <td>False</td>\n",
              "      <td>False</td>\n",
              "      <td>False</td>\n",
              "      <td>False</td>\n",
              "      <td>False</td>\n",
              "      <td>False</td>\n",
              "      <td>False</td>\n",
              "      <td>False</td>\n",
              "      <td>False</td>\n",
              "    </tr>\n",
              "    <tr>\n",
              "      <th>4</th>\n",
              "      <td>False</td>\n",
              "      <td>False</td>\n",
              "      <td>False</td>\n",
              "      <td>False</td>\n",
              "      <td>False</td>\n",
              "      <td>False</td>\n",
              "      <td>False</td>\n",
              "      <td>False</td>\n",
              "      <td>False</td>\n",
              "      <td>False</td>\n",
              "      <td>...</td>\n",
              "      <td>False</td>\n",
              "      <td>False</td>\n",
              "      <td>False</td>\n",
              "      <td>False</td>\n",
              "      <td>False</td>\n",
              "      <td>False</td>\n",
              "      <td>False</td>\n",
              "      <td>False</td>\n",
              "      <td>False</td>\n",
              "      <td>False</td>\n",
              "    </tr>\n",
              "    <tr>\n",
              "      <th>...</th>\n",
              "      <td>...</td>\n",
              "      <td>...</td>\n",
              "      <td>...</td>\n",
              "      <td>...</td>\n",
              "      <td>...</td>\n",
              "      <td>...</td>\n",
              "      <td>...</td>\n",
              "      <td>...</td>\n",
              "      <td>...</td>\n",
              "      <td>...</td>\n",
              "      <td>...</td>\n",
              "      <td>...</td>\n",
              "      <td>...</td>\n",
              "      <td>...</td>\n",
              "      <td>...</td>\n",
              "      <td>...</td>\n",
              "      <td>...</td>\n",
              "      <td>...</td>\n",
              "      <td>...</td>\n",
              "      <td>...</td>\n",
              "      <td>...</td>\n",
              "    </tr>\n",
              "    <tr>\n",
              "      <th>9460</th>\n",
              "      <td>False</td>\n",
              "      <td>False</td>\n",
              "      <td>False</td>\n",
              "      <td>False</td>\n",
              "      <td>False</td>\n",
              "      <td>False</td>\n",
              "      <td>False</td>\n",
              "      <td>False</td>\n",
              "      <td>False</td>\n",
              "      <td>False</td>\n",
              "      <td>...</td>\n",
              "      <td>False</td>\n",
              "      <td>False</td>\n",
              "      <td>False</td>\n",
              "      <td>False</td>\n",
              "      <td>False</td>\n",
              "      <td>False</td>\n",
              "      <td>False</td>\n",
              "      <td>False</td>\n",
              "      <td>False</td>\n",
              "      <td>False</td>\n",
              "    </tr>\n",
              "    <tr>\n",
              "      <th>9461</th>\n",
              "      <td>False</td>\n",
              "      <td>False</td>\n",
              "      <td>False</td>\n",
              "      <td>False</td>\n",
              "      <td>False</td>\n",
              "      <td>False</td>\n",
              "      <td>False</td>\n",
              "      <td>False</td>\n",
              "      <td>False</td>\n",
              "      <td>False</td>\n",
              "      <td>...</td>\n",
              "      <td>False</td>\n",
              "      <td>False</td>\n",
              "      <td>False</td>\n",
              "      <td>False</td>\n",
              "      <td>True</td>\n",
              "      <td>False</td>\n",
              "      <td>False</td>\n",
              "      <td>False</td>\n",
              "      <td>False</td>\n",
              "      <td>False</td>\n",
              "    </tr>\n",
              "    <tr>\n",
              "      <th>9462</th>\n",
              "      <td>False</td>\n",
              "      <td>False</td>\n",
              "      <td>False</td>\n",
              "      <td>False</td>\n",
              "      <td>False</td>\n",
              "      <td>False</td>\n",
              "      <td>False</td>\n",
              "      <td>False</td>\n",
              "      <td>False</td>\n",
              "      <td>False</td>\n",
              "      <td>...</td>\n",
              "      <td>False</td>\n",
              "      <td>False</td>\n",
              "      <td>False</td>\n",
              "      <td>False</td>\n",
              "      <td>False</td>\n",
              "      <td>False</td>\n",
              "      <td>False</td>\n",
              "      <td>False</td>\n",
              "      <td>False</td>\n",
              "      <td>False</td>\n",
              "    </tr>\n",
              "    <tr>\n",
              "      <th>9463</th>\n",
              "      <td>False</td>\n",
              "      <td>False</td>\n",
              "      <td>False</td>\n",
              "      <td>False</td>\n",
              "      <td>False</td>\n",
              "      <td>False</td>\n",
              "      <td>False</td>\n",
              "      <td>False</td>\n",
              "      <td>False</td>\n",
              "      <td>False</td>\n",
              "      <td>...</td>\n",
              "      <td>False</td>\n",
              "      <td>False</td>\n",
              "      <td>False</td>\n",
              "      <td>False</td>\n",
              "      <td>False</td>\n",
              "      <td>False</td>\n",
              "      <td>False</td>\n",
              "      <td>False</td>\n",
              "      <td>False</td>\n",
              "      <td>False</td>\n",
              "    </tr>\n",
              "    <tr>\n",
              "      <th>9464</th>\n",
              "      <td>False</td>\n",
              "      <td>False</td>\n",
              "      <td>False</td>\n",
              "      <td>False</td>\n",
              "      <td>False</td>\n",
              "      <td>False</td>\n",
              "      <td>False</td>\n",
              "      <td>False</td>\n",
              "      <td>False</td>\n",
              "      <td>False</td>\n",
              "      <td>...</td>\n",
              "      <td>False</td>\n",
              "      <td>False</td>\n",
              "      <td>False</td>\n",
              "      <td>False</td>\n",
              "      <td>False</td>\n",
              "      <td>False</td>\n",
              "      <td>False</td>\n",
              "      <td>False</td>\n",
              "      <td>False</td>\n",
              "      <td>False</td>\n",
              "    </tr>\n",
              "  </tbody>\n",
              "</table>\n",
              "<p>9465 rows × 94 columns</p>\n",
              "</div>\n",
              "      <button class=\"colab-df-convert\" onclick=\"convertToInteractive('df-e9fbaefc-86ca-4087-8d5a-ad3539a067d9')\"\n",
              "              title=\"Convert this dataframe to an interactive table.\"\n",
              "              style=\"display:none;\">\n",
              "        \n",
              "  <svg xmlns=\"http://www.w3.org/2000/svg\" height=\"24px\"viewBox=\"0 0 24 24\"\n",
              "       width=\"24px\">\n",
              "    <path d=\"M0 0h24v24H0V0z\" fill=\"none\"/>\n",
              "    <path d=\"M18.56 5.44l.94 2.06.94-2.06 2.06-.94-2.06-.94-.94-2.06-.94 2.06-2.06.94zm-11 1L8.5 8.5l.94-2.06 2.06-.94-2.06-.94L8.5 2.5l-.94 2.06-2.06.94zm10 10l.94 2.06.94-2.06 2.06-.94-2.06-.94-.94-2.06-.94 2.06-2.06.94z\"/><path d=\"M17.41 7.96l-1.37-1.37c-.4-.4-.92-.59-1.43-.59-.52 0-1.04.2-1.43.59L10.3 9.45l-7.72 7.72c-.78.78-.78 2.05 0 2.83L4 21.41c.39.39.9.59 1.41.59.51 0 1.02-.2 1.41-.59l7.78-7.78 2.81-2.81c.8-.78.8-2.07 0-2.86zM5.41 20L4 18.59l7.72-7.72 1.47 1.35L5.41 20z\"/>\n",
              "  </svg>\n",
              "      </button>\n",
              "      \n",
              "  <style>\n",
              "    .colab-df-container {\n",
              "      display:flex;\n",
              "      flex-wrap:wrap;\n",
              "      gap: 12px;\n",
              "    }\n",
              "\n",
              "    .colab-df-convert {\n",
              "      background-color: #E8F0FE;\n",
              "      border: none;\n",
              "      border-radius: 50%;\n",
              "      cursor: pointer;\n",
              "      display: none;\n",
              "      fill: #1967D2;\n",
              "      height: 32px;\n",
              "      padding: 0 0 0 0;\n",
              "      width: 32px;\n",
              "    }\n",
              "\n",
              "    .colab-df-convert:hover {\n",
              "      background-color: #E2EBFA;\n",
              "      box-shadow: 0px 1px 2px rgba(60, 64, 67, 0.3), 0px 1px 3px 1px rgba(60, 64, 67, 0.15);\n",
              "      fill: #174EA6;\n",
              "    }\n",
              "\n",
              "    [theme=dark] .colab-df-convert {\n",
              "      background-color: #3B4455;\n",
              "      fill: #D2E3FC;\n",
              "    }\n",
              "\n",
              "    [theme=dark] .colab-df-convert:hover {\n",
              "      background-color: #434B5C;\n",
              "      box-shadow: 0px 1px 3px 1px rgba(0, 0, 0, 0.15);\n",
              "      filter: drop-shadow(0px 1px 2px rgba(0, 0, 0, 0.3));\n",
              "      fill: #FFFFFF;\n",
              "    }\n",
              "  </style>\n",
              "\n",
              "      <script>\n",
              "        const buttonEl =\n",
              "          document.querySelector('#df-e9fbaefc-86ca-4087-8d5a-ad3539a067d9 button.colab-df-convert');\n",
              "        buttonEl.style.display =\n",
              "          google.colab.kernel.accessAllowed ? 'block' : 'none';\n",
              "\n",
              "        async function convertToInteractive(key) {\n",
              "          const element = document.querySelector('#df-e9fbaefc-86ca-4087-8d5a-ad3539a067d9');\n",
              "          const dataTable =\n",
              "            await google.colab.kernel.invokeFunction('convertToInteractive',\n",
              "                                                     [key], {});\n",
              "          if (!dataTable) return;\n",
              "\n",
              "          const docLinkHtml = 'Like what you see? Visit the ' +\n",
              "            '<a target=\"_blank\" href=https://colab.research.google.com/notebooks/data_table.ipynb>data table notebook</a>'\n",
              "            + ' to learn more about interactive tables.';\n",
              "          element.innerHTML = '';\n",
              "          dataTable['output_type'] = 'display_data';\n",
              "          await google.colab.output.renderOutput(dataTable, element);\n",
              "          const docLink = document.createElement('div');\n",
              "          docLink.innerHTML = docLinkHtml;\n",
              "          element.appendChild(docLink);\n",
              "        }\n",
              "      </script>\n",
              "    </div>\n",
              "  </div>\n",
              "  "
            ]
          },
          "metadata": {},
          "execution_count": 13
        }
      ]
    },
    {
      "cell_type": "markdown",
      "source": [
        "* Algoritmo APRIORI"
      ],
      "metadata": {
        "id": "EZWqPynRiWaT"
      }
    },
    {
      "cell_type": "code",
      "source": [
        "from mlxtend.frequent_patterns import apriori"
      ],
      "metadata": {
        "id": "QY2dtf91e2t7"
      },
      "execution_count": null,
      "outputs": []
    },
    {
      "cell_type": "code",
      "source": [
        "items_frequentes_apriori = apriori(transacao_transformado, use_colnames=True, min_support=0.02)\n",
        "items_frequentes_apriori.sort_values(['support'], ascending=False)"
      ],
      "metadata": {
        "colab": {
          "base_uri": "https://localhost:8080/",
          "height": 1000
        },
        "id": "11pBhHJZe2mL",
        "outputId": "24fbc963-49a3-4377-f0ac-df370f351bb8"
      },
      "execution_count": null,
      "outputs": [
        {
          "output_type": "execute_result",
          "data": {
            "text/plain": [
              "     support                 itemsets\n",
              "4   0.478394                 (Coffee)\n",
              "1   0.327205                  (Bread)\n",
              "16  0.142631                    (Tea)\n",
              "3   0.103856                   (Cake)\n",
              "20  0.090016          (Coffee, Bread)\n",
              "11  0.086107                 (Pastry)\n",
              "12  0.071844               (Sandwich)\n",
              "9   0.061807              (Medialuna)\n",
              "7   0.058320          (Hot chocolate)\n",
              "23  0.054728           (Coffee, Cake)\n",
              "5   0.054411                (Cookies)\n",
              "31  0.049868            (Coffee, Tea)\n",
              "29  0.047544         (Coffee, Pastry)\n",
              "2   0.040042                (Brownie)\n",
              "6   0.039197             (Farm House)\n",
              "8   0.038563                  (Juice)\n",
              "10  0.038457                 (Muffin)\n",
              "30  0.038246       (Coffee, Sandwich)\n",
              "0   0.036344              (Alfajores)\n",
              "28  0.035182      (Coffee, Medialuna)\n",
              "14  0.034548                  (Scone)\n",
              "15  0.034443                   (Soup)\n",
              "17  0.033597                  (Toast)\n",
              "26  0.029583  (Coffee, Hot chocolate)\n",
              "21  0.029160          (Bread, Pastry)\n",
              "13  0.029054           (Scandinavian)\n",
              "25  0.028209        (Coffee, Cookies)\n",
              "22  0.028104             (Bread, Tea)\n",
              "24  0.023772              (Cake, Tea)\n",
              "32  0.023666          (Coffee, Toast)\n",
              "19  0.023349            (Bread, Cake)\n",
              "27  0.020602          (Coffee, Juice)\n",
              "18  0.020285               (Truffles)"
            ],
            "text/html": [
              "\n",
              "  <div id=\"df-39e5ed85-820d-4a40-ae6c-733ce6dae467\">\n",
              "    <div class=\"colab-df-container\">\n",
              "      <div>\n",
              "<style scoped>\n",
              "    .dataframe tbody tr th:only-of-type {\n",
              "        vertical-align: middle;\n",
              "    }\n",
              "\n",
              "    .dataframe tbody tr th {\n",
              "        vertical-align: top;\n",
              "    }\n",
              "\n",
              "    .dataframe thead th {\n",
              "        text-align: right;\n",
              "    }\n",
              "</style>\n",
              "<table border=\"1\" class=\"dataframe\">\n",
              "  <thead>\n",
              "    <tr style=\"text-align: right;\">\n",
              "      <th></th>\n",
              "      <th>support</th>\n",
              "      <th>itemsets</th>\n",
              "    </tr>\n",
              "  </thead>\n",
              "  <tbody>\n",
              "    <tr>\n",
              "      <th>4</th>\n",
              "      <td>0.478394</td>\n",
              "      <td>(Coffee)</td>\n",
              "    </tr>\n",
              "    <tr>\n",
              "      <th>1</th>\n",
              "      <td>0.327205</td>\n",
              "      <td>(Bread)</td>\n",
              "    </tr>\n",
              "    <tr>\n",
              "      <th>16</th>\n",
              "      <td>0.142631</td>\n",
              "      <td>(Tea)</td>\n",
              "    </tr>\n",
              "    <tr>\n",
              "      <th>3</th>\n",
              "      <td>0.103856</td>\n",
              "      <td>(Cake)</td>\n",
              "    </tr>\n",
              "    <tr>\n",
              "      <th>20</th>\n",
              "      <td>0.090016</td>\n",
              "      <td>(Coffee, Bread)</td>\n",
              "    </tr>\n",
              "    <tr>\n",
              "      <th>11</th>\n",
              "      <td>0.086107</td>\n",
              "      <td>(Pastry)</td>\n",
              "    </tr>\n",
              "    <tr>\n",
              "      <th>12</th>\n",
              "      <td>0.071844</td>\n",
              "      <td>(Sandwich)</td>\n",
              "    </tr>\n",
              "    <tr>\n",
              "      <th>9</th>\n",
              "      <td>0.061807</td>\n",
              "      <td>(Medialuna)</td>\n",
              "    </tr>\n",
              "    <tr>\n",
              "      <th>7</th>\n",
              "      <td>0.058320</td>\n",
              "      <td>(Hot chocolate)</td>\n",
              "    </tr>\n",
              "    <tr>\n",
              "      <th>23</th>\n",
              "      <td>0.054728</td>\n",
              "      <td>(Coffee, Cake)</td>\n",
              "    </tr>\n",
              "    <tr>\n",
              "      <th>5</th>\n",
              "      <td>0.054411</td>\n",
              "      <td>(Cookies)</td>\n",
              "    </tr>\n",
              "    <tr>\n",
              "      <th>31</th>\n",
              "      <td>0.049868</td>\n",
              "      <td>(Coffee, Tea)</td>\n",
              "    </tr>\n",
              "    <tr>\n",
              "      <th>29</th>\n",
              "      <td>0.047544</td>\n",
              "      <td>(Coffee, Pastry)</td>\n",
              "    </tr>\n",
              "    <tr>\n",
              "      <th>2</th>\n",
              "      <td>0.040042</td>\n",
              "      <td>(Brownie)</td>\n",
              "    </tr>\n",
              "    <tr>\n",
              "      <th>6</th>\n",
              "      <td>0.039197</td>\n",
              "      <td>(Farm House)</td>\n",
              "    </tr>\n",
              "    <tr>\n",
              "      <th>8</th>\n",
              "      <td>0.038563</td>\n",
              "      <td>(Juice)</td>\n",
              "    </tr>\n",
              "    <tr>\n",
              "      <th>10</th>\n",
              "      <td>0.038457</td>\n",
              "      <td>(Muffin)</td>\n",
              "    </tr>\n",
              "    <tr>\n",
              "      <th>30</th>\n",
              "      <td>0.038246</td>\n",
              "      <td>(Coffee, Sandwich)</td>\n",
              "    </tr>\n",
              "    <tr>\n",
              "      <th>0</th>\n",
              "      <td>0.036344</td>\n",
              "      <td>(Alfajores)</td>\n",
              "    </tr>\n",
              "    <tr>\n",
              "      <th>28</th>\n",
              "      <td>0.035182</td>\n",
              "      <td>(Coffee, Medialuna)</td>\n",
              "    </tr>\n",
              "    <tr>\n",
              "      <th>14</th>\n",
              "      <td>0.034548</td>\n",
              "      <td>(Scone)</td>\n",
              "    </tr>\n",
              "    <tr>\n",
              "      <th>15</th>\n",
              "      <td>0.034443</td>\n",
              "      <td>(Soup)</td>\n",
              "    </tr>\n",
              "    <tr>\n",
              "      <th>17</th>\n",
              "      <td>0.033597</td>\n",
              "      <td>(Toast)</td>\n",
              "    </tr>\n",
              "    <tr>\n",
              "      <th>26</th>\n",
              "      <td>0.029583</td>\n",
              "      <td>(Coffee, Hot chocolate)</td>\n",
              "    </tr>\n",
              "    <tr>\n",
              "      <th>21</th>\n",
              "      <td>0.029160</td>\n",
              "      <td>(Bread, Pastry)</td>\n",
              "    </tr>\n",
              "    <tr>\n",
              "      <th>13</th>\n",
              "      <td>0.029054</td>\n",
              "      <td>(Scandinavian)</td>\n",
              "    </tr>\n",
              "    <tr>\n",
              "      <th>25</th>\n",
              "      <td>0.028209</td>\n",
              "      <td>(Coffee, Cookies)</td>\n",
              "    </tr>\n",
              "    <tr>\n",
              "      <th>22</th>\n",
              "      <td>0.028104</td>\n",
              "      <td>(Bread, Tea)</td>\n",
              "    </tr>\n",
              "    <tr>\n",
              "      <th>24</th>\n",
              "      <td>0.023772</td>\n",
              "      <td>(Cake, Tea)</td>\n",
              "    </tr>\n",
              "    <tr>\n",
              "      <th>32</th>\n",
              "      <td>0.023666</td>\n",
              "      <td>(Coffee, Toast)</td>\n",
              "    </tr>\n",
              "    <tr>\n",
              "      <th>19</th>\n",
              "      <td>0.023349</td>\n",
              "      <td>(Bread, Cake)</td>\n",
              "    </tr>\n",
              "    <tr>\n",
              "      <th>27</th>\n",
              "      <td>0.020602</td>\n",
              "      <td>(Coffee, Juice)</td>\n",
              "    </tr>\n",
              "    <tr>\n",
              "      <th>18</th>\n",
              "      <td>0.020285</td>\n",
              "      <td>(Truffles)</td>\n",
              "    </tr>\n",
              "  </tbody>\n",
              "</table>\n",
              "</div>\n",
              "      <button class=\"colab-df-convert\" onclick=\"convertToInteractive('df-39e5ed85-820d-4a40-ae6c-733ce6dae467')\"\n",
              "              title=\"Convert this dataframe to an interactive table.\"\n",
              "              style=\"display:none;\">\n",
              "        \n",
              "  <svg xmlns=\"http://www.w3.org/2000/svg\" height=\"24px\"viewBox=\"0 0 24 24\"\n",
              "       width=\"24px\">\n",
              "    <path d=\"M0 0h24v24H0V0z\" fill=\"none\"/>\n",
              "    <path d=\"M18.56 5.44l.94 2.06.94-2.06 2.06-.94-2.06-.94-.94-2.06-.94 2.06-2.06.94zm-11 1L8.5 8.5l.94-2.06 2.06-.94-2.06-.94L8.5 2.5l-.94 2.06-2.06.94zm10 10l.94 2.06.94-2.06 2.06-.94-2.06-.94-.94-2.06-.94 2.06-2.06.94z\"/><path d=\"M17.41 7.96l-1.37-1.37c-.4-.4-.92-.59-1.43-.59-.52 0-1.04.2-1.43.59L10.3 9.45l-7.72 7.72c-.78.78-.78 2.05 0 2.83L4 21.41c.39.39.9.59 1.41.59.51 0 1.02-.2 1.41-.59l7.78-7.78 2.81-2.81c.8-.78.8-2.07 0-2.86zM5.41 20L4 18.59l7.72-7.72 1.47 1.35L5.41 20z\"/>\n",
              "  </svg>\n",
              "      </button>\n",
              "      \n",
              "  <style>\n",
              "    .colab-df-container {\n",
              "      display:flex;\n",
              "      flex-wrap:wrap;\n",
              "      gap: 12px;\n",
              "    }\n",
              "\n",
              "    .colab-df-convert {\n",
              "      background-color: #E8F0FE;\n",
              "      border: none;\n",
              "      border-radius: 50%;\n",
              "      cursor: pointer;\n",
              "      display: none;\n",
              "      fill: #1967D2;\n",
              "      height: 32px;\n",
              "      padding: 0 0 0 0;\n",
              "      width: 32px;\n",
              "    }\n",
              "\n",
              "    .colab-df-convert:hover {\n",
              "      background-color: #E2EBFA;\n",
              "      box-shadow: 0px 1px 2px rgba(60, 64, 67, 0.3), 0px 1px 3px 1px rgba(60, 64, 67, 0.15);\n",
              "      fill: #174EA6;\n",
              "    }\n",
              "\n",
              "    [theme=dark] .colab-df-convert {\n",
              "      background-color: #3B4455;\n",
              "      fill: #D2E3FC;\n",
              "    }\n",
              "\n",
              "    [theme=dark] .colab-df-convert:hover {\n",
              "      background-color: #434B5C;\n",
              "      box-shadow: 0px 1px 3px 1px rgba(0, 0, 0, 0.15);\n",
              "      filter: drop-shadow(0px 1px 2px rgba(0, 0, 0, 0.3));\n",
              "      fill: #FFFFFF;\n",
              "    }\n",
              "  </style>\n",
              "\n",
              "      <script>\n",
              "        const buttonEl =\n",
              "          document.querySelector('#df-39e5ed85-820d-4a40-ae6c-733ce6dae467 button.colab-df-convert');\n",
              "        buttonEl.style.display =\n",
              "          google.colab.kernel.accessAllowed ? 'block' : 'none';\n",
              "\n",
              "        async function convertToInteractive(key) {\n",
              "          const element = document.querySelector('#df-39e5ed85-820d-4a40-ae6c-733ce6dae467');\n",
              "          const dataTable =\n",
              "            await google.colab.kernel.invokeFunction('convertToInteractive',\n",
              "                                                     [key], {});\n",
              "          if (!dataTable) return;\n",
              "\n",
              "          const docLinkHtml = 'Like what you see? Visit the ' +\n",
              "            '<a target=\"_blank\" href=https://colab.research.google.com/notebooks/data_table.ipynb>data table notebook</a>'\n",
              "            + ' to learn more about interactive tables.';\n",
              "          element.innerHTML = '';\n",
              "          dataTable['output_type'] = 'display_data';\n",
              "          await google.colab.output.renderOutput(dataTable, element);\n",
              "          const docLink = document.createElement('div');\n",
              "          docLink.innerHTML = docLinkHtml;\n",
              "          element.appendChild(docLink);\n",
              "        }\n",
              "      </script>\n",
              "    </div>\n",
              "  </div>\n",
              "  "
            ]
          },
          "metadata": {},
          "execution_count": 15
        }
      ]
    },
    {
      "cell_type": "code",
      "source": [
        "from mlxtend.frequent_patterns import association_rules"
      ],
      "metadata": {
        "id": "-52LDK5pncPE"
      },
      "execution_count": null,
      "outputs": []
    },
    {
      "cell_type": "code",
      "source": [
        "regras_apriori = association_rules(items_frequentes_apriori, metric='confidence', min_threshold=0.5)\n",
        "regras_apriori"
      ],
      "metadata": {
        "colab": {
          "base_uri": "https://localhost:8080/",
          "height": 300
        },
        "id": "P98E_bRRbXN6",
        "outputId": "bd8f63ff-eb32-4a67-ed14-cf8cdecd1fcf"
      },
      "execution_count": null,
      "outputs": [
        {
          "output_type": "execute_result",
          "data": {
            "text/plain": [
              "       antecedents consequents  antecedent support  consequent support  \\\n",
              "0           (Cake)    (Coffee)            0.103856            0.478394   \n",
              "1        (Cookies)    (Coffee)            0.054411            0.478394   \n",
              "2  (Hot chocolate)    (Coffee)            0.058320            0.478394   \n",
              "3          (Juice)    (Coffee)            0.038563            0.478394   \n",
              "4      (Medialuna)    (Coffee)            0.061807            0.478394   \n",
              "5         (Pastry)    (Coffee)            0.086107            0.478394   \n",
              "6       (Sandwich)    (Coffee)            0.071844            0.478394   \n",
              "7          (Toast)    (Coffee)            0.033597            0.478394   \n",
              "\n",
              "    support  confidence      lift  leverage  conviction  \n",
              "0  0.054728    0.526958  1.101515  0.005044    1.102664  \n",
              "1  0.028209    0.518447  1.083723  0.002179    1.083174  \n",
              "2  0.029583    0.507246  1.060311  0.001683    1.058553  \n",
              "3  0.020602    0.534247  1.116750  0.002154    1.119919  \n",
              "4  0.035182    0.569231  1.189878  0.005614    1.210871  \n",
              "5  0.047544    0.552147  1.154168  0.006351    1.164682  \n",
              "6  0.038246    0.532353  1.112792  0.003877    1.115384  \n",
              "7  0.023666    0.704403  1.472431  0.007593    1.764582  "
            ],
            "text/html": [
              "\n",
              "  <div id=\"df-9a3ba0f1-4c88-4f95-99c3-8494bea09784\">\n",
              "    <div class=\"colab-df-container\">\n",
              "      <div>\n",
              "<style scoped>\n",
              "    .dataframe tbody tr th:only-of-type {\n",
              "        vertical-align: middle;\n",
              "    }\n",
              "\n",
              "    .dataframe tbody tr th {\n",
              "        vertical-align: top;\n",
              "    }\n",
              "\n",
              "    .dataframe thead th {\n",
              "        text-align: right;\n",
              "    }\n",
              "</style>\n",
              "<table border=\"1\" class=\"dataframe\">\n",
              "  <thead>\n",
              "    <tr style=\"text-align: right;\">\n",
              "      <th></th>\n",
              "      <th>antecedents</th>\n",
              "      <th>consequents</th>\n",
              "      <th>antecedent support</th>\n",
              "      <th>consequent support</th>\n",
              "      <th>support</th>\n",
              "      <th>confidence</th>\n",
              "      <th>lift</th>\n",
              "      <th>leverage</th>\n",
              "      <th>conviction</th>\n",
              "    </tr>\n",
              "  </thead>\n",
              "  <tbody>\n",
              "    <tr>\n",
              "      <th>0</th>\n",
              "      <td>(Cake)</td>\n",
              "      <td>(Coffee)</td>\n",
              "      <td>0.103856</td>\n",
              "      <td>0.478394</td>\n",
              "      <td>0.054728</td>\n",
              "      <td>0.526958</td>\n",
              "      <td>1.101515</td>\n",
              "      <td>0.005044</td>\n",
              "      <td>1.102664</td>\n",
              "    </tr>\n",
              "    <tr>\n",
              "      <th>1</th>\n",
              "      <td>(Cookies)</td>\n",
              "      <td>(Coffee)</td>\n",
              "      <td>0.054411</td>\n",
              "      <td>0.478394</td>\n",
              "      <td>0.028209</td>\n",
              "      <td>0.518447</td>\n",
              "      <td>1.083723</td>\n",
              "      <td>0.002179</td>\n",
              "      <td>1.083174</td>\n",
              "    </tr>\n",
              "    <tr>\n",
              "      <th>2</th>\n",
              "      <td>(Hot chocolate)</td>\n",
              "      <td>(Coffee)</td>\n",
              "      <td>0.058320</td>\n",
              "      <td>0.478394</td>\n",
              "      <td>0.029583</td>\n",
              "      <td>0.507246</td>\n",
              "      <td>1.060311</td>\n",
              "      <td>0.001683</td>\n",
              "      <td>1.058553</td>\n",
              "    </tr>\n",
              "    <tr>\n",
              "      <th>3</th>\n",
              "      <td>(Juice)</td>\n",
              "      <td>(Coffee)</td>\n",
              "      <td>0.038563</td>\n",
              "      <td>0.478394</td>\n",
              "      <td>0.020602</td>\n",
              "      <td>0.534247</td>\n",
              "      <td>1.116750</td>\n",
              "      <td>0.002154</td>\n",
              "      <td>1.119919</td>\n",
              "    </tr>\n",
              "    <tr>\n",
              "      <th>4</th>\n",
              "      <td>(Medialuna)</td>\n",
              "      <td>(Coffee)</td>\n",
              "      <td>0.061807</td>\n",
              "      <td>0.478394</td>\n",
              "      <td>0.035182</td>\n",
              "      <td>0.569231</td>\n",
              "      <td>1.189878</td>\n",
              "      <td>0.005614</td>\n",
              "      <td>1.210871</td>\n",
              "    </tr>\n",
              "    <tr>\n",
              "      <th>5</th>\n",
              "      <td>(Pastry)</td>\n",
              "      <td>(Coffee)</td>\n",
              "      <td>0.086107</td>\n",
              "      <td>0.478394</td>\n",
              "      <td>0.047544</td>\n",
              "      <td>0.552147</td>\n",
              "      <td>1.154168</td>\n",
              "      <td>0.006351</td>\n",
              "      <td>1.164682</td>\n",
              "    </tr>\n",
              "    <tr>\n",
              "      <th>6</th>\n",
              "      <td>(Sandwich)</td>\n",
              "      <td>(Coffee)</td>\n",
              "      <td>0.071844</td>\n",
              "      <td>0.478394</td>\n",
              "      <td>0.038246</td>\n",
              "      <td>0.532353</td>\n",
              "      <td>1.112792</td>\n",
              "      <td>0.003877</td>\n",
              "      <td>1.115384</td>\n",
              "    </tr>\n",
              "    <tr>\n",
              "      <th>7</th>\n",
              "      <td>(Toast)</td>\n",
              "      <td>(Coffee)</td>\n",
              "      <td>0.033597</td>\n",
              "      <td>0.478394</td>\n",
              "      <td>0.023666</td>\n",
              "      <td>0.704403</td>\n",
              "      <td>1.472431</td>\n",
              "      <td>0.007593</td>\n",
              "      <td>1.764582</td>\n",
              "    </tr>\n",
              "  </tbody>\n",
              "</table>\n",
              "</div>\n",
              "      <button class=\"colab-df-convert\" onclick=\"convertToInteractive('df-9a3ba0f1-4c88-4f95-99c3-8494bea09784')\"\n",
              "              title=\"Convert this dataframe to an interactive table.\"\n",
              "              style=\"display:none;\">\n",
              "        \n",
              "  <svg xmlns=\"http://www.w3.org/2000/svg\" height=\"24px\"viewBox=\"0 0 24 24\"\n",
              "       width=\"24px\">\n",
              "    <path d=\"M0 0h24v24H0V0z\" fill=\"none\"/>\n",
              "    <path d=\"M18.56 5.44l.94 2.06.94-2.06 2.06-.94-2.06-.94-.94-2.06-.94 2.06-2.06.94zm-11 1L8.5 8.5l.94-2.06 2.06-.94-2.06-.94L8.5 2.5l-.94 2.06-2.06.94zm10 10l.94 2.06.94-2.06 2.06-.94-2.06-.94-.94-2.06-.94 2.06-2.06.94z\"/><path d=\"M17.41 7.96l-1.37-1.37c-.4-.4-.92-.59-1.43-.59-.52 0-1.04.2-1.43.59L10.3 9.45l-7.72 7.72c-.78.78-.78 2.05 0 2.83L4 21.41c.39.39.9.59 1.41.59.51 0 1.02-.2 1.41-.59l7.78-7.78 2.81-2.81c.8-.78.8-2.07 0-2.86zM5.41 20L4 18.59l7.72-7.72 1.47 1.35L5.41 20z\"/>\n",
              "  </svg>\n",
              "      </button>\n",
              "      \n",
              "  <style>\n",
              "    .colab-df-container {\n",
              "      display:flex;\n",
              "      flex-wrap:wrap;\n",
              "      gap: 12px;\n",
              "    }\n",
              "\n",
              "    .colab-df-convert {\n",
              "      background-color: #E8F0FE;\n",
              "      border: none;\n",
              "      border-radius: 50%;\n",
              "      cursor: pointer;\n",
              "      display: none;\n",
              "      fill: #1967D2;\n",
              "      height: 32px;\n",
              "      padding: 0 0 0 0;\n",
              "      width: 32px;\n",
              "    }\n",
              "\n",
              "    .colab-df-convert:hover {\n",
              "      background-color: #E2EBFA;\n",
              "      box-shadow: 0px 1px 2px rgba(60, 64, 67, 0.3), 0px 1px 3px 1px rgba(60, 64, 67, 0.15);\n",
              "      fill: #174EA6;\n",
              "    }\n",
              "\n",
              "    [theme=dark] .colab-df-convert {\n",
              "      background-color: #3B4455;\n",
              "      fill: #D2E3FC;\n",
              "    }\n",
              "\n",
              "    [theme=dark] .colab-df-convert:hover {\n",
              "      background-color: #434B5C;\n",
              "      box-shadow: 0px 1px 3px 1px rgba(0, 0, 0, 0.15);\n",
              "      filter: drop-shadow(0px 1px 2px rgba(0, 0, 0, 0.3));\n",
              "      fill: #FFFFFF;\n",
              "    }\n",
              "  </style>\n",
              "\n",
              "      <script>\n",
              "        const buttonEl =\n",
              "          document.querySelector('#df-9a3ba0f1-4c88-4f95-99c3-8494bea09784 button.colab-df-convert');\n",
              "        buttonEl.style.display =\n",
              "          google.colab.kernel.accessAllowed ? 'block' : 'none';\n",
              "\n",
              "        async function convertToInteractive(key) {\n",
              "          const element = document.querySelector('#df-9a3ba0f1-4c88-4f95-99c3-8494bea09784');\n",
              "          const dataTable =\n",
              "            await google.colab.kernel.invokeFunction('convertToInteractive',\n",
              "                                                     [key], {});\n",
              "          if (!dataTable) return;\n",
              "\n",
              "          const docLinkHtml = 'Like what you see? Visit the ' +\n",
              "            '<a target=\"_blank\" href=https://colab.research.google.com/notebooks/data_table.ipynb>data table notebook</a>'\n",
              "            + ' to learn more about interactive tables.';\n",
              "          element.innerHTML = '';\n",
              "          dataTable['output_type'] = 'display_data';\n",
              "          await google.colab.output.renderOutput(dataTable, element);\n",
              "          const docLink = document.createElement('div');\n",
              "          docLink.innerHTML = docLinkHtml;\n",
              "          element.appendChild(docLink);\n",
              "        }\n",
              "      </script>\n",
              "    </div>\n",
              "  </div>\n",
              "  "
            ]
          },
          "metadata": {},
          "execution_count": 17
        }
      ]
    },
    {
      "cell_type": "markdown",
      "source": [
        "## Aula 2 - Análise de Agrupamento (parte 1)"
      ],
      "metadata": {
        "id": "r7NA8E7O7pX-"
      }
    },
    {
      "cell_type": "markdown",
      "source": [
        "### Vídeo 2.1 - O que é Clustering?\n",
        "\n",
        "[slides]\n",
        "\n",
        "* O que é clustering (agrupamento)?\n",
        "\n",
        "\"A análise de agrupamentos representa um conjunto de técnicas exploratórias utilizadas quando há a intenção de se verificar a existência de comportamentos semelhantes entre observações em relação a determinadas variáveis e o objetivo de se criarem grupos, ou clusters, em que prevaleça a homogeneidade interna.\"\n",
        "\n",
        "* Dica de leitura: [Clustering - Biblioteca SKlearn](https://scikit-learn.org/stable/modules/clustering.html), [Capítulo 9 - Manual de Análise de Dados](https://www.google.com.br/books/edition/Manual_de_An%C3%A1lise_de_Dados/SmlaDwAAQBAJ?hl=pt-BR&gbpv=0), [Capítulo 9 - Mãos à obra: aprendizado de máquina com Scikit-Learn, Keras & TensorFlow: Conceitos, ferramentas e técnicas para a construção de sistemas inteligentes](https://www.google.com.br/books/edition/M%C3%A3os_A_Obra_Aprendizado_De_M%C3%A1quina_Com/JUBIEAAAQBAJ?hl=pt-BR&gbpv=0) "
      ],
      "metadata": {
        "id": "5TBaZcKkAYz3"
      }
    },
    {
      "cell_type": "markdown",
      "source": [
        "### Vídeo 2.2 - Conhecendo o novo problema\n",
        "\n"
      ],
      "metadata": {
        "id": "CX3tLjlN_qV2"
      }
    },
    {
      "cell_type": "markdown",
      "source": [
        "* Problema: um laboratório de uma indústria alimentícia chamada Pé-de-Feijão, está estudando a criação e identificação de novos produtos a partir dos dados gerados dos diferentes feijões produzidos na última colheita. A ideia é identificar quais e quantos tipos de feijões temos e gerar insights que possam auxiliar nesse objetivo."
      ],
      "metadata": {
        "id": "BE9UDRsDvvuT"
      }
    },
    {
      "cell_type": "code",
      "source": [
        "dados_lab = pd.read_excel('/content/sample_data/dados_lab_feijao.xlsx')"
      ],
      "metadata": {
        "id": "iiDedESPotAp"
      },
      "execution_count": null,
      "outputs": []
    },
    {
      "cell_type": "code",
      "source": [
        "dados_lab.head()"
      ],
      "metadata": {
        "id": "d1uZ05jPo2NR",
        "colab": {
          "base_uri": "https://localhost:8080/",
          "height": 288
        },
        "outputId": "a881f8f3-1c4f-4d7e-fcf7-f69f56772c27"
      },
      "execution_count": null,
      "outputs": [
        {
          "output_type": "execute_result",
          "data": {
            "text/plain": [
              "   Unnamed: 0   Area  Perimeter  MajorAxisLength  MinorAxisLength  \\\n",
              "0           0  28395    610.291       208.178117       173.888747   \n",
              "1           1  28734    638.018       200.524796       182.734419   \n",
              "2           2  29380    624.110       212.826130       175.931143   \n",
              "3           3  30008    645.884       210.557999       182.516516   \n",
              "4           4  30140    620.134       201.847882       190.279279   \n",
              "\n",
              "   AspectRation  Eccentricity  ConvexArea  EquivDiameter    Extent  Solidity  \\\n",
              "0      1.197191      0.549812       28715     190.141097  0.763923  0.988856   \n",
              "1      1.097356      0.411785       29172     191.272750  0.783968  0.984986   \n",
              "2      1.209713      0.562727       29690     193.410904  0.778113  0.989559   \n",
              "3      1.153638      0.498616       30724     195.467062  0.782681  0.976696   \n",
              "4      1.060798      0.333680       30417     195.896503  0.773098  0.990893   \n",
              "\n",
              "   roundness  Compactness  ShapeFactor1  ShapeFactor2  ShapeFactor3  \\\n",
              "0   0.958027     0.913358      0.007332      0.003147      0.834222   \n",
              "1   0.887034     0.953861      0.006979      0.003564      0.909851   \n",
              "2   0.947849     0.908774      0.007244      0.003048      0.825871   \n",
              "3   0.903936     0.928329      0.007017      0.003215      0.861794   \n",
              "4   0.984877     0.970516      0.006697      0.003665      0.941900   \n",
              "\n",
              "   ShapeFactor4  \n",
              "0      0.998724  \n",
              "1      0.998430  \n",
              "2      0.999066  \n",
              "3      0.994199  \n",
              "4      0.999166  "
            ],
            "text/html": [
              "\n",
              "  <div id=\"df-36ecbfab-788c-4314-a186-fd6545271687\">\n",
              "    <div class=\"colab-df-container\">\n",
              "      <div>\n",
              "<style scoped>\n",
              "    .dataframe tbody tr th:only-of-type {\n",
              "        vertical-align: middle;\n",
              "    }\n",
              "\n",
              "    .dataframe tbody tr th {\n",
              "        vertical-align: top;\n",
              "    }\n",
              "\n",
              "    .dataframe thead th {\n",
              "        text-align: right;\n",
              "    }\n",
              "</style>\n",
              "<table border=\"1\" class=\"dataframe\">\n",
              "  <thead>\n",
              "    <tr style=\"text-align: right;\">\n",
              "      <th></th>\n",
              "      <th>Unnamed: 0</th>\n",
              "      <th>Area</th>\n",
              "      <th>Perimeter</th>\n",
              "      <th>MajorAxisLength</th>\n",
              "      <th>MinorAxisLength</th>\n",
              "      <th>AspectRation</th>\n",
              "      <th>Eccentricity</th>\n",
              "      <th>ConvexArea</th>\n",
              "      <th>EquivDiameter</th>\n",
              "      <th>Extent</th>\n",
              "      <th>Solidity</th>\n",
              "      <th>roundness</th>\n",
              "      <th>Compactness</th>\n",
              "      <th>ShapeFactor1</th>\n",
              "      <th>ShapeFactor2</th>\n",
              "      <th>ShapeFactor3</th>\n",
              "      <th>ShapeFactor4</th>\n",
              "    </tr>\n",
              "  </thead>\n",
              "  <tbody>\n",
              "    <tr>\n",
              "      <th>0</th>\n",
              "      <td>0</td>\n",
              "      <td>28395</td>\n",
              "      <td>610.291</td>\n",
              "      <td>208.178117</td>\n",
              "      <td>173.888747</td>\n",
              "      <td>1.197191</td>\n",
              "      <td>0.549812</td>\n",
              "      <td>28715</td>\n",
              "      <td>190.141097</td>\n",
              "      <td>0.763923</td>\n",
              "      <td>0.988856</td>\n",
              "      <td>0.958027</td>\n",
              "      <td>0.913358</td>\n",
              "      <td>0.007332</td>\n",
              "      <td>0.003147</td>\n",
              "      <td>0.834222</td>\n",
              "      <td>0.998724</td>\n",
              "    </tr>\n",
              "    <tr>\n",
              "      <th>1</th>\n",
              "      <td>1</td>\n",
              "      <td>28734</td>\n",
              "      <td>638.018</td>\n",
              "      <td>200.524796</td>\n",
              "      <td>182.734419</td>\n",
              "      <td>1.097356</td>\n",
              "      <td>0.411785</td>\n",
              "      <td>29172</td>\n",
              "      <td>191.272750</td>\n",
              "      <td>0.783968</td>\n",
              "      <td>0.984986</td>\n",
              "      <td>0.887034</td>\n",
              "      <td>0.953861</td>\n",
              "      <td>0.006979</td>\n",
              "      <td>0.003564</td>\n",
              "      <td>0.909851</td>\n",
              "      <td>0.998430</td>\n",
              "    </tr>\n",
              "    <tr>\n",
              "      <th>2</th>\n",
              "      <td>2</td>\n",
              "      <td>29380</td>\n",
              "      <td>624.110</td>\n",
              "      <td>212.826130</td>\n",
              "      <td>175.931143</td>\n",
              "      <td>1.209713</td>\n",
              "      <td>0.562727</td>\n",
              "      <td>29690</td>\n",
              "      <td>193.410904</td>\n",
              "      <td>0.778113</td>\n",
              "      <td>0.989559</td>\n",
              "      <td>0.947849</td>\n",
              "      <td>0.908774</td>\n",
              "      <td>0.007244</td>\n",
              "      <td>0.003048</td>\n",
              "      <td>0.825871</td>\n",
              "      <td>0.999066</td>\n",
              "    </tr>\n",
              "    <tr>\n",
              "      <th>3</th>\n",
              "      <td>3</td>\n",
              "      <td>30008</td>\n",
              "      <td>645.884</td>\n",
              "      <td>210.557999</td>\n",
              "      <td>182.516516</td>\n",
              "      <td>1.153638</td>\n",
              "      <td>0.498616</td>\n",
              "      <td>30724</td>\n",
              "      <td>195.467062</td>\n",
              "      <td>0.782681</td>\n",
              "      <td>0.976696</td>\n",
              "      <td>0.903936</td>\n",
              "      <td>0.928329</td>\n",
              "      <td>0.007017</td>\n",
              "      <td>0.003215</td>\n",
              "      <td>0.861794</td>\n",
              "      <td>0.994199</td>\n",
              "    </tr>\n",
              "    <tr>\n",
              "      <th>4</th>\n",
              "      <td>4</td>\n",
              "      <td>30140</td>\n",
              "      <td>620.134</td>\n",
              "      <td>201.847882</td>\n",
              "      <td>190.279279</td>\n",
              "      <td>1.060798</td>\n",
              "      <td>0.333680</td>\n",
              "      <td>30417</td>\n",
              "      <td>195.896503</td>\n",
              "      <td>0.773098</td>\n",
              "      <td>0.990893</td>\n",
              "      <td>0.984877</td>\n",
              "      <td>0.970516</td>\n",
              "      <td>0.006697</td>\n",
              "      <td>0.003665</td>\n",
              "      <td>0.941900</td>\n",
              "      <td>0.999166</td>\n",
              "    </tr>\n",
              "  </tbody>\n",
              "</table>\n",
              "</div>\n",
              "      <button class=\"colab-df-convert\" onclick=\"convertToInteractive('df-36ecbfab-788c-4314-a186-fd6545271687')\"\n",
              "              title=\"Convert this dataframe to an interactive table.\"\n",
              "              style=\"display:none;\">\n",
              "        \n",
              "  <svg xmlns=\"http://www.w3.org/2000/svg\" height=\"24px\"viewBox=\"0 0 24 24\"\n",
              "       width=\"24px\">\n",
              "    <path d=\"M0 0h24v24H0V0z\" fill=\"none\"/>\n",
              "    <path d=\"M18.56 5.44l.94 2.06.94-2.06 2.06-.94-2.06-.94-.94-2.06-.94 2.06-2.06.94zm-11 1L8.5 8.5l.94-2.06 2.06-.94-2.06-.94L8.5 2.5l-.94 2.06-2.06.94zm10 10l.94 2.06.94-2.06 2.06-.94-2.06-.94-.94-2.06-.94 2.06-2.06.94z\"/><path d=\"M17.41 7.96l-1.37-1.37c-.4-.4-.92-.59-1.43-.59-.52 0-1.04.2-1.43.59L10.3 9.45l-7.72 7.72c-.78.78-.78 2.05 0 2.83L4 21.41c.39.39.9.59 1.41.59.51 0 1.02-.2 1.41-.59l7.78-7.78 2.81-2.81c.8-.78.8-2.07 0-2.86zM5.41 20L4 18.59l7.72-7.72 1.47 1.35L5.41 20z\"/>\n",
              "  </svg>\n",
              "      </button>\n",
              "      \n",
              "  <style>\n",
              "    .colab-df-container {\n",
              "      display:flex;\n",
              "      flex-wrap:wrap;\n",
              "      gap: 12px;\n",
              "    }\n",
              "\n",
              "    .colab-df-convert {\n",
              "      background-color: #E8F0FE;\n",
              "      border: none;\n",
              "      border-radius: 50%;\n",
              "      cursor: pointer;\n",
              "      display: none;\n",
              "      fill: #1967D2;\n",
              "      height: 32px;\n",
              "      padding: 0 0 0 0;\n",
              "      width: 32px;\n",
              "    }\n",
              "\n",
              "    .colab-df-convert:hover {\n",
              "      background-color: #E2EBFA;\n",
              "      box-shadow: 0px 1px 2px rgba(60, 64, 67, 0.3), 0px 1px 3px 1px rgba(60, 64, 67, 0.15);\n",
              "      fill: #174EA6;\n",
              "    }\n",
              "\n",
              "    [theme=dark] .colab-df-convert {\n",
              "      background-color: #3B4455;\n",
              "      fill: #D2E3FC;\n",
              "    }\n",
              "\n",
              "    [theme=dark] .colab-df-convert:hover {\n",
              "      background-color: #434B5C;\n",
              "      box-shadow: 0px 1px 3px 1px rgba(0, 0, 0, 0.15);\n",
              "      filter: drop-shadow(0px 1px 2px rgba(0, 0, 0, 0.3));\n",
              "      fill: #FFFFFF;\n",
              "    }\n",
              "  </style>\n",
              "\n",
              "      <script>\n",
              "        const buttonEl =\n",
              "          document.querySelector('#df-36ecbfab-788c-4314-a186-fd6545271687 button.colab-df-convert');\n",
              "        buttonEl.style.display =\n",
              "          google.colab.kernel.accessAllowed ? 'block' : 'none';\n",
              "\n",
              "        async function convertToInteractive(key) {\n",
              "          const element = document.querySelector('#df-36ecbfab-788c-4314-a186-fd6545271687');\n",
              "          const dataTable =\n",
              "            await google.colab.kernel.invokeFunction('convertToInteractive',\n",
              "                                                     [key], {});\n",
              "          if (!dataTable) return;\n",
              "\n",
              "          const docLinkHtml = 'Like what you see? Visit the ' +\n",
              "            '<a target=\"_blank\" href=https://colab.research.google.com/notebooks/data_table.ipynb>data table notebook</a>'\n",
              "            + ' to learn more about interactive tables.';\n",
              "          element.innerHTML = '';\n",
              "          dataTable['output_type'] = 'display_data';\n",
              "          await google.colab.output.renderOutput(dataTable, element);\n",
              "          const docLink = document.createElement('div');\n",
              "          docLink.innerHTML = docLinkHtml;\n",
              "          element.appendChild(docLink);\n",
              "        }\n",
              "      </script>\n",
              "    </div>\n",
              "  </div>\n",
              "  "
            ]
          },
          "metadata": {},
          "execution_count": 19
        }
      ]
    },
    {
      "cell_type": "code",
      "source": [
        "dados_lab.drop(columns='Unnamed: 0', axis=1, inplace=True)"
      ],
      "metadata": {
        "id": "lrOBbR6LPB8r"
      },
      "execution_count": null,
      "outputs": []
    },
    {
      "cell_type": "code",
      "source": [
        "dados_lab.info()"
      ],
      "metadata": {
        "colab": {
          "base_uri": "https://localhost:8080/"
        },
        "id": "qBPap-lWuxTr",
        "outputId": "9d6c8c98-1dbd-49f8-f46e-38b7c6ce2e2a"
      },
      "execution_count": null,
      "outputs": [
        {
          "output_type": "stream",
          "name": "stdout",
          "text": [
            "<class 'pandas.core.frame.DataFrame'>\n",
            "RangeIndex: 13611 entries, 0 to 13610\n",
            "Data columns (total 16 columns):\n",
            " #   Column           Non-Null Count  Dtype  \n",
            "---  ------           --------------  -----  \n",
            " 0   Area             13611 non-null  int64  \n",
            " 1   Perimeter        13611 non-null  float64\n",
            " 2   MajorAxisLength  13611 non-null  float64\n",
            " 3   MinorAxisLength  13611 non-null  float64\n",
            " 4   AspectRation     13611 non-null  float64\n",
            " 5   Eccentricity     13611 non-null  float64\n",
            " 6   ConvexArea       13611 non-null  int64  \n",
            " 7   EquivDiameter    13611 non-null  float64\n",
            " 8   Extent           13611 non-null  float64\n",
            " 9   Solidity         13611 non-null  float64\n",
            " 10  roundness        13611 non-null  float64\n",
            " 11  Compactness      13611 non-null  float64\n",
            " 12  ShapeFactor1     13611 non-null  float64\n",
            " 13  ShapeFactor2     13611 non-null  float64\n",
            " 14  ShapeFactor3     13611 non-null  float64\n",
            " 15  ShapeFactor4     13611 non-null  float64\n",
            "dtypes: float64(14), int64(2)\n",
            "memory usage: 1.7 MB\n"
          ]
        }
      ]
    },
    {
      "cell_type": "code",
      "source": [
        "dados_lab.describe()"
      ],
      "metadata": {
        "colab": {
          "base_uri": "https://localhost:8080/",
          "height": 364
        },
        "id": "BPFTGFMCuUML",
        "outputId": "43d1fd10-1f3d-4ebd-ae4b-0b2817183451"
      },
      "execution_count": null,
      "outputs": [
        {
          "output_type": "execute_result",
          "data": {
            "text/plain": [
              "                Area     Perimeter  MajorAxisLength  MinorAxisLength  \\\n",
              "count   13611.000000  13611.000000     13611.000000     13611.000000   \n",
              "mean    53048.284549    855.283459       320.141867       202.270714   \n",
              "std     29324.095717    214.289696        85.694186        44.970091   \n",
              "min     20420.000000    524.736000       183.601165       122.512653   \n",
              "25%     36328.000000    703.523500       253.303633       175.848170   \n",
              "50%     44652.000000    794.941000       296.883367       192.431733   \n",
              "75%     61332.000000    977.213000       376.495012       217.031741   \n",
              "max    254616.000000   1985.370000       738.860153       460.198497   \n",
              "\n",
              "       AspectRation  Eccentricity     ConvexArea  EquivDiameter        Extent  \\\n",
              "count  13611.000000  13611.000000   13611.000000   13611.000000  13611.000000   \n",
              "mean       1.583242      0.750895   53768.200206     253.064220      0.749733   \n",
              "std        0.246678      0.092002   29774.915817      59.177120      0.049086   \n",
              "min        1.024868      0.218951   20684.000000     161.243764      0.555315   \n",
              "25%        1.432307      0.715928   36714.500000     215.068003      0.718634   \n",
              "50%        1.551124      0.764441   45178.000000     238.438026      0.759859   \n",
              "75%        1.707109      0.810466   62294.000000     279.446467      0.786851   \n",
              "max        2.430306      0.911423  263261.000000     569.374358      0.866195   \n",
              "\n",
              "           Solidity     roundness   Compactness  ShapeFactor1  ShapeFactor2  \\\n",
              "count  13611.000000  13611.000000  13611.000000  13611.000000  13611.000000   \n",
              "mean       0.987143      0.873282      0.799864      0.006564      0.001716   \n",
              "std        0.004660      0.059520      0.061713      0.001128      0.000596   \n",
              "min        0.919246      0.489618      0.640577      0.002778      0.000564   \n",
              "25%        0.985670      0.832096      0.762469      0.005900      0.001154   \n",
              "50%        0.988283      0.883157      0.801277      0.006645      0.001694   \n",
              "75%        0.990013      0.916869      0.834270      0.007271      0.002170   \n",
              "max        0.994677      0.990685      0.987303      0.010451      0.003665   \n",
              "\n",
              "       ShapeFactor3  ShapeFactor4  \n",
              "count  13611.000000  13611.000000  \n",
              "mean       0.643590      0.995063  \n",
              "std        0.098996      0.004366  \n",
              "min        0.410339      0.947687  \n",
              "25%        0.581359      0.993703  \n",
              "50%        0.642044      0.996386  \n",
              "75%        0.696006      0.997883  \n",
              "max        0.974767      0.999733  "
            ],
            "text/html": [
              "\n",
              "  <div id=\"df-1eaabddb-9d63-423a-9e45-a6aac04f555e\">\n",
              "    <div class=\"colab-df-container\">\n",
              "      <div>\n",
              "<style scoped>\n",
              "    .dataframe tbody tr th:only-of-type {\n",
              "        vertical-align: middle;\n",
              "    }\n",
              "\n",
              "    .dataframe tbody tr th {\n",
              "        vertical-align: top;\n",
              "    }\n",
              "\n",
              "    .dataframe thead th {\n",
              "        text-align: right;\n",
              "    }\n",
              "</style>\n",
              "<table border=\"1\" class=\"dataframe\">\n",
              "  <thead>\n",
              "    <tr style=\"text-align: right;\">\n",
              "      <th></th>\n",
              "      <th>Area</th>\n",
              "      <th>Perimeter</th>\n",
              "      <th>MajorAxisLength</th>\n",
              "      <th>MinorAxisLength</th>\n",
              "      <th>AspectRation</th>\n",
              "      <th>Eccentricity</th>\n",
              "      <th>ConvexArea</th>\n",
              "      <th>EquivDiameter</th>\n",
              "      <th>Extent</th>\n",
              "      <th>Solidity</th>\n",
              "      <th>roundness</th>\n",
              "      <th>Compactness</th>\n",
              "      <th>ShapeFactor1</th>\n",
              "      <th>ShapeFactor2</th>\n",
              "      <th>ShapeFactor3</th>\n",
              "      <th>ShapeFactor4</th>\n",
              "    </tr>\n",
              "  </thead>\n",
              "  <tbody>\n",
              "    <tr>\n",
              "      <th>count</th>\n",
              "      <td>13611.000000</td>\n",
              "      <td>13611.000000</td>\n",
              "      <td>13611.000000</td>\n",
              "      <td>13611.000000</td>\n",
              "      <td>13611.000000</td>\n",
              "      <td>13611.000000</td>\n",
              "      <td>13611.000000</td>\n",
              "      <td>13611.000000</td>\n",
              "      <td>13611.000000</td>\n",
              "      <td>13611.000000</td>\n",
              "      <td>13611.000000</td>\n",
              "      <td>13611.000000</td>\n",
              "      <td>13611.000000</td>\n",
              "      <td>13611.000000</td>\n",
              "      <td>13611.000000</td>\n",
              "      <td>13611.000000</td>\n",
              "    </tr>\n",
              "    <tr>\n",
              "      <th>mean</th>\n",
              "      <td>53048.284549</td>\n",
              "      <td>855.283459</td>\n",
              "      <td>320.141867</td>\n",
              "      <td>202.270714</td>\n",
              "      <td>1.583242</td>\n",
              "      <td>0.750895</td>\n",
              "      <td>53768.200206</td>\n",
              "      <td>253.064220</td>\n",
              "      <td>0.749733</td>\n",
              "      <td>0.987143</td>\n",
              "      <td>0.873282</td>\n",
              "      <td>0.799864</td>\n",
              "      <td>0.006564</td>\n",
              "      <td>0.001716</td>\n",
              "      <td>0.643590</td>\n",
              "      <td>0.995063</td>\n",
              "    </tr>\n",
              "    <tr>\n",
              "      <th>std</th>\n",
              "      <td>29324.095717</td>\n",
              "      <td>214.289696</td>\n",
              "      <td>85.694186</td>\n",
              "      <td>44.970091</td>\n",
              "      <td>0.246678</td>\n",
              "      <td>0.092002</td>\n",
              "      <td>29774.915817</td>\n",
              "      <td>59.177120</td>\n",
              "      <td>0.049086</td>\n",
              "      <td>0.004660</td>\n",
              "      <td>0.059520</td>\n",
              "      <td>0.061713</td>\n",
              "      <td>0.001128</td>\n",
              "      <td>0.000596</td>\n",
              "      <td>0.098996</td>\n",
              "      <td>0.004366</td>\n",
              "    </tr>\n",
              "    <tr>\n",
              "      <th>min</th>\n",
              "      <td>20420.000000</td>\n",
              "      <td>524.736000</td>\n",
              "      <td>183.601165</td>\n",
              "      <td>122.512653</td>\n",
              "      <td>1.024868</td>\n",
              "      <td>0.218951</td>\n",
              "      <td>20684.000000</td>\n",
              "      <td>161.243764</td>\n",
              "      <td>0.555315</td>\n",
              "      <td>0.919246</td>\n",
              "      <td>0.489618</td>\n",
              "      <td>0.640577</td>\n",
              "      <td>0.002778</td>\n",
              "      <td>0.000564</td>\n",
              "      <td>0.410339</td>\n",
              "      <td>0.947687</td>\n",
              "    </tr>\n",
              "    <tr>\n",
              "      <th>25%</th>\n",
              "      <td>36328.000000</td>\n",
              "      <td>703.523500</td>\n",
              "      <td>253.303633</td>\n",
              "      <td>175.848170</td>\n",
              "      <td>1.432307</td>\n",
              "      <td>0.715928</td>\n",
              "      <td>36714.500000</td>\n",
              "      <td>215.068003</td>\n",
              "      <td>0.718634</td>\n",
              "      <td>0.985670</td>\n",
              "      <td>0.832096</td>\n",
              "      <td>0.762469</td>\n",
              "      <td>0.005900</td>\n",
              "      <td>0.001154</td>\n",
              "      <td>0.581359</td>\n",
              "      <td>0.993703</td>\n",
              "    </tr>\n",
              "    <tr>\n",
              "      <th>50%</th>\n",
              "      <td>44652.000000</td>\n",
              "      <td>794.941000</td>\n",
              "      <td>296.883367</td>\n",
              "      <td>192.431733</td>\n",
              "      <td>1.551124</td>\n",
              "      <td>0.764441</td>\n",
              "      <td>45178.000000</td>\n",
              "      <td>238.438026</td>\n",
              "      <td>0.759859</td>\n",
              "      <td>0.988283</td>\n",
              "      <td>0.883157</td>\n",
              "      <td>0.801277</td>\n",
              "      <td>0.006645</td>\n",
              "      <td>0.001694</td>\n",
              "      <td>0.642044</td>\n",
              "      <td>0.996386</td>\n",
              "    </tr>\n",
              "    <tr>\n",
              "      <th>75%</th>\n",
              "      <td>61332.000000</td>\n",
              "      <td>977.213000</td>\n",
              "      <td>376.495012</td>\n",
              "      <td>217.031741</td>\n",
              "      <td>1.707109</td>\n",
              "      <td>0.810466</td>\n",
              "      <td>62294.000000</td>\n",
              "      <td>279.446467</td>\n",
              "      <td>0.786851</td>\n",
              "      <td>0.990013</td>\n",
              "      <td>0.916869</td>\n",
              "      <td>0.834270</td>\n",
              "      <td>0.007271</td>\n",
              "      <td>0.002170</td>\n",
              "      <td>0.696006</td>\n",
              "      <td>0.997883</td>\n",
              "    </tr>\n",
              "    <tr>\n",
              "      <th>max</th>\n",
              "      <td>254616.000000</td>\n",
              "      <td>1985.370000</td>\n",
              "      <td>738.860153</td>\n",
              "      <td>460.198497</td>\n",
              "      <td>2.430306</td>\n",
              "      <td>0.911423</td>\n",
              "      <td>263261.000000</td>\n",
              "      <td>569.374358</td>\n",
              "      <td>0.866195</td>\n",
              "      <td>0.994677</td>\n",
              "      <td>0.990685</td>\n",
              "      <td>0.987303</td>\n",
              "      <td>0.010451</td>\n",
              "      <td>0.003665</td>\n",
              "      <td>0.974767</td>\n",
              "      <td>0.999733</td>\n",
              "    </tr>\n",
              "  </tbody>\n",
              "</table>\n",
              "</div>\n",
              "      <button class=\"colab-df-convert\" onclick=\"convertToInteractive('df-1eaabddb-9d63-423a-9e45-a6aac04f555e')\"\n",
              "              title=\"Convert this dataframe to an interactive table.\"\n",
              "              style=\"display:none;\">\n",
              "        \n",
              "  <svg xmlns=\"http://www.w3.org/2000/svg\" height=\"24px\"viewBox=\"0 0 24 24\"\n",
              "       width=\"24px\">\n",
              "    <path d=\"M0 0h24v24H0V0z\" fill=\"none\"/>\n",
              "    <path d=\"M18.56 5.44l.94 2.06.94-2.06 2.06-.94-2.06-.94-.94-2.06-.94 2.06-2.06.94zm-11 1L8.5 8.5l.94-2.06 2.06-.94-2.06-.94L8.5 2.5l-.94 2.06-2.06.94zm10 10l.94 2.06.94-2.06 2.06-.94-2.06-.94-.94-2.06-.94 2.06-2.06.94z\"/><path d=\"M17.41 7.96l-1.37-1.37c-.4-.4-.92-.59-1.43-.59-.52 0-1.04.2-1.43.59L10.3 9.45l-7.72 7.72c-.78.78-.78 2.05 0 2.83L4 21.41c.39.39.9.59 1.41.59.51 0 1.02-.2 1.41-.59l7.78-7.78 2.81-2.81c.8-.78.8-2.07 0-2.86zM5.41 20L4 18.59l7.72-7.72 1.47 1.35L5.41 20z\"/>\n",
              "  </svg>\n",
              "      </button>\n",
              "      \n",
              "  <style>\n",
              "    .colab-df-container {\n",
              "      display:flex;\n",
              "      flex-wrap:wrap;\n",
              "      gap: 12px;\n",
              "    }\n",
              "\n",
              "    .colab-df-convert {\n",
              "      background-color: #E8F0FE;\n",
              "      border: none;\n",
              "      border-radius: 50%;\n",
              "      cursor: pointer;\n",
              "      display: none;\n",
              "      fill: #1967D2;\n",
              "      height: 32px;\n",
              "      padding: 0 0 0 0;\n",
              "      width: 32px;\n",
              "    }\n",
              "\n",
              "    .colab-df-convert:hover {\n",
              "      background-color: #E2EBFA;\n",
              "      box-shadow: 0px 1px 2px rgba(60, 64, 67, 0.3), 0px 1px 3px 1px rgba(60, 64, 67, 0.15);\n",
              "      fill: #174EA6;\n",
              "    }\n",
              "\n",
              "    [theme=dark] .colab-df-convert {\n",
              "      background-color: #3B4455;\n",
              "      fill: #D2E3FC;\n",
              "    }\n",
              "\n",
              "    [theme=dark] .colab-df-convert:hover {\n",
              "      background-color: #434B5C;\n",
              "      box-shadow: 0px 1px 3px 1px rgba(0, 0, 0, 0.15);\n",
              "      filter: drop-shadow(0px 1px 2px rgba(0, 0, 0, 0.3));\n",
              "      fill: #FFFFFF;\n",
              "    }\n",
              "  </style>\n",
              "\n",
              "      <script>\n",
              "        const buttonEl =\n",
              "          document.querySelector('#df-1eaabddb-9d63-423a-9e45-a6aac04f555e button.colab-df-convert');\n",
              "        buttonEl.style.display =\n",
              "          google.colab.kernel.accessAllowed ? 'block' : 'none';\n",
              "\n",
              "        async function convertToInteractive(key) {\n",
              "          const element = document.querySelector('#df-1eaabddb-9d63-423a-9e45-a6aac04f555e');\n",
              "          const dataTable =\n",
              "            await google.colab.kernel.invokeFunction('convertToInteractive',\n",
              "                                                     [key], {});\n",
              "          if (!dataTable) return;\n",
              "\n",
              "          const docLinkHtml = 'Like what you see? Visit the ' +\n",
              "            '<a target=\"_blank\" href=https://colab.research.google.com/notebooks/data_table.ipynb>data table notebook</a>'\n",
              "            + ' to learn more about interactive tables.';\n",
              "          element.innerHTML = '';\n",
              "          dataTable['output_type'] = 'display_data';\n",
              "          await google.colab.output.renderOutput(dataTable, element);\n",
              "          const docLink = document.createElement('div');\n",
              "          docLink.innerHTML = docLinkHtml;\n",
              "          element.appendChild(docLink);\n",
              "        }\n",
              "      </script>\n",
              "    </div>\n",
              "  </div>\n",
              "  "
            ]
          },
          "metadata": {},
          "execution_count": 22
        }
      ]
    },
    {
      "cell_type": "markdown",
      "source": [
        "### Vídeo 2.3 - O que é K-means?\n",
        "\n",
        "[slides]"
      ],
      "metadata": {
        "id": "-0DWXh9xKwzM"
      }
    },
    {
      "cell_type": "markdown",
      "source": [
        "### Vídeo 2.4 - Aplicando o K-means\n",
        "\n"
      ],
      "metadata": {
        "id": "nPM1yHc4AkAl"
      }
    },
    {
      "cell_type": "markdown",
      "source": [
        "#### Pré-processamento"
      ],
      "metadata": {
        "id": "a0_fdESnvrz7"
      }
    },
    {
      "cell_type": "code",
      "source": [
        "import numpy as np"
      ],
      "metadata": {
        "id": "3bmAUbrouZu0"
      },
      "execution_count": null,
      "outputs": []
    },
    {
      "cell_type": "code",
      "source": [
        "dados_lab.columns"
      ],
      "metadata": {
        "colab": {
          "base_uri": "https://localhost:8080/"
        },
        "id": "gNivm-KJFdXE",
        "outputId": "5a3ec9cd-5c92-4abe-8b44-25e3c19f7f1c"
      },
      "execution_count": null,
      "outputs": [
        {
          "output_type": "execute_result",
          "data": {
            "text/plain": [
              "Index(['Area', 'Perimeter', 'MajorAxisLength', 'MinorAxisLength',\n",
              "       'AspectRation', 'Eccentricity', 'ConvexArea', 'EquivDiameter', 'Extent',\n",
              "       'Solidity', 'roundness', 'Compactness', 'ShapeFactor1', 'ShapeFactor2',\n",
              "       'ShapeFactor3', 'ShapeFactor4'],\n",
              "      dtype='object')"
            ]
          },
          "metadata": {},
          "execution_count": 24
        }
      ]
    },
    {
      "cell_type": "code",
      "source": [
        "X = dados_lab.iloc[:, [0,1,2,3,4,5,6,7,8,9,10,11,12,13,14,15]].values\n",
        "X"
      ],
      "metadata": {
        "colab": {
          "base_uri": "https://localhost:8080/"
        },
        "id": "4kT6PID9FdUs",
        "outputId": "26848615-7ed5-44d8-87e4-aa717255ef82"
      },
      "execution_count": null,
      "outputs": [
        {
          "output_type": "execute_result",
          "data": {
            "text/plain": [
              "array([[2.83950000e+04, 6.10291000e+02, 2.08178117e+02, ...,\n",
              "        3.14728917e-03, 8.34222388e-01, 9.98723889e-01],\n",
              "       [2.87340000e+04, 6.38018000e+02, 2.00524796e+02, ...,\n",
              "        3.56362371e-03, 9.09850506e-01, 9.98430331e-01],\n",
              "       [2.93800000e+04, 6.24110000e+02, 2.12826130e+02, ...,\n",
              "        3.04773322e-03, 8.25870617e-01, 9.99066137e-01],\n",
              "       ...,\n",
              "       [4.21390000e+04, 7.59321000e+02, 2.81539928e+02, ...,\n",
              "        1.88827064e-03, 6.76884164e-01, 9.96767264e-01],\n",
              "       [4.21470000e+04, 7.63779000e+02, 2.83382636e+02, ...,\n",
              "        1.85202548e-03, 6.68236684e-01, 9.95222420e-01],\n",
              "       [4.21590000e+04, 7.72237000e+02, 2.95142741e+02, ...,\n",
              "        1.63981171e-03, 6.16220592e-01, 9.98179623e-01]])"
            ]
          },
          "metadata": {},
          "execution_count": 25
        }
      ]
    },
    {
      "cell_type": "code",
      "source": [
        "#pacote para normalizar os dados - colocar na mesma escala\n",
        "from sklearn.preprocessing import StandardScaler"
      ],
      "metadata": {
        "id": "ay3YmwozMMmU"
      },
      "execution_count": null,
      "outputs": []
    },
    {
      "cell_type": "code",
      "source": [
        "scaler = StandardScaler()"
      ],
      "metadata": {
        "id": "oR2-dqpyIdL8"
      },
      "execution_count": null,
      "outputs": []
    },
    {
      "cell_type": "code",
      "source": [
        "X_normalizado = scaler.fit_transform(X)"
      ],
      "metadata": {
        "id": "Ljm4oQ6CIdJM"
      },
      "execution_count": null,
      "outputs": []
    },
    {
      "cell_type": "code",
      "source": [
        "X_normalizado"
      ],
      "metadata": {
        "colab": {
          "base_uri": "https://localhost:8080/"
        },
        "id": "1mVpLEpfI8sE",
        "outputId": "e8df535a-f748-4835-eeff-a288f04d5695"
      },
      "execution_count": null,
      "outputs": [
        {
          "output_type": "execute_result",
          "data": {
            "text/plain": [
              "array([[-0.84074853, -1.1433189 , -1.30659814, ...,  2.40217287,\n",
              "         1.92572347,  0.83837103],\n",
              "       [-0.82918764, -1.01392388, -1.39591111, ...,  3.10089314,\n",
              "         2.68970162,  0.77113842],\n",
              "       [-0.80715717, -1.07882906, -1.25235661, ...,  2.23509147,\n",
              "         1.84135576,  0.91675514],\n",
              "       ...,\n",
              "       [-0.37203825, -0.44783294, -0.45047814, ...,  0.28920441,\n",
              "         0.33632829,  0.39025114],\n",
              "       [-0.37176543, -0.42702856, -0.42897404, ...,  0.22837538,\n",
              "         0.2489734 ,  0.03644001],\n",
              "       [-0.37135619, -0.38755718, -0.2917356 , ..., -0.12777587,\n",
              "        -0.2764814 ,  0.71371948]])"
            ]
          },
          "metadata": {},
          "execution_count": 29
        }
      ]
    },
    {
      "cell_type": "code",
      "source": [
        "#exemplo \n",
        "X_normalizado[0]"
      ],
      "metadata": {
        "colab": {
          "base_uri": "https://localhost:8080/"
        },
        "id": "8ftWpWhSyuoH",
        "outputId": "3aaca409-b7fa-407b-e13b-04d79d368438"
      },
      "execution_count": null,
      "outputs": [
        {
          "output_type": "execute_result",
          "data": {
            "text/plain": [
              "array([-0.84074853, -1.1433189 , -1.30659814, -0.63115304, -1.56505251,\n",
              "       -2.18572039, -0.84145059, -1.0633406 ,  0.28908744,  0.36761343,\n",
              "        1.42386707,  1.8391164 ,  0.68078638,  2.40217287,  1.92572347,\n",
              "        0.83837103])"
            ]
          },
          "metadata": {},
          "execution_count": 30
        }
      ]
    },
    {
      "cell_type": "markdown",
      "source": [
        "* K-Means\n",
        "\n",
        "[Documentação Sklearn](https://scikit-learn.org/stable/modules/generated/sklearn.cluster.KMeans.html#sklearn.cluster.KMeans)"
      ],
      "metadata": {
        "id": "q2XYWKFjQUu6"
      }
    },
    {
      "cell_type": "code",
      "source": [
        "from sklearn.cluster import KMeans"
      ],
      "metadata": {
        "id": "SvV4y4kcFdb0"
      },
      "execution_count": null,
      "outputs": []
    },
    {
      "cell_type": "code",
      "source": [
        "kmeans_dados = KMeans(n_clusters=7, random_state=42)\n",
        "rotulos_kmeans = kmeans_dados.fit_predict(X_normalizado)"
      ],
      "metadata": {
        "id": "VSAZldVuI8pG"
      },
      "execution_count": null,
      "outputs": []
    },
    {
      "cell_type": "code",
      "source": [
        "rotulos_kmeans[0:5]"
      ],
      "metadata": {
        "colab": {
          "base_uri": "https://localhost:8080/"
        },
        "id": "0Ak4Q09HKWZk",
        "outputId": "c79ced62-d48f-48bf-cb4d-2340b8bf555c"
      },
      "execution_count": null,
      "outputs": [
        {
          "output_type": "execute_result",
          "data": {
            "text/plain": [
              "array([4, 4, 4, 4, 4], dtype=int32)"
            ]
          },
          "metadata": {},
          "execution_count": 33
        }
      ]
    },
    {
      "cell_type": "code",
      "source": [
        "#Elbow method\n",
        "#Inertia: soma das distâncias quadradas das amostras até o centro do cluster mais próximo\n",
        "\n",
        "wcss = []\n",
        "for i in range(1,11):\n",
        "  kmeans_dados_e = KMeans(n_clusters=i, random_state=42)\n",
        "  kmeans_dados_e.fit(X_normalizado)\n",
        "  wcss.append(kmeans_dados_e.inertia_)"
      ],
      "metadata": {
        "id": "VWi4ms4SKWW8"
      },
      "execution_count": null,
      "outputs": []
    },
    {
      "cell_type": "code",
      "source": [
        "wcss"
      ],
      "metadata": {
        "colab": {
          "base_uri": "https://localhost:8080/"
        },
        "id": "QwD3-c0TVnVE",
        "outputId": "6dfd7950-4955-4f7a-95df-7155bf04c56e"
      },
      "execution_count": null,
      "outputs": [
        {
          "output_type": "execute_result",
          "data": {
            "text/plain": [
              "[217775.99999999962,\n",
              " 129900.03393116503,\n",
              " 94742.01517193255,\n",
              " 76474.3092265684,\n",
              " 61893.644351997085,\n",
              " 55529.36268782072,\n",
              " 48811.945764493605,\n",
              " 45242.21549166851,\n",
              " 41975.593948177775,\n",
              " 39766.202471614335]"
            ]
          },
          "metadata": {},
          "execution_count": 35
        }
      ]
    },
    {
      "cell_type": "code",
      "source": [
        "import matplotlib.pyplot as plt\n",
        "import seaborn as sns"
      ],
      "metadata": {
        "id": "NQ7MVM6_CZuw"
      },
      "execution_count": null,
      "outputs": []
    },
    {
      "cell_type": "code",
      "source": [
        "plt.plot(range(1, 11), wcss) \n",
        "plt.xlabel('Número de clusters') \n",
        "plt.ylabel('WCSS') \n",
        "plt.show()"
      ],
      "metadata": {
        "colab": {
          "base_uri": "https://localhost:8080/",
          "height": 281
        },
        "id": "DIzI4WxrwOGX",
        "outputId": "fad868a5-4a1f-479a-c976-eb8c5a84f9a1"
      },
      "execution_count": null,
      "outputs": [
        {
          "output_type": "display_data",
          "data": {
            "text/plain": [
              "<Figure size 432x288 with 1 Axes>"
            ],
            "image/png": "[encoded data removed]"
          },
          "metadata": {
            "needs_background": "light"
          }
        }
      ]
    },
    {
      "cell_type": "markdown",
      "source": [
        "* Visualização com YellowBrick\n",
        "\n",
        "[Documentação `elbow_visualizer`](https://www.scikit-yb.org/en/latest/api/cluster/elbow.html)\n"
      ],
      "metadata": {
        "id": "aiikEFoMUGEa"
      }
    },
    {
      "cell_type": "code",
      "source": [
        "from yellowbrick.cluster import KElbowVisualizer"
      ],
      "metadata": {
        "id": "ARV8rEUaV3LK"
      },
      "execution_count": null,
      "outputs": []
    },
    {
      "cell_type": "code",
      "source": [
        "kmeans_dados_elbow = KMeans(random_state=42)"
      ],
      "metadata": {
        "id": "Te1K1fDgXGXh"
      },
      "execution_count": null,
      "outputs": []
    },
    {
      "cell_type": "code",
      "source": [
        "#distorção: média das distâncias quadradas dos centros dos clusters dos respectivos clusters\n",
        "grafico = KElbowVisualizer(kmeans_dados_elbow, k=(2,8))\n",
        "\n",
        "grafico.fit(X_normalizado)        \n",
        "grafico.show()        "
      ],
      "metadata": {
        "colab": {
          "base_uri": "https://localhost:8080/",
          "height": 393
        },
        "id": "UN2j8AhBWNAb",
        "outputId": "62d849e1-5815-45a6-d236-6427f2249bf0"
      },
      "execution_count": null,
      "outputs": [
        {
          "output_type": "display_data",
          "data": {
            "text/plain": [
              "<Figure size 576x396 with 2 Axes>"
            ],
            "image/png": "[encoded data removed]"
          },
          "metadata": {}
        },
        {
          "output_type": "execute_result",
          "data": {
            "text/plain": [
              "<matplotlib.axes._subplots.AxesSubplot at 0x7f1d4fdfccd0>"
            ]
          },
          "metadata": {},
          "execution_count": 40
        }
      ]
    },
    {
      "cell_type": "code",
      "source": [
        "#rodar novamente \n",
        "kmeans_dados_final = KMeans(n_clusters = 4, random_state=42)\n",
        "rotulos_kmeans_final = kmeans_dados_final.fit_predict(X_normalizado)"
      ],
      "metadata": {
        "id": "dSUAwr-TFu-P"
      },
      "execution_count": null,
      "outputs": []
    },
    {
      "cell_type": "code",
      "source": [
        "sns.set(style='white', rc={'figure.figsize':(9,6)},font_scale=1.1)\n",
        "\n",
        "#plot dos agrupamentos\n",
        "plt.scatter(x=X_normalizado[:,0], y=X_normalizado[:, 2], c=rotulos_kmeans_final, cmap='winter')\n",
        "\n",
        "#plot dos centroides\n",
        "plt.scatter(kmeans_dados_final.cluster_centers_[:, 0], \n",
        "            kmeans_dados_final.cluster_centers_[:, 2], \n",
        "            s=100,                             \n",
        "            c='red') \n",
        "\n",
        "plt.title('Dados Agrupados com K-means',fontweight='bold')\n",
        "plt.show()"
      ],
      "metadata": {
        "id": "c2YY1ajeGLhQ",
        "colab": {
          "base_uri": "https://localhost:8080/",
          "height": 399
        },
        "outputId": "1d46b44b-5712-4178-b091-44de7072c0b7"
      },
      "execution_count": null,
      "outputs": [
        {
          "output_type": "display_data",
          "data": {
            "text/plain": [
              "<Figure size 648x432 with 1 Axes>"
            ],
            "image/png": "[encoded data removed]"
          },
          "metadata": {}
        }
      ]
    },
    {
      "cell_type": "markdown",
      "source": [
        "## Aula 3 - Análise de Agrupamento (parte 2)"
      ],
      "metadata": {
        "id": "2m3kpf3kNRJ5"
      }
    },
    {
      "cell_type": "markdown",
      "source": [
        "### Vídeo 3.1 - O que é Mean Shift?\n",
        "\n",
        "[Slides]"
      ],
      "metadata": {
        "id": "yXi_uLOYNYe5"
      }
    },
    {
      "cell_type": "markdown",
      "source": [
        "### Vídeo 3.2 - Aplicando o Mean Shift"
      ],
      "metadata": {
        "id": "uk1UI-WINMSK"
      }
    },
    {
      "cell_type": "markdown",
      "source": [
        "* MeanShift\n",
        "\n",
        "[Documentação Sklearn](https://scikit-learn.org/stable/modules/generated/sklearn.cluster.MeanShift.html#sklearn.cluster.MeanShift)\n",
        "\n",
        "[Documentação `estimate_bandwidth`](https://scikit-learn.org/stable/modules/generated/sklearn.cluster.estimate_bandwidth.html?highlight=bandwidth#sklearn.cluster.estimate_bandwidth)\n",
        "\n",
        "* Dica de leitura: [Artigo científico - Mean shift: a robust approach toward feature space analysis](https://courses.csail.mit.edu/6.869/handouts/PAMIMeanshift.pdf)"
      ],
      "metadata": {
        "id": "izj-tQDmZAwB"
      }
    },
    {
      "cell_type": "code",
      "source": [
        "from sklearn.cluster import MeanShift, estimate_bandwidth"
      ],
      "metadata": {
        "id": "EIqDlO8Xo4HF"
      },
      "execution_count": null,
      "outputs": []
    },
    {
      "cell_type": "code",
      "source": [
        "bw = estimate_bandwidth(X_normalizado)"
      ],
      "metadata": {
        "id": "9pBxd1wqZ9BN"
      },
      "execution_count": null,
      "outputs": []
    },
    {
      "cell_type": "code",
      "source": [
        "meanshift_dados = MeanShift(bandwidth=bw).fit(X_normalizado)"
      ],
      "metadata": {
        "id": "4v9GddAuZ8-6"
      },
      "execution_count": null,
      "outputs": []
    },
    {
      "cell_type": "code",
      "source": [
        "rotulos_meanshift = meanshift_dados.labels_\n",
        "numero_rotulos = len(np.unique(rotulos_meanshift))\n",
        "numero_rotulos"
      ],
      "metadata": {
        "id": "gzbW8vUQZ88p",
        "colab": {
          "base_uri": "https://localhost:8080/"
        },
        "outputId": "f1c3cc3e-8c41-47a6-ef42-edb531f71c09"
      },
      "execution_count": null,
      "outputs": [
        {
          "output_type": "execute_result",
          "data": {
            "text/plain": [
              "4"
            ]
          },
          "metadata": {},
          "execution_count": 46
        }
      ]
    },
    {
      "cell_type": "code",
      "source": [
        "cluster_centers = meanshift_dados.cluster_centers_\n",
        "cluster_centers"
      ],
      "metadata": {
        "id": "vx8a9OMFZ86N",
        "colab": {
          "base_uri": "https://localhost:8080/"
        },
        "outputId": "f314a27e-c5f3-46a8-a293-5a0745619ecd"
      },
      "execution_count": null,
      "outputs": [
        {
          "output_type": "execute_result",
          "data": {
            "text/plain": [
              "array([[ -0.4789558 ,  -0.57366824,  -0.58841817,  -0.42756736,\n",
              "         -0.42964784,  -0.28480431,  -0.48084559,  -0.5319751 ,\n",
              "          0.12248386,   0.32496662,   0.54452886,   0.39271413,\n",
              "          0.44264794,   0.51777696,   0.37457547,   0.38905475],\n",
              "       [  4.04202451,   3.35871393,   3.13195302,   3.79875394,\n",
              "         -0.01871732,   0.20020256,   4.02825102,   3.60773152,\n",
              "          0.58606303,   0.13478125,  -0.1081938 ,  -0.09017692,\n",
              "         -2.76073157,  -1.45046936,  -0.12046372,  -0.58259507],\n",
              "       [ -0.61809068,  -0.18034875,  -0.72145327,  -0.45878373,\n",
              "         -0.65305572,  -0.43329509,  -0.52986816,  -0.71302349,\n",
              "         -0.76678946, -14.56945421,  -3.6158641 ,   0.26663429,\n",
              "          0.73851951,   0.52044111,   0.23016791, -10.85036253],\n",
              "       [ -0.71296496,   0.24725168,  -0.89407169,  -0.67041047,\n",
              "         -0.68268286,  -0.47253771,  -0.66549065,  -0.85790121,\n",
              "         -0.53453744,  -8.69256545,  -6.44620954,   0.49964137,\n",
              "          0.89810019,   0.85515594,   0.4694049 ,  -4.29163229]])"
            ]
          },
          "metadata": {},
          "execution_count": 47
        }
      ]
    },
    {
      "cell_type": "code",
      "source": [
        "sns.set(style='white', rc={'figure.figsize':(9,6)},font_scale=1.1)\n",
        "\n",
        "#plot dos agrupamentos\n",
        "plt.scatter(x=X_normalizado[:,0], y=X_normalizado[:, 1], c=rotulos_meanshift, cmap='winter')\n",
        "\n",
        "#plot dos centroides\n",
        "plt.scatter(meanshift_dados.cluster_centers_[:, 0], \n",
        "            meanshift_dados.cluster_centers_[:, 1], \n",
        "            s=100,                             \n",
        "            c='red') \n",
        "\n",
        "plt.title('Dados Agrupados com MeanShift',fontweight='bold')\n",
        "plt.show()"
      ],
      "metadata": {
        "id": "v73ef9T9C1KI",
        "colab": {
          "base_uri": "https://localhost:8080/",
          "height": 399
        },
        "outputId": "730ae1b6-b8be-432e-b800-af5359d453b7"
      },
      "execution_count": null,
      "outputs": [
        {
          "output_type": "display_data",
          "data": {
            "text/plain": [
              "<Figure size 648x432 with 1 Axes>"
            ],
            "image/png": "[encoded data removed]"
          },
          "metadata": {}
        }
      ]
    },
    {
      "cell_type": "markdown",
      "source": [
        "### Vídeo 3.3 - O que é DBSCAN?\n",
        "\n",
        "[Slides]"
      ],
      "metadata": {
        "id": "y2DD1CqZNdL4"
      }
    },
    {
      "cell_type": "markdown",
      "source": [
        "### Vídeo 3.4 - Aplicando DBSCAN no problema"
      ],
      "metadata": {
        "id": "dFNLQzGpNhaI"
      }
    },
    {
      "cell_type": "markdown",
      "source": [
        "* DBSCAN\n",
        "\n",
        "[Documentação Sklearn](https://scikit-learn.org/stable/modules/generated/sklearn.cluster.DBSCAN.html#sklearn.cluster.DBSCAN)"
      ],
      "metadata": {
        "id": "_PoNtvgW0oBU"
      }
    },
    {
      "cell_type": "code",
      "source": [
        "from sklearn.cluster import DBSCAN"
      ],
      "metadata": {
        "id": "tf2Eoxb-pAsy"
      },
      "execution_count": null,
      "outputs": []
    },
    {
      "cell_type": "code",
      "source": [
        "#realizar varios testes com os parametros `eps` e `min_samples`\n",
        "dbscan = DBSCAN(eps=1.20, min_samples=2)"
      ],
      "metadata": {
        "id": "utKZyM3G0w8z"
      },
      "execution_count": null,
      "outputs": []
    },
    {
      "cell_type": "code",
      "source": [
        "dbscan_dados = dbscan.fit(X_normalizado)"
      ],
      "metadata": {
        "id": "MIev8uPo0w6L"
      },
      "execution_count": null,
      "outputs": []
    },
    {
      "cell_type": "code",
      "source": [
        "rotulos_dbscan = dbscan_dados.labels_\n",
        "rotulos_dbscan"
      ],
      "metadata": {
        "id": "toWzMvTs0w4T",
        "colab": {
          "base_uri": "https://localhost:8080/"
        },
        "outputId": "ab562f6e-fb9f-4fca-f771-76238b3b6393"
      },
      "execution_count": null,
      "outputs": [
        {
          "output_type": "execute_result",
          "data": {
            "text/plain": [
              "array([0, 0, 0, ..., 0, 0, 0])"
            ]
          },
          "metadata": {},
          "execution_count": 52
        }
      ]
    },
    {
      "cell_type": "code",
      "source": [
        "np.unique(rotulos_dbscan, return_counts=True)"
      ],
      "metadata": {
        "id": "G96ZQv6B5_Zz",
        "colab": {
          "base_uri": "https://localhost:8080/"
        },
        "outputId": "2791b162-95b4-4edd-b86e-1c4ef3e73d30"
      },
      "execution_count": null,
      "outputs": [
        {
          "output_type": "execute_result",
          "data": {
            "text/plain": [
              "(array([-1,  0,  1,  2,  3,  4,  5,  6,  7,  8,  9, 10, 11, 12, 13, 14, 15,\n",
              "        16, 17, 18, 19, 20, 21, 22, 23, 24, 25, 26, 27, 28, 29, 30]),\n",
              " array([  265, 12794,     2,     3,     2,     3,     2,     2,   477,\n",
              "            2,     2,     2,     5,     2,     2,     6,     6,     3,\n",
              "            2,     3,     2,     3,     2,     2,     2,     2,     2,\n",
              "            2,     2,     2,     3,     2]))"
            ]
          },
          "metadata": {},
          "execution_count": 53
        }
      ]
    },
    {
      "cell_type": "code",
      "source": [
        "numero_rotulos = len(np.unique(rotulos_dbscan))\n",
        "numero_rotulos"
      ],
      "metadata": {
        "id": "CjG3lQrM0w1z",
        "colab": {
          "base_uri": "https://localhost:8080/"
        },
        "outputId": "b2a9704b-06b0-4b3c-a9fa-35b434be212d"
      },
      "execution_count": null,
      "outputs": [
        {
          "output_type": "execute_result",
          "data": {
            "text/plain": [
              "32"
            ]
          },
          "metadata": {},
          "execution_count": 54
        }
      ]
    },
    {
      "cell_type": "code",
      "source": [
        "sns.set(style='white', rc={'figure.figsize':(9,6)},font_scale=1.1)\n",
        "\n",
        "#plot dos agrupamentos\n",
        "plt.scatter(x=X_normalizado[:,0], y=X_normalizado[:, 1], c=rotulos_dbscan, cmap='viridis')\n",
        "\n",
        "plt.title('Dados Agrupados com DBSCAN',fontweight='bold')\n",
        "plt.show()"
      ],
      "metadata": {
        "id": "CVZN2AsXDMCp",
        "colab": {
          "base_uri": "https://localhost:8080/",
          "height": 399
        },
        "outputId": "dffba875-c13b-4213-d300-336c7f074661"
      },
      "execution_count": null,
      "outputs": [
        {
          "output_type": "display_data",
          "data": {
            "text/plain": [
              "<Figure size 648x432 with 1 Axes>"
            ],
            "image/png": "[encoded data removed]"
          },
          "metadata": {}
        }
      ]
    },
    {
      "cell_type": "code",
      "source": [
        "#analisar clusters criados"
      ],
      "metadata": {
        "id": "oq6C4azv8fVd"
      },
      "execution_count": null,
      "outputs": []
    },
    {
      "cell_type": "markdown",
      "source": [
        "## Aula 4 - Redução de Dimensionalidade\n"
      ],
      "metadata": {
        "id": "df8LGTqkA9kl"
      }
    },
    {
      "cell_type": "markdown",
      "source": [
        "### Vídeo 4.1 - O que é Redução de Dimensionalidade?\n",
        "\n",
        "[Slides]\n",
        "\n",
        "* O que é Maldição da Dimensionalidade?\n",
        "\n",
        "Fenômeno que ocorre quando temos uma grande quantidade de variáveis e muitas vezes são altamente correlacionadas ou não agregam informação útil ao problema que estamos lidando.\n",
        "\n",
        "* Redução de dimensionalidade\n",
        "\n",
        "Reduzir o número de características para que reduza o custo e a facilite o desenvolvimento de uma solução.\n"
      ],
      "metadata": {
        "id": "wqjEywQBNqq5"
      }
    },
    {
      "cell_type": "markdown",
      "source": [
        "### Vídeo 4.2 - O que é PCA?\n",
        "\n",
        "[Slides]\n",
        "\n",
        "* Faremos uma simulação desta técnica a seguir, utilizando o problema da Indústria Pé-de-Feijão!\n",
        "\n",
        "* O que é PCA (Principal Component Analysis)?\n",
        "\n",
        "\"A análise fatorial por componentes principais permite, portanto, que, a partir de um conjunto de variáveis originais correlacionadas entre si, seja determinado outro conjunto de variáveis (fatores) resultantes da combinação linear do primeiro conjunto.\"\n",
        "\n",
        "* Dica de leitura: [Documentação Sklearn - Técnicas de Redução de Dimensionalidade](https://scikit-learn.org/stable/modules/decomposition.html#decompositions), [Capítulo 10 - Manual de Análise de Dados](https://www.google.com.br/books/edition/Manual_de_An%C3%A1lise_de_Dados/SmlaDwAAQBAJ?hl=pt-BR&gbpv=0)"
      ],
      "metadata": {
        "id": "F5Wd79ndNu_o"
      }
    },
    {
      "cell_type": "markdown",
      "source": [
        "### Vídeo 4.3 - Simulando PCA nos dados"
      ],
      "metadata": {
        "id": "fkADq3mQNyM7"
      }
    },
    {
      "cell_type": "code",
      "source": [
        "correlacao = dados_lab.corr()\n",
        "correlacao"
      ],
      "metadata": {
        "id": "7dbfYjhyA9OD",
        "colab": {
          "base_uri": "https://localhost:8080/",
          "height": 615
        },
        "outputId": "666f2a02-2cd8-478d-9fde-c76090bbade4"
      },
      "execution_count": null,
      "outputs": [
        {
          "output_type": "execute_result",
          "data": {
            "text/plain": [
              "                     Area  Perimeter  MajorAxisLength  MinorAxisLength  \\\n",
              "Area             1.000000   0.966722         0.931834         0.951602   \n",
              "Perimeter        0.966722   1.000000         0.977338         0.913179   \n",
              "MajorAxisLength  0.931834   0.977338         1.000000         0.826052   \n",
              "MinorAxisLength  0.951602   0.913179         0.826052         1.000000   \n",
              "AspectRation     0.241735   0.385276         0.550335        -0.009161   \n",
              "Eccentricity     0.267481   0.391066         0.541972         0.019574   \n",
              "ConvexArea       0.999939   0.967689         0.932607         0.951339   \n",
              "EquivDiameter    0.984968   0.991380         0.961733         0.948539   \n",
              "Extent           0.054345  -0.021160        -0.078062         0.145957   \n",
              "Solidity        -0.196585  -0.303970        -0.284302        -0.155831   \n",
              "roundness       -0.357530  -0.547647        -0.596358        -0.210344   \n",
              "Compactness     -0.268067  -0.406857        -0.568377        -0.015066   \n",
              "ShapeFactor1    -0.847958  -0.864623        -0.773609        -0.947204   \n",
              "ShapeFactor2    -0.639291  -0.767592        -0.859238        -0.471347   \n",
              "ShapeFactor3    -0.272145  -0.408435        -0.568185        -0.019326   \n",
              "ShapeFactor4    -0.355721  -0.429310        -0.482527        -0.263749   \n",
              "\n",
              "                 AspectRation  Eccentricity  ConvexArea  EquivDiameter  \\\n",
              "Area                 0.241735      0.267481    0.999939       0.984968   \n",
              "Perimeter            0.385276      0.391066    0.967689       0.991380   \n",
              "MajorAxisLength      0.550335      0.541972    0.932607       0.961733   \n",
              "MinorAxisLength     -0.009161      0.019574    0.951339       0.948539   \n",
              "AspectRation         1.000000      0.924293    0.243301       0.303647   \n",
              "Eccentricity         0.924293      1.000000    0.269255       0.318667   \n",
              "ConvexArea           0.243301      0.269255    1.000000       0.985226   \n",
              "EquivDiameter        0.303647      0.318667    0.985226       1.000000   \n",
              "Extent              -0.370184     -0.319362    0.052564       0.028383   \n",
              "Solidity            -0.267754     -0.297592   -0.206191      -0.231648   \n",
              "roundness           -0.766979     -0.722272   -0.362083      -0.435945   \n",
              "Compactness         -0.987687     -0.970313   -0.269922      -0.327650   \n",
              "ShapeFactor1         0.024593      0.019920   -0.847950      -0.892741   \n",
              "ShapeFactor2        -0.837841     -0.860141   -0.640862      -0.713069   \n",
              "ShapeFactor3        -0.978592     -0.981058   -0.274024      -0.330389   \n",
              "ShapeFactor4        -0.449264     -0.449354   -0.362049      -0.392512   \n",
              "\n",
              "                   Extent  Solidity  roundness  Compactness  ShapeFactor1  \\\n",
              "Area             0.054345 -0.196585  -0.357530    -0.268067     -0.847958   \n",
              "Perimeter       -0.021160 -0.303970  -0.547647    -0.406857     -0.864623   \n",
              "MajorAxisLength -0.078062 -0.284302  -0.596358    -0.568377     -0.773609   \n",
              "MinorAxisLength  0.145957 -0.155831  -0.210344    -0.015066     -0.947204   \n",
              "AspectRation    -0.370184 -0.267754  -0.766979    -0.987687      0.024593   \n",
              "Eccentricity    -0.319362 -0.297592  -0.722272    -0.970313      0.019920   \n",
              "ConvexArea       0.052564 -0.206191  -0.362083    -0.269922     -0.847950   \n",
              "EquivDiameter    0.028383 -0.231648  -0.435945    -0.327650     -0.892741   \n",
              "Extent           1.000000  0.191389   0.344411     0.354212     -0.141616   \n",
              "Solidity         0.191389  1.000000   0.607150     0.303766      0.153388   \n",
              "roundness        0.344411  0.607150   1.000000     0.768086      0.230273   \n",
              "Compactness      0.354212  0.303766   0.768086     1.000000     -0.009394   \n",
              "ShapeFactor1    -0.141616  0.153388   0.230273    -0.009394      1.000000   \n",
              "ShapeFactor2     0.237956  0.343559   0.782824     0.868939      0.469197   \n",
              "ShapeFactor3     0.347624  0.307662   0.763126     0.998686     -0.008320   \n",
              "ShapeFactor4     0.148502  0.702163   0.472149     0.484436      0.248619   \n",
              "\n",
              "                 ShapeFactor2  ShapeFactor3  ShapeFactor4  \n",
              "Area                -0.639291     -0.272145     -0.355721  \n",
              "Perimeter           -0.767592     -0.408435     -0.429310  \n",
              "MajorAxisLength     -0.859238     -0.568185     -0.482527  \n",
              "MinorAxisLength     -0.471347     -0.019326     -0.263749  \n",
              "AspectRation        -0.837841     -0.978592     -0.449264  \n",
              "Eccentricity        -0.860141     -0.981058     -0.449354  \n",
              "ConvexArea          -0.640862     -0.274024     -0.362049  \n",
              "EquivDiameter       -0.713069     -0.330389     -0.392512  \n",
              "Extent               0.237956      0.347624      0.148502  \n",
              "Solidity             0.343559      0.307662      0.702163  \n",
              "roundness            0.782824      0.763126      0.472149  \n",
              "Compactness          0.868939      0.998686      0.484436  \n",
              "ShapeFactor1         0.469197     -0.008320      0.248619  \n",
              "ShapeFactor2         1.000000      0.872971      0.529932  \n",
              "ShapeFactor3         0.872971      1.000000      0.484274  \n",
              "ShapeFactor4         0.529932      0.484274      1.000000  "
            ],
            "text/html": [
              "\n",
              "  <div id=\"df-abe01017-effa-4394-8ab2-6c6262ccb460\">\n",
              "    <div class=\"colab-df-container\">\n",
              "      <div>\n",
              "<style scoped>\n",
              "    .dataframe tbody tr th:only-of-type {\n",
              "        vertical-align: middle;\n",
              "    }\n",
              "\n",
              "    .dataframe tbody tr th {\n",
              "        vertical-align: top;\n",
              "    }\n",
              "\n",
              "    .dataframe thead th {\n",
              "        text-align: right;\n",
              "    }\n",
              "</style>\n",
              "<table border=\"1\" class=\"dataframe\">\n",
              "  <thead>\n",
              "    <tr style=\"text-align: right;\">\n",
              "      <th></th>\n",
              "      <th>Area</th>\n",
              "      <th>Perimeter</th>\n",
              "      <th>MajorAxisLength</th>\n",
              "      <th>MinorAxisLength</th>\n",
              "      <th>AspectRation</th>\n",
              "      <th>Eccentricity</th>\n",
              "      <th>ConvexArea</th>\n",
              "      <th>EquivDiameter</th>\n",
              "      <th>Extent</th>\n",
              "      <th>Solidity</th>\n",
              "      <th>roundness</th>\n",
              "      <th>Compactness</th>\n",
              "      <th>ShapeFactor1</th>\n",
              "      <th>ShapeFactor2</th>\n",
              "      <th>ShapeFactor3</th>\n",
              "      <th>ShapeFactor4</th>\n",
              "    </tr>\n",
              "  </thead>\n",
              "  <tbody>\n",
              "    <tr>\n",
              "      <th>Area</th>\n",
              "      <td>1.000000</td>\n",
              "      <td>0.966722</td>\n",
              "      <td>0.931834</td>\n",
              "      <td>0.951602</td>\n",
              "      <td>0.241735</td>\n",
              "      <td>0.267481</td>\n",
              "      <td>0.999939</td>\n",
              "      <td>0.984968</td>\n",
              "      <td>0.054345</td>\n",
              "      <td>-0.196585</td>\n",
              "      <td>-0.357530</td>\n",
              "      <td>-0.268067</td>\n",
              "      <td>-0.847958</td>\n",
              "      <td>-0.639291</td>\n",
              "      <td>-0.272145</td>\n",
              "      <td>-0.355721</td>\n",
              "    </tr>\n",
              "    <tr>\n",
              "      <th>Perimeter</th>\n",
              "      <td>0.966722</td>\n",
              "      <td>1.000000</td>\n",
              "      <td>0.977338</td>\n",
              "      <td>0.913179</td>\n",
              "      <td>0.385276</td>\n",
              "      <td>0.391066</td>\n",
              "      <td>0.967689</td>\n",
              "      <td>0.991380</td>\n",
              "      <td>-0.021160</td>\n",
              "      <td>-0.303970</td>\n",
              "      <td>-0.547647</td>\n",
              "      <td>-0.406857</td>\n",
              "      <td>-0.864623</td>\n",
              "      <td>-0.767592</td>\n",
              "      <td>-0.408435</td>\n",
              "      <td>-0.429310</td>\n",
              "    </tr>\n",
              "    <tr>\n",
              "      <th>MajorAxisLength</th>\n",
              "      <td>0.931834</td>\n",
              "      <td>0.977338</td>\n",
              "      <td>1.000000</td>\n",
              "      <td>0.826052</td>\n",
              "      <td>0.550335</td>\n",
              "      <td>0.541972</td>\n",
              "      <td>0.932607</td>\n",
              "      <td>0.961733</td>\n",
              "      <td>-0.078062</td>\n",
              "      <td>-0.284302</td>\n",
              "      <td>-0.596358</td>\n",
              "      <td>-0.568377</td>\n",
              "      <td>-0.773609</td>\n",
              "      <td>-0.859238</td>\n",
              "      <td>-0.568185</td>\n",
              "      <td>-0.482527</td>\n",
              "    </tr>\n",
              "    <tr>\n",
              "      <th>MinorAxisLength</th>\n",
              "      <td>0.951602</td>\n",
              "      <td>0.913179</td>\n",
              "      <td>0.826052</td>\n",
              "      <td>1.000000</td>\n",
              "      <td>-0.009161</td>\n",
              "      <td>0.019574</td>\n",
              "      <td>0.951339</td>\n",
              "      <td>0.948539</td>\n",
              "      <td>0.145957</td>\n",
              "      <td>-0.155831</td>\n",
              "      <td>-0.210344</td>\n",
              "      <td>-0.015066</td>\n",
              "      <td>-0.947204</td>\n",
              "      <td>-0.471347</td>\n",
              "      <td>-0.019326</td>\n",
              "      <td>-0.263749</td>\n",
              "    </tr>\n",
              "    <tr>\n",
              "      <th>AspectRation</th>\n",
              "      <td>0.241735</td>\n",
              "      <td>0.385276</td>\n",
              "      <td>0.550335</td>\n",
              "      <td>-0.009161</td>\n",
              "      <td>1.000000</td>\n",
              "      <td>0.924293</td>\n",
              "      <td>0.243301</td>\n",
              "      <td>0.303647</td>\n",
              "      <td>-0.370184</td>\n",
              "      <td>-0.267754</td>\n",
              "      <td>-0.766979</td>\n",
              "      <td>-0.987687</td>\n",
              "      <td>0.024593</td>\n",
              "      <td>-0.837841</td>\n",
              "      <td>-0.978592</td>\n",
              "      <td>-0.449264</td>\n",
              "    </tr>\n",
              "    <tr>\n",
              "      <th>Eccentricity</th>\n",
              "      <td>0.267481</td>\n",
              "      <td>0.391066</td>\n",
              "      <td>0.541972</td>\n",
              "      <td>0.019574</td>\n",
              "      <td>0.924293</td>\n",
              "      <td>1.000000</td>\n",
              "      <td>0.269255</td>\n",
              "      <td>0.318667</td>\n",
              "      <td>-0.319362</td>\n",
              "      <td>-0.297592</td>\n",
              "      <td>-0.722272</td>\n",
              "      <td>-0.970313</td>\n",
              "      <td>0.019920</td>\n",
              "      <td>-0.860141</td>\n",
              "      <td>-0.981058</td>\n",
              "      <td>-0.449354</td>\n",
              "    </tr>\n",
              "    <tr>\n",
              "      <th>ConvexArea</th>\n",
              "      <td>0.999939</td>\n",
              "      <td>0.967689</td>\n",
              "      <td>0.932607</td>\n",
              "      <td>0.951339</td>\n",
              "      <td>0.243301</td>\n",
              "      <td>0.269255</td>\n",
              "      <td>1.000000</td>\n",
              "      <td>0.985226</td>\n",
              "      <td>0.052564</td>\n",
              "      <td>-0.206191</td>\n",
              "      <td>-0.362083</td>\n",
              "      <td>-0.269922</td>\n",
              "      <td>-0.847950</td>\n",
              "      <td>-0.640862</td>\n",
              "      <td>-0.274024</td>\n",
              "      <td>-0.362049</td>\n",
              "    </tr>\n",
              "    <tr>\n",
              "      <th>EquivDiameter</th>\n",
              "      <td>0.984968</td>\n",
              "      <td>0.991380</td>\n",
              "      <td>0.961733</td>\n",
              "      <td>0.948539</td>\n",
              "      <td>0.303647</td>\n",
              "      <td>0.318667</td>\n",
              "      <td>0.985226</td>\n",
              "      <td>1.000000</td>\n",
              "      <td>0.028383</td>\n",
              "      <td>-0.231648</td>\n",
              "      <td>-0.435945</td>\n",
              "      <td>-0.327650</td>\n",
              "      <td>-0.892741</td>\n",
              "      <td>-0.713069</td>\n",
              "      <td>-0.330389</td>\n",
              "      <td>-0.392512</td>\n",
              "    </tr>\n",
              "    <tr>\n",
              "      <th>Extent</th>\n",
              "      <td>0.054345</td>\n",
              "      <td>-0.021160</td>\n",
              "      <td>-0.078062</td>\n",
              "      <td>0.145957</td>\n",
              "      <td>-0.370184</td>\n",
              "      <td>-0.319362</td>\n",
              "      <td>0.052564</td>\n",
              "      <td>0.028383</td>\n",
              "      <td>1.000000</td>\n",
              "      <td>0.191389</td>\n",
              "      <td>0.344411</td>\n",
              "      <td>0.354212</td>\n",
              "      <td>-0.141616</td>\n",
              "      <td>0.237956</td>\n",
              "      <td>0.347624</td>\n",
              "      <td>0.148502</td>\n",
              "    </tr>\n",
              "    <tr>\n",
              "      <th>Solidity</th>\n",
              "      <td>-0.196585</td>\n",
              "      <td>-0.303970</td>\n",
              "      <td>-0.284302</td>\n",
              "      <td>-0.155831</td>\n",
              "      <td>-0.267754</td>\n",
              "      <td>-0.297592</td>\n",
              "      <td>-0.206191</td>\n",
              "      <td>-0.231648</td>\n",
              "      <td>0.191389</td>\n",
              "      <td>1.000000</td>\n",
              "      <td>0.607150</td>\n",
              "      <td>0.303766</td>\n",
              "      <td>0.153388</td>\n",
              "      <td>0.343559</td>\n",
              "      <td>0.307662</td>\n",
              "      <td>0.702163</td>\n",
              "    </tr>\n",
              "    <tr>\n",
              "      <th>roundness</th>\n",
              "      <td>-0.357530</td>\n",
              "      <td>-0.547647</td>\n",
              "      <td>-0.596358</td>\n",
              "      <td>-0.210344</td>\n",
              "      <td>-0.766979</td>\n",
              "      <td>-0.722272</td>\n",
              "      <td>-0.362083</td>\n",
              "      <td>-0.435945</td>\n",
              "      <td>0.344411</td>\n",
              "      <td>0.607150</td>\n",
              "      <td>1.000000</td>\n",
              "      <td>0.768086</td>\n",
              "      <td>0.230273</td>\n",
              "      <td>0.782824</td>\n",
              "      <td>0.763126</td>\n",
              "      <td>0.472149</td>\n",
              "    </tr>\n",
              "    <tr>\n",
              "      <th>Compactness</th>\n",
              "      <td>-0.268067</td>\n",
              "      <td>-0.406857</td>\n",
              "      <td>-0.568377</td>\n",
              "      <td>-0.015066</td>\n",
              "      <td>-0.987687</td>\n",
              "      <td>-0.970313</td>\n",
              "      <td>-0.269922</td>\n",
              "      <td>-0.327650</td>\n",
              "      <td>0.354212</td>\n",
              "      <td>0.303766</td>\n",
              "      <td>0.768086</td>\n",
              "      <td>1.000000</td>\n",
              "      <td>-0.009394</td>\n",
              "      <td>0.868939</td>\n",
              "      <td>0.998686</td>\n",
              "      <td>0.484436</td>\n",
              "    </tr>\n",
              "    <tr>\n",
              "      <th>ShapeFactor1</th>\n",
              "      <td>-0.847958</td>\n",
              "      <td>-0.864623</td>\n",
              "      <td>-0.773609</td>\n",
              "      <td>-0.947204</td>\n",
              "      <td>0.024593</td>\n",
              "      <td>0.019920</td>\n",
              "      <td>-0.847950</td>\n",
              "      <td>-0.892741</td>\n",
              "      <td>-0.141616</td>\n",
              "      <td>0.153388</td>\n",
              "      <td>0.230273</td>\n",
              "      <td>-0.009394</td>\n",
              "      <td>1.000000</td>\n",
              "      <td>0.469197</td>\n",
              "      <td>-0.008320</td>\n",
              "      <td>0.248619</td>\n",
              "    </tr>\n",
              "    <tr>\n",
              "      <th>ShapeFactor2</th>\n",
              "      <td>-0.639291</td>\n",
              "      <td>-0.767592</td>\n",
              "      <td>-0.859238</td>\n",
              "      <td>-0.471347</td>\n",
              "      <td>-0.837841</td>\n",
              "      <td>-0.860141</td>\n",
              "      <td>-0.640862</td>\n",
              "      <td>-0.713069</td>\n",
              "      <td>0.237956</td>\n",
              "      <td>0.343559</td>\n",
              "      <td>0.782824</td>\n",
              "      <td>0.868939</td>\n",
              "      <td>0.469197</td>\n",
              "      <td>1.000000</td>\n",
              "      <td>0.872971</td>\n",
              "      <td>0.529932</td>\n",
              "    </tr>\n",
              "    <tr>\n",
              "      <th>ShapeFactor3</th>\n",
              "      <td>-0.272145</td>\n",
              "      <td>-0.408435</td>\n",
              "      <td>-0.568185</td>\n",
              "      <td>-0.019326</td>\n",
              "      <td>-0.978592</td>\n",
              "      <td>-0.981058</td>\n",
              "      <td>-0.274024</td>\n",
              "      <td>-0.330389</td>\n",
              "      <td>0.347624</td>\n",
              "      <td>0.307662</td>\n",
              "      <td>0.763126</td>\n",
              "      <td>0.998686</td>\n",
              "      <td>-0.008320</td>\n",
              "      <td>0.872971</td>\n",
              "      <td>1.000000</td>\n",
              "      <td>0.484274</td>\n",
              "    </tr>\n",
              "    <tr>\n",
              "      <th>ShapeFactor4</th>\n",
              "      <td>-0.355721</td>\n",
              "      <td>-0.429310</td>\n",
              "      <td>-0.482527</td>\n",
              "      <td>-0.263749</td>\n",
              "      <td>-0.449264</td>\n",
              "      <td>-0.449354</td>\n",
              "      <td>-0.362049</td>\n",
              "      <td>-0.392512</td>\n",
              "      <td>0.148502</td>\n",
              "      <td>0.702163</td>\n",
              "      <td>0.472149</td>\n",
              "      <td>0.484436</td>\n",
              "      <td>0.248619</td>\n",
              "      <td>0.529932</td>\n",
              "      <td>0.484274</td>\n",
              "      <td>1.000000</td>\n",
              "    </tr>\n",
              "  </tbody>\n",
              "</table>\n",
              "</div>\n",
              "      <button class=\"colab-df-convert\" onclick=\"convertToInteractive('df-abe01017-effa-4394-8ab2-6c6262ccb460')\"\n",
              "              title=\"Convert this dataframe to an interactive table.\"\n",
              "              style=\"display:none;\">\n",
              "        \n",
              "  <svg xmlns=\"http://www.w3.org/2000/svg\" height=\"24px\"viewBox=\"0 0 24 24\"\n",
              "       width=\"24px\">\n",
              "    <path d=\"M0 0h24v24H0V0z\" fill=\"none\"/>\n",
              "    <path d=\"M18.56 5.44l.94 2.06.94-2.06 2.06-.94-2.06-.94-.94-2.06-.94 2.06-2.06.94zm-11 1L8.5 8.5l.94-2.06 2.06-.94-2.06-.94L8.5 2.5l-.94 2.06-2.06.94zm10 10l.94 2.06.94-2.06 2.06-.94-2.06-.94-.94-2.06-.94 2.06-2.06.94z\"/><path d=\"M17.41 7.96l-1.37-1.37c-.4-.4-.92-.59-1.43-.59-.52 0-1.04.2-1.43.59L10.3 9.45l-7.72 7.72c-.78.78-.78 2.05 0 2.83L4 21.41c.39.39.9.59 1.41.59.51 0 1.02-.2 1.41-.59l7.78-7.78 2.81-2.81c.8-.78.8-2.07 0-2.86zM5.41 20L4 18.59l7.72-7.72 1.47 1.35L5.41 20z\"/>\n",
              "  </svg>\n",
              "      </button>\n",
              "      \n",
              "  <style>\n",
              "    .colab-df-container {\n",
              "      display:flex;\n",
              "      flex-wrap:wrap;\n",
              "      gap: 12px;\n",
              "    }\n",
              "\n",
              "    .colab-df-convert {\n",
              "      background-color: #E8F0FE;\n",
              "      border: none;\n",
              "      border-radius: 50%;\n",
              "      cursor: pointer;\n",
              "      display: none;\n",
              "      fill: #1967D2;\n",
              "      height: 32px;\n",
              "      padding: 0 0 0 0;\n",
              "      width: 32px;\n",
              "    }\n",
              "\n",
              "    .colab-df-convert:hover {\n",
              "      background-color: #E2EBFA;\n",
              "      box-shadow: 0px 1px 2px rgba(60, 64, 67, 0.3), 0px 1px 3px 1px rgba(60, 64, 67, 0.15);\n",
              "      fill: #174EA6;\n",
              "    }\n",
              "\n",
              "    [theme=dark] .colab-df-convert {\n",
              "      background-color: #3B4455;\n",
              "      fill: #D2E3FC;\n",
              "    }\n",
              "\n",
              "    [theme=dark] .colab-df-convert:hover {\n",
              "      background-color: #434B5C;\n",
              "      box-shadow: 0px 1px 3px 1px rgba(0, 0, 0, 0.15);\n",
              "      filter: drop-shadow(0px 1px 2px rgba(0, 0, 0, 0.3));\n",
              "      fill: #FFFFFF;\n",
              "    }\n",
              "  </style>\n",
              "\n",
              "      <script>\n",
              "        const buttonEl =\n",
              "          document.querySelector('#df-abe01017-effa-4394-8ab2-6c6262ccb460 button.colab-df-convert');\n",
              "        buttonEl.style.display =\n",
              "          google.colab.kernel.accessAllowed ? 'block' : 'none';\n",
              "\n",
              "        async function convertToInteractive(key) {\n",
              "          const element = document.querySelector('#df-abe01017-effa-4394-8ab2-6c6262ccb460');\n",
              "          const dataTable =\n",
              "            await google.colab.kernel.invokeFunction('convertToInteractive',\n",
              "                                                     [key], {});\n",
              "          if (!dataTable) return;\n",
              "\n",
              "          const docLinkHtml = 'Like what you see? Visit the ' +\n",
              "            '<a target=\"_blank\" href=https://colab.research.google.com/notebooks/data_table.ipynb>data table notebook</a>'\n",
              "            + ' to learn more about interactive tables.';\n",
              "          element.innerHTML = '';\n",
              "          dataTable['output_type'] = 'display_data';\n",
              "          await google.colab.output.renderOutput(dataTable, element);\n",
              "          const docLink = document.createElement('div');\n",
              "          docLink.innerHTML = docLinkHtml;\n",
              "          element.appendChild(docLink);\n",
              "        }\n",
              "      </script>\n",
              "    </div>\n",
              "  </div>\n",
              "  "
            ]
          },
          "metadata": {},
          "execution_count": 63
        }
      ]
    },
    {
      "cell_type": "code",
      "source": [
        "#dica - modelo na documentação do seaborn\n",
        "mask = np.zeros_like(correlacao)\n",
        "mask[np.triu_indices_from(mask)] = True\n",
        "with sns.axes_style(\"white\"):\n",
        "    f, ax = plt.subplots(figsize=(14, 10))\n",
        "    ax = sns.heatmap(correlacao, mask=mask, vmax=.3, square=True, annot=True)"
      ],
      "metadata": {
        "id": "eLIA2QW9FC5C",
        "colab": {
          "base_uri": "https://localhost:8080/",
          "height": 689
        },
        "outputId": "92d1dea6-cfd7-4f1d-fd16-8fae7abcadf9"
      },
      "execution_count": null,
      "outputs": [
        {
          "output_type": "display_data",
          "data": {
            "text/plain": [
              "<Figure size 1008x720 with 2 Axes>"
            ],
            "image/png": "[encoded data removed]"
          },
          "metadata": {}
        }
      ]
    },
    {
      "cell_type": "code",
      "source": [
        "from sklearn.decomposition import PCA"
      ],
      "metadata": {
        "id": "1Ll1WqGqFn77"
      },
      "execution_count": null,
      "outputs": []
    },
    {
      "cell_type": "code",
      "source": [
        "#testar diferentes valores para o `n_components` -> por padrão irá testar todos os componentes se não especificar\n",
        "pca = PCA()"
      ],
      "metadata": {
        "id": "BBXaWAFoGscK"
      },
      "execution_count": null,
      "outputs": []
    },
    {
      "cell_type": "code",
      "source": [
        "pca_dados = pca.fit_transform(X_normalizado)"
      ],
      "metadata": {
        "id": "fM2Q2LFnHZDE"
      },
      "execution_count": null,
      "outputs": []
    },
    {
      "cell_type": "code",
      "source": [
        "#para sumprimir o uso de notações científicas\n",
        "np.set_printoptions(precision = 2, suppress = True)"
      ],
      "metadata": {
        "id": "Twng3UwxZM_9"
      },
      "execution_count": null,
      "outputs": []
    },
    {
      "cell_type": "code",
      "source": [
        "pca.explained_variance_"
      ],
      "metadata": {
        "id": "zBDSBa5-XUsM",
        "colab": {
          "base_uri": "https://localhost:8080/"
        },
        "outputId": "8d690b92-04f8-4c8f-c75f-a27fa04dadc5"
      },
      "execution_count": null,
      "outputs": [
        {
          "output_type": "execute_result",
          "data": {
            "text/plain": [
              "array([8.88, 4.23, 1.28, 0.82, 0.44, 0.18, 0.11, 0.05, 0.01, 0.  , 0.  ,\n",
              "       0.  , 0.  , 0.  , 0.  , 0.  ])"
            ]
          },
          "metadata": {},
          "execution_count": 70
        }
      ]
    },
    {
      "cell_type": "code",
      "source": [
        "#percentual da variancia explicada\n",
        "variancia_explicada = np.around(pca.explained_variance_ratio_, 2)*100"
      ],
      "metadata": {
        "id": "uMdRcmZlXuAs"
      },
      "execution_count": null,
      "outputs": []
    },
    {
      "cell_type": "code",
      "source": [
        "variancia_explicada"
      ],
      "metadata": {
        "colab": {
          "base_uri": "https://localhost:8080/"
        },
        "id": "PdRJr1qNoNQR",
        "outputId": "511f7e9c-7a34-4125-81a0-e9830bee193e"
      },
      "execution_count": null,
      "outputs": [
        {
          "output_type": "execute_result",
          "data": {
            "text/plain": [
              "array([55., 26.,  8.,  5.,  3.,  1.,  1.,  0.,  0.,  0.,  0.,  0.,  0.,\n",
              "        0.,  0.,  0.])"
            ]
          },
          "metadata": {},
          "execution_count": 72
        }
      ]
    },
    {
      "cell_type": "markdown",
      "source": [
        "### Vídeo 4.4 - Simulando PCA nos dados com 3 componentes"
      ],
      "metadata": {
        "id": "E0pk6_enxpxq"
      }
    },
    {
      "cell_type": "code",
      "source": [
        "#utilizando 3 componentes que melhor explicam os dados\n",
        "pca_2 = PCA(n_components=3)\n",
        "pca_dados_2 = pca_2.fit_transform(X_normalizado)"
      ],
      "metadata": {
        "id": "vPQ7H8STaQkW"
      },
      "execution_count": null,
      "outputs": []
    },
    {
      "cell_type": "code",
      "source": [
        "#Elbow method\n",
        "kmeans_dadospca_elbow = KMeans(random_state=42)\n",
        "\n",
        "grafico = KElbowVisualizer(kmeans_dadospca_elbow, k=(2,8))\n",
        "grafico.fit(pca_dados_2)        \n",
        "grafico.show() "
      ],
      "metadata": {
        "colab": {
          "base_uri": "https://localhost:8080/",
          "height": 433
        },
        "id": "pgJklQfbyyT6",
        "outputId": "dddfb1d1-4cf4-4054-fe97-91dc396f9a0c"
      },
      "execution_count": null,
      "outputs": [
        {
          "output_type": "display_data",
          "data": {
            "text/plain": [
              "<Figure size 648x432 with 2 Axes>"
            ],
            "image/png": "[encoded data removed]"
          },
          "metadata": {}
        },
        {
          "output_type": "execute_result",
          "data": {
            "text/plain": [
              "<matplotlib.axes._subplots.AxesSubplot at 0x7f1d4f3b1250>"
            ]
          },
          "metadata": {},
          "execution_count": 81
        }
      ]
    },
    {
      "cell_type": "code",
      "source": [
        "#K-means\n",
        "kmeans_dados_pca = KMeans(n_clusters=4, random_state=42)\n",
        "rotulos_kmeans_pca = kmeans_dados_pca.fit_predict(pca_dados_2)"
      ],
      "metadata": {
        "id": "XlO4ZARexvMT"
      },
      "execution_count": null,
      "outputs": []
    },
    {
      "cell_type": "code",
      "source": [
        "sns.set(style='white', rc={'figure.figsize':(9,6)}, font_scale=1.1)\n",
        "\n",
        "plt.scatter(x=pca_dados_2[:, 0], y=pca_dados_2[:, 1], c=rotulos_kmeans_pca, cmap='viridis')\n",
        "plt.xlabel(f'Principal Component 1 {variancia_explicada[0]}%')\n",
        "plt.ylabel(f'Principal Component 2 {variancia_explicada[1]}%')\n",
        "plt.title('Dados representados por 2 componentes principais', fontweight='bold')\n",
        "plt.show()"
      ],
      "metadata": {
        "id": "0Z3g5mAnLF1R",
        "colab": {
          "base_uri": "https://localhost:8080/",
          "height": 416
        },
        "outputId": "eebf8174-9c81-4dce-951e-f7e06ef06275"
      },
      "execution_count": null,
      "outputs": [
        {
          "output_type": "display_data",
          "data": {
            "text/plain": [
              "<Figure size 648x432 with 1 Axes>"
            ],
            "image/png": "[encoded data removed]"
          },
          "metadata": {}
        }
      ]
    }
  ]
}